{
 "cells": [
  {
   "cell_type": "markdown",
   "metadata": {
    "collapsed": true,
    "nbpresent": {
     "id": "8eb85fa8-f53c-4140-b557-a7de5d68d0f9"
    },
    "slideshow": {
     "slide_type": "slide"
    }
   },
   "source": [
    "# 课程目标对象\n",
    "\n",
    "+ 想要从事数据科学的人员\n",
    "+ 数据分析人员\n",
    "+ 产品经理\n",
    "+ 网站运维\n",
    "+ 呼叫中心管理人员\n",
    "+ 电商运营人员\n",
    "+ 需要利用数据进行决策的人员\n"
   ]
  },
  {
   "cell_type": "markdown",
   "metadata": {
    "slideshow": {
     "slide_type": "slide"
    }
   },
   "source": [
    "# 课程内容\n",
    "\n",
    "+ Introduction\n",
    "+ Pandas基础\n",
    "+ 数据获取\n",
    "+ 数据清洗\n",
    "+ 数据整理\n",
    "+ 数据探索\n",
    "+ 数据洞察力"
   ]
  },
  {
   "cell_type": "code",
   "execution_count": null,
   "metadata": {
    "collapsed": true,
    "slideshow": {
     "slide_type": "slide"
    }
   },
   "outputs": [],
   "source": []
  }
 ],
 "metadata": {
  "anaconda-cloud": {},
  "celltoolbar": "Slideshow",
  "kernelspec": {
   "display_name": "Python [conda env:py35]",
   "language": "python",
   "name": "conda-env-py35-py"
  },
  "language_info": {
   "codemirror_mode": {
    "name": "ipython",
    "version": 3
   },
   "file_extension": ".py",
   "mimetype": "text/x-python",
   "name": "python",
   "nbconvert_exporter": "python",
   "pygments_lexer": "ipython3",
   "version": "3.5.2"
  },
  "nbpresent": {
   "slides": {},
   "themes": {}
  }
 },
 "nbformat": 4,
 "nbformat_minor": 1
}
