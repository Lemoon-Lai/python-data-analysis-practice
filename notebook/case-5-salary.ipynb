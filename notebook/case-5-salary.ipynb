{
 "cells": [
  {
   "cell_type": "code",
   "execution_count": 29,
   "metadata": {
    "collapsed": true
   },
   "outputs": [],
   "source": [
    "import numpy as np\n",
    "import pandas as pd\n",
    "import matplotlib.pyplot as plt\n",
    "%matplotlib inline\n",
    "# sort the data\n",
    "pd.set_option('display.max_rows', 10)"
   ]
  },
  {
   "cell_type": "markdown",
   "metadata": {},
   "source": [
    "# load data"
   ]
  },
  {
   "cell_type": "markdown",
   "metadata": {},
   "source": [
    "http://catalog.data.gov/dataset/baltimore-city-employee-salaries-fy2016\n"
   ]
  },
  {
   "cell_type": "code",
   "execution_count": 2,
   "metadata": {
    "collapsed": true
   },
   "outputs": [],
   "source": [
    "data=pd.read_csv('../data/Baltimore_City_Employee_Salaries_FY2016.csv')"
   ]
  },
  {
   "cell_type": "markdown",
   "metadata": {},
   "source": [
    "    import requests  \n",
    "    import StringIO as StringIO  \n",
    "    url = \"https://data.baltimorecity.gov/api/views/65ac-s4v5/rows.csv?accessType=DOWNLOAD\"  \n",
    "    r = requests.get(url)  \n",
    "    data = StringIO.StringIO(r.content)  \n",
    "    data = pd.read_csv(data,header=0)  "
   ]
  },
  {
   "cell_type": "code",
   "execution_count": 3,
   "metadata": {
    "collapsed": false,
    "scrolled": true
   },
   "outputs": [
    {
     "data": {
      "text/html": [
       "<div>\n",
       "<table border=\"1\" class=\"dataframe\">\n",
       "  <thead>\n",
       "    <tr style=\"text-align: right;\">\n",
       "      <th></th>\n",
       "      <th>Name</th>\n",
       "      <th>JobTitle</th>\n",
       "      <th>AgencyID</th>\n",
       "      <th>Agency</th>\n",
       "      <th>HireDate</th>\n",
       "      <th>AnnualSalary</th>\n",
       "      <th>GrossPay</th>\n",
       "    </tr>\n",
       "  </thead>\n",
       "  <tbody>\n",
       "    <tr>\n",
       "      <th>0</th>\n",
       "      <td>Aaron,Patricia G</td>\n",
       "      <td>Facilities/Office Services II</td>\n",
       "      <td>A03031</td>\n",
       "      <td>OED-Employment Dev (031)</td>\n",
       "      <td>10/24/1979 12:00:00 AM</td>\n",
       "      <td>$56705.00</td>\n",
       "      <td>$54135.44</td>\n",
       "    </tr>\n",
       "    <tr>\n",
       "      <th>1</th>\n",
       "      <td>Aaron,Petra L</td>\n",
       "      <td>ASSISTANT STATE'S ATTORNEY</td>\n",
       "      <td>A29045</td>\n",
       "      <td>States Attorneys Office (045)</td>\n",
       "      <td>09/25/2006 12:00:00 AM</td>\n",
       "      <td>$75500.00</td>\n",
       "      <td>$72445.87</td>\n",
       "    </tr>\n",
       "    <tr>\n",
       "      <th>2</th>\n",
       "      <td>Abbey,Emmanuel</td>\n",
       "      <td>CONTRACT SERV SPEC II</td>\n",
       "      <td>A40001</td>\n",
       "      <td>M-R Info Technology (001)</td>\n",
       "      <td>05/01/2013 12:00:00 AM</td>\n",
       "      <td>$60060.00</td>\n",
       "      <td>$59602.58</td>\n",
       "    </tr>\n",
       "    <tr>\n",
       "      <th>3</th>\n",
       "      <td>Abbott-Cole,Michelle</td>\n",
       "      <td>Operations Officer III</td>\n",
       "      <td>A90005</td>\n",
       "      <td>TRANS-Traffic (005)</td>\n",
       "      <td>11/28/2014 12:00:00 AM</td>\n",
       "      <td>$70000.00</td>\n",
       "      <td>$59517.21</td>\n",
       "    </tr>\n",
       "    <tr>\n",
       "      <th>4</th>\n",
       "      <td>Abdal-Rahim,Naim A</td>\n",
       "      <td>EMT Firefighter Suppression</td>\n",
       "      <td>A64120</td>\n",
       "      <td>Fire Department (120)</td>\n",
       "      <td>03/30/2011 12:00:00 AM</td>\n",
       "      <td>$64365.00</td>\n",
       "      <td>$74770.82</td>\n",
       "    </tr>\n",
       "  </tbody>\n",
       "</table>\n",
       "</div>"
      ],
      "text/plain": [
       "                   Name                       JobTitle AgencyID  \\\n",
       "0      Aaron,Patricia G  Facilities/Office Services II   A03031   \n",
       "1         Aaron,Petra L     ASSISTANT STATE'S ATTORNEY   A29045   \n",
       "2        Abbey,Emmanuel          CONTRACT SERV SPEC II   A40001   \n",
       "3  Abbott-Cole,Michelle         Operations Officer III   A90005   \n",
       "4    Abdal-Rahim,Naim A    EMT Firefighter Suppression   A64120   \n",
       "\n",
       "                          Agency                HireDate AnnualSalary  \\\n",
       "0       OED-Employment Dev (031)  10/24/1979 12:00:00 AM    $56705.00   \n",
       "1  States Attorneys Office (045)  09/25/2006 12:00:00 AM    $75500.00   \n",
       "2      M-R Info Technology (001)  05/01/2013 12:00:00 AM    $60060.00   \n",
       "3            TRANS-Traffic (005)  11/28/2014 12:00:00 AM    $70000.00   \n",
       "4          Fire Department (120)  03/30/2011 12:00:00 AM    $64365.00   \n",
       "\n",
       "    GrossPay  \n",
       "0  $54135.44  \n",
       "1  $72445.87  \n",
       "2  $59602.58  \n",
       "3  $59517.21  \n",
       "4  $74770.82  "
      ]
     },
     "execution_count": 3,
     "metadata": {},
     "output_type": "execute_result"
    }
   ],
   "source": [
    "data.head()"
   ]
  },
  {
   "cell_type": "code",
   "execution_count": 6,
   "metadata": {
    "collapsed": false
   },
   "outputs": [
    {
     "data": {
      "text/plain": [
       "0    56705.00\n",
       "1    75500.00\n",
       "2    60060.00\n",
       "3    70000.00\n",
       "4    64365.00\n",
       "Name: AnnualSalary, dtype: object"
      ]
     },
     "execution_count": 6,
     "metadata": {},
     "output_type": "execute_result"
    }
   ],
   "source": [
    "data['AnnualSalary']=data['AnnualSalary'].str.lstrip('$')\n",
    "data['AnnualSalary'].head()"
   ]
  },
  {
   "cell_type": "code",
   "execution_count": 5,
   "metadata": {
    "collapsed": false
   },
   "outputs": [
    {
     "name": "stdout",
     "output_type": "stream",
     "text": [
      "<class 'str'>\n"
     ]
    }
   ],
   "source": [
    "print(type(data['AnnualSalary'][0]))"
   ]
  },
  {
   "cell_type": "code",
   "execution_count": 7,
   "metadata": {
    "collapsed": false
   },
   "outputs": [
    {
     "name": "stdout",
     "output_type": "stream",
     "text": [
      "<class 'numpy.float64'>\n"
     ]
    }
   ],
   "source": [
    "data['AnnualSalary']=data['AnnualSalary'].astype(float)\n",
    "print(type(data['AnnualSalary'][0]))"
   ]
  },
  {
   "cell_type": "markdown",
   "metadata": {},
   "source": [
    "# group/aggregate"
   ]
  },
  {
   "cell_type": "code",
   "execution_count": 11,
   "metadata": {
    "collapsed": false
   },
   "outputs": [
    {
     "data": {
      "text/plain": [
       "<pandas.core.groupby.SeriesGroupBy object at 0x00000000096DBA58>"
      ]
     },
     "execution_count": 11,
     "metadata": {},
     "output_type": "execute_result"
    }
   ],
   "source": [
    "grouped=data.groupby(['JobTitle'])['AnnualSalary']\n",
    "grouped"
   ]
  },
  {
   "cell_type": "code",
   "execution_count": 21,
   "metadata": {
    "collapsed": false
   },
   "outputs": [
    {
     "data": {
      "text/html": [
       "<div>\n",
       "<table border=\"1\" class=\"dataframe\">\n",
       "  <thead>\n",
       "    <tr style=\"text-align: right;\">\n",
       "      <th></th>\n",
       "      <th>sum</th>\n",
       "      <th>mean</th>\n",
       "      <th>std</th>\n",
       "      <th>size</th>\n",
       "      <th>amin</th>\n",
       "      <th>amax</th>\n",
       "    </tr>\n",
       "    <tr>\n",
       "      <th>JobTitle</th>\n",
       "      <th></th>\n",
       "      <th></th>\n",
       "      <th></th>\n",
       "      <th></th>\n",
       "      <th></th>\n",
       "      <th></th>\n",
       "    </tr>\n",
       "  </thead>\n",
       "  <tbody>\n",
       "    <tr>\n",
       "      <th>911 LEAD OPERATOR</th>\n",
       "      <td>199267.0</td>\n",
       "      <td>49816.750000</td>\n",
       "      <td>690.500000</td>\n",
       "      <td>4.0</td>\n",
       "      <td>48781.0</td>\n",
       "      <td>50162.0</td>\n",
       "    </tr>\n",
       "    <tr>\n",
       "      <th>911 OPERATOR</th>\n",
       "      <td>2913915.0</td>\n",
       "      <td>44829.461538</td>\n",
       "      <td>4145.426954</td>\n",
       "      <td>65.0</td>\n",
       "      <td>36681.0</td>\n",
       "      <td>50829.0</td>\n",
       "    </tr>\n",
       "    <tr>\n",
       "      <th>911 OPERATOR SUPERVISOR</th>\n",
       "      <td>228814.0</td>\n",
       "      <td>57203.500000</td>\n",
       "      <td>751.000000</td>\n",
       "      <td>4.0</td>\n",
       "      <td>56077.0</td>\n",
       "      <td>57579.0</td>\n",
       "    </tr>\n",
       "    <tr>\n",
       "      <th>ACCOUNT EXECUTIVE</th>\n",
       "      <td>228800.0</td>\n",
       "      <td>57200.000000</td>\n",
       "      <td>0.000000</td>\n",
       "      <td>4.0</td>\n",
       "      <td>57200.0</td>\n",
       "      <td>57200.0</td>\n",
       "    </tr>\n",
       "    <tr>\n",
       "      <th>ACCOUNTANT I</th>\n",
       "      <td>735988.0</td>\n",
       "      <td>49065.866667</td>\n",
       "      <td>3918.451277</td>\n",
       "      <td>15.0</td>\n",
       "      <td>41326.0</td>\n",
       "      <td>57579.0</td>\n",
       "    </tr>\n",
       "  </tbody>\n",
       "</table>\n",
       "</div>"
      ],
      "text/plain": [
       "                               sum          mean          std  size     amin  \\\n",
       "JobTitle                                                                       \n",
       "911 LEAD OPERATOR         199267.0  49816.750000   690.500000   4.0  48781.0   \n",
       "911 OPERATOR             2913915.0  44829.461538  4145.426954  65.0  36681.0   \n",
       "911 OPERATOR SUPERVISOR   228814.0  57203.500000   751.000000   4.0  56077.0   \n",
       "ACCOUNT EXECUTIVE         228800.0  57200.000000     0.000000   4.0  57200.0   \n",
       "ACCOUNTANT I              735988.0  49065.866667  3918.451277  15.0  41326.0   \n",
       "\n",
       "                            amax  \n",
       "JobTitle                          \n",
       "911 LEAD OPERATOR        50162.0  \n",
       "911 OPERATOR             50829.0  \n",
       "911 OPERATOR SUPERVISOR  57579.0  \n",
       "ACCOUNT EXECUTIVE        57200.0  \n",
       "ACCOUNTANT I             57579.0  "
      ]
     },
     "execution_count": 21,
     "metadata": {},
     "output_type": "execute_result"
    }
   ],
   "source": [
    "aggregated=grouped.agg([np.sum,np.mean,np.std,np.size,np.min,np.max])\n",
    "aggregated.head()"
   ]
  },
  {
   "cell_type": "code",
   "execution_count": 22,
   "metadata": {
    "collapsed": false
   },
   "outputs": [
    {
     "data": {
      "text/html": [
       "<div>\n",
       "<table border=\"1\" class=\"dataframe\">\n",
       "  <thead>\n",
       "    <tr style=\"text-align: right;\">\n",
       "      <th></th>\n",
       "      <th>sum</th>\n",
       "      <th>mean</th>\n",
       "      <th>std</th>\n",
       "      <th>size</th>\n",
       "      <th>amin</th>\n",
       "      <th>amax</th>\n",
       "    </tr>\n",
       "    <tr>\n",
       "      <th>JobTitle</th>\n",
       "      <th></th>\n",
       "      <th></th>\n",
       "      <th></th>\n",
       "      <th></th>\n",
       "      <th></th>\n",
       "      <th></th>\n",
       "    </tr>\n",
       "  </thead>\n",
       "  <tbody>\n",
       "    <tr>\n",
       "      <th>STATE'S ATTORNEY</th>\n",
       "      <td>238772.0</td>\n",
       "      <td>238772.000000</td>\n",
       "      <td>NaN</td>\n",
       "      <td>1.0</td>\n",
       "      <td>238772.0</td>\n",
       "      <td>238772.0</td>\n",
       "    </tr>\n",
       "    <tr>\n",
       "      <th>Executive Director III</th>\n",
       "      <td>1713065.0</td>\n",
       "      <td>171306.500000</td>\n",
       "      <td>20577.730148</td>\n",
       "      <td>10.0</td>\n",
       "      <td>140800.0</td>\n",
       "      <td>204000.0</td>\n",
       "    </tr>\n",
       "    <tr>\n",
       "      <th>Police Commissioner</th>\n",
       "      <td>200000.0</td>\n",
       "      <td>200000.000000</td>\n",
       "      <td>NaN</td>\n",
       "      <td>1.0</td>\n",
       "      <td>200000.0</td>\n",
       "      <td>200000.0</td>\n",
       "    </tr>\n",
       "    <tr>\n",
       "      <th>CONTRACT SERV SPEC II</th>\n",
       "      <td>8527323.0</td>\n",
       "      <td>59217.520833</td>\n",
       "      <td>30066.705518</td>\n",
       "      <td>144.0</td>\n",
       "      <td>17160.0</td>\n",
       "      <td>187200.0</td>\n",
       "    </tr>\n",
       "    <tr>\n",
       "      <th>Executive Director V</th>\n",
       "      <td>182500.0</td>\n",
       "      <td>182500.000000</td>\n",
       "      <td>NaN</td>\n",
       "      <td>1.0</td>\n",
       "      <td>182500.0</td>\n",
       "      <td>182500.0</td>\n",
       "    </tr>\n",
       "    <tr>\n",
       "      <th>MAYOR</th>\n",
       "      <td>171635.0</td>\n",
       "      <td>171635.000000</td>\n",
       "      <td>NaN</td>\n",
       "      <td>1.0</td>\n",
       "      <td>171635.0</td>\n",
       "      <td>171635.0</td>\n",
       "    </tr>\n",
       "    <tr>\n",
       "      <th>DIRECTOR PUBLIC WORKS</th>\n",
       "      <td>169800.0</td>\n",
       "      <td>169800.000000</td>\n",
       "      <td>NaN</td>\n",
       "      <td>1.0</td>\n",
       "      <td>169800.0</td>\n",
       "      <td>169800.0</td>\n",
       "    </tr>\n",
       "    <tr>\n",
       "      <th>CITY SOLICITOR</th>\n",
       "      <td>169800.0</td>\n",
       "      <td>169800.000000</td>\n",
       "      <td>NaN</td>\n",
       "      <td>1.0</td>\n",
       "      <td>169800.0</td>\n",
       "      <td>169800.0</td>\n",
       "    </tr>\n",
       "    <tr>\n",
       "      <th>Executive Director IV</th>\n",
       "      <td>599300.0</td>\n",
       "      <td>149825.000000</td>\n",
       "      <td>12614.640965</td>\n",
       "      <td>4.0</td>\n",
       "      <td>139500.0</td>\n",
       "      <td>167900.0</td>\n",
       "    </tr>\n",
       "    <tr>\n",
       "      <th>Executive Director I</th>\n",
       "      <td>615620.0</td>\n",
       "      <td>153905.000000</td>\n",
       "      <td>14975.049249</td>\n",
       "      <td>4.0</td>\n",
       "      <td>132600.0</td>\n",
       "      <td>166320.0</td>\n",
       "    </tr>\n",
       "  </tbody>\n",
       "</table>\n",
       "</div>"
      ],
      "text/plain": [
       "                              sum           mean           std   size  \\\n",
       "JobTitle                                                                \n",
       "STATE'S ATTORNEY         238772.0  238772.000000           NaN    1.0   \n",
       "Executive Director III  1713065.0  171306.500000  20577.730148   10.0   \n",
       "Police Commissioner      200000.0  200000.000000           NaN    1.0   \n",
       "CONTRACT SERV SPEC II   8527323.0   59217.520833  30066.705518  144.0   \n",
       "Executive Director V     182500.0  182500.000000           NaN    1.0   \n",
       "MAYOR                    171635.0  171635.000000           NaN    1.0   \n",
       "DIRECTOR PUBLIC WORKS    169800.0  169800.000000           NaN    1.0   \n",
       "CITY SOLICITOR           169800.0  169800.000000           NaN    1.0   \n",
       "Executive Director IV    599300.0  149825.000000  12614.640965    4.0   \n",
       "Executive Director I     615620.0  153905.000000  14975.049249    4.0   \n",
       "\n",
       "                            amin      amax  \n",
       "JobTitle                                    \n",
       "STATE'S ATTORNEY        238772.0  238772.0  \n",
       "Executive Director III  140800.0  204000.0  \n",
       "Police Commissioner     200000.0  200000.0  \n",
       "CONTRACT SERV SPEC II    17160.0  187200.0  \n",
       "Executive Director V    182500.0  182500.0  \n",
       "MAYOR                   171635.0  171635.0  \n",
       "DIRECTOR PUBLIC WORKS   169800.0  169800.0  \n",
       "CITY SOLICITOR          169800.0  169800.0  \n",
       "Executive Director IV   139500.0  167900.0  \n",
       "Executive Director I    132600.0  166320.0  "
      ]
     },
     "execution_count": 22,
     "metadata": {},
     "output_type": "execute_result"
    }
   ],
   "source": [
    "output=aggregated.sort_values(['amax'],ascending=False)\n",
    "output.head(10) #Attorney最高哦...\n"
   ]
  },
  {
   "cell_type": "markdown",
   "metadata": {},
   "source": [
    "## 总和"
   ]
  },
  {
   "cell_type": "code",
   "execution_count": 24,
   "metadata": {
    "collapsed": false
   },
   "outputs": [
    {
     "data": {
      "text/html": [
       "<div>\n",
       "<table border=\"1\" class=\"dataframe\">\n",
       "  <thead>\n",
       "    <tr style=\"text-align: right;\">\n",
       "      <th></th>\n",
       "      <th>sum</th>\n",
       "      <th>mean</th>\n",
       "      <th>std</th>\n",
       "      <th>size</th>\n",
       "      <th>amin</th>\n",
       "      <th>amax</th>\n",
       "    </tr>\n",
       "    <tr>\n",
       "      <th>JobTitle</th>\n",
       "      <th></th>\n",
       "      <th></th>\n",
       "      <th></th>\n",
       "      <th></th>\n",
       "      <th></th>\n",
       "      <th></th>\n",
       "    </tr>\n",
       "  </thead>\n",
       "  <tbody>\n",
       "    <tr>\n",
       "      <th>POLICE OFFICER</th>\n",
       "      <td>123770248.0</td>\n",
       "      <td>70404.009101</td>\n",
       "      <td>10483.930680</td>\n",
       "      <td>1758.0</td>\n",
       "      <td>48971.0</td>\n",
       "      <td>83881.0</td>\n",
       "    </tr>\n",
       "    <tr>\n",
       "      <th>EMT Firefighter Suppression</th>\n",
       "      <td>22354519.0</td>\n",
       "      <td>63688.088319</td>\n",
       "      <td>4651.674738</td>\n",
       "      <td>351.0</td>\n",
       "      <td>47475.0</td>\n",
       "      <td>75197.0</td>\n",
       "    </tr>\n",
       "    <tr>\n",
       "      <th>POLICE SERGEANT</th>\n",
       "      <td>21464803.0</td>\n",
       "      <td>91339.587234</td>\n",
       "      <td>5155.807547</td>\n",
       "      <td>235.0</td>\n",
       "      <td>77384.0</td>\n",
       "      <td>97309.0</td>\n",
       "    </tr>\n",
       "    <tr>\n",
       "      <th>POLICE OFFICER (EID)</th>\n",
       "      <td>18849786.0</td>\n",
       "      <td>75098.749004</td>\n",
       "      <td>6500.581964</td>\n",
       "      <td>251.0</td>\n",
       "      <td>50815.0</td>\n",
       "      <td>85906.0</td>\n",
       "    </tr>\n",
       "    <tr>\n",
       "      <th>LABORER (Hourly)</th>\n",
       "      <td>17232425.0</td>\n",
       "      <td>31274.818512</td>\n",
       "      <td>1354.557537</td>\n",
       "      <td>551.0</td>\n",
       "      <td>29453.0</td>\n",
       "      <td>35609.0</td>\n",
       "    </tr>\n",
       "    <tr>\n",
       "      <th>ASSISTANT STATE'S ATTORNEY</th>\n",
       "      <td>11795538.0</td>\n",
       "      <td>75130.815287</td>\n",
       "      <td>11682.941916</td>\n",
       "      <td>157.0</td>\n",
       "      <td>64600.0</td>\n",
       "      <td>102200.0</td>\n",
       "    </tr>\n",
       "    <tr>\n",
       "      <th>OFFICE SUPPORT SPECIALIST III</th>\n",
       "      <td>10774681.0</td>\n",
       "      <td>35560.003300</td>\n",
       "      <td>2899.921128</td>\n",
       "      <td>303.0</td>\n",
       "      <td>29672.0</td>\n",
       "      <td>45057.0</td>\n",
       "    </tr>\n",
       "    <tr>\n",
       "      <th>Fire Lieutenant Suppression</th>\n",
       "      <td>10102557.0</td>\n",
       "      <td>82807.844262</td>\n",
       "      <td>4390.203294</td>\n",
       "      <td>122.0</td>\n",
       "      <td>73821.0</td>\n",
       "      <td>86247.0</td>\n",
       "    </tr>\n",
       "    <tr>\n",
       "      <th>RECREATION ARTS INSTRUCTOR</th>\n",
       "      <td>9712520.0</td>\n",
       "      <td>24776.836735</td>\n",
       "      <td>5555.508885</td>\n",
       "      <td>392.0</td>\n",
       "      <td>17160.0</td>\n",
       "      <td>41600.0</td>\n",
       "    </tr>\n",
       "    <tr>\n",
       "      <th>Firefighter/Paramedic Suppress</th>\n",
       "      <td>9113087.0</td>\n",
       "      <td>69038.537879</td>\n",
       "      <td>2119.492768</td>\n",
       "      <td>132.0</td>\n",
       "      <td>63914.0</td>\n",
       "      <td>77305.0</td>\n",
       "    </tr>\n",
       "  </tbody>\n",
       "</table>\n",
       "</div>"
      ],
      "text/plain": [
       "                                        sum          mean           std  \\\n",
       "JobTitle                                                                  \n",
       "POLICE OFFICER                  123770248.0  70404.009101  10483.930680   \n",
       "EMT Firefighter Suppression      22354519.0  63688.088319   4651.674738   \n",
       "POLICE SERGEANT                  21464803.0  91339.587234   5155.807547   \n",
       "POLICE OFFICER (EID)             18849786.0  75098.749004   6500.581964   \n",
       "LABORER (Hourly)                 17232425.0  31274.818512   1354.557537   \n",
       "ASSISTANT STATE'S ATTORNEY       11795538.0  75130.815287  11682.941916   \n",
       "OFFICE SUPPORT SPECIALIST III    10774681.0  35560.003300   2899.921128   \n",
       "Fire Lieutenant Suppression      10102557.0  82807.844262   4390.203294   \n",
       "RECREATION ARTS INSTRUCTOR        9712520.0  24776.836735   5555.508885   \n",
       "Firefighter/Paramedic Suppress    9113087.0  69038.537879   2119.492768   \n",
       "\n",
       "                                  size     amin      amax  \n",
       "JobTitle                                                   \n",
       "POLICE OFFICER                  1758.0  48971.0   83881.0  \n",
       "EMT Firefighter Suppression      351.0  47475.0   75197.0  \n",
       "POLICE SERGEANT                  235.0  77384.0   97309.0  \n",
       "POLICE OFFICER (EID)             251.0  50815.0   85906.0  \n",
       "LABORER (Hourly)                 551.0  29453.0   35609.0  \n",
       "ASSISTANT STATE'S ATTORNEY       157.0  64600.0  102200.0  \n",
       "OFFICE SUPPORT SPECIALIST III    303.0  29672.0   45057.0  \n",
       "Fire Lieutenant Suppression      122.0  73821.0   86247.0  \n",
       "RECREATION ARTS INSTRUCTOR       392.0  17160.0   41600.0  \n",
       "Firefighter/Paramedic Suppress   132.0  63914.0   77305.0  "
      ]
     },
     "execution_count": 24,
     "metadata": {},
     "output_type": "execute_result"
    }
   ],
   "source": [
    "output = aggregated.sort_values(['sum','size'],ascending=[False,True])\n",
    "output.head(10) #police 最多"
   ]
  },
  {
   "cell_type": "code",
   "execution_count": 26,
   "metadata": {
    "collapsed": false
   },
   "outputs": [],
   "source": [
    "aggregated = grouped.agg([np.sum])\n",
    "output = aggregated.sort_values(['sum'],ascending=False)\n",
    "output = output.head(10)\n",
    "output.rename(columns={'sum': 'Salary'}, inplace=True)"
   ]
  },
  {
   "cell_type": "code",
   "execution_count": 30,
   "metadata": {
    "collapsed": false
   },
   "outputs": [
    {
     "data": {
      "image/png": "[encoded data removed]",
      "text/plain": [
       "<matplotlib.figure.Figure at 0x997c550>"
      ]
     },
     "metadata": {},
     "output_type": "display_data"
    }
   ],
   "source": [
    "from matplotlib.ticker import FormatStrFormatter\n",
    "\n",
    "myplot = output.plot(kind='bar',title='Baltimore Total Annual Salary by Job Title - 2016')\n",
    "myplot.set_ylabel('$')\n",
    "myplot.yaxis.set_major_formatter(FormatStrFormatter('%d'))"
   ]
  },
  {
   "cell_type": "code",
   "execution_count": null,
   "metadata": {
    "collapsed": true
   },
   "outputs": [],
   "source": []
  }
 ],
 "metadata": {
  "anaconda-cloud": {},
  "kernelspec": {
   "display_name": "Python [default]",
   "language": "python",
   "name": "python3"
  },
  "language_info": {
   "codemirror_mode": {
    "name": "ipython",
    "version": 3
   },
   "file_extension": ".py",
   "mimetype": "text/x-python",
   "name": "python",
   "nbconvert_exporter": "python",
   "pygments_lexer": "ipython3",
   "version": "3.5.2"
  }
 },
 "nbformat": 4,
 "nbformat_minor": 0
}
