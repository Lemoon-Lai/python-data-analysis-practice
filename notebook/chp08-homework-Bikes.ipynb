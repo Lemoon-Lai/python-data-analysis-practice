{
 "cells": [
  {
   "cell_type": "code",
   "execution_count": 1,
   "metadata": {
    "collapsed": false
   },
   "outputs": [],
   "source": [
    "import pandas as pd\n",
    "import matplotlib.pyplot as plt\n",
    "%matplotlib inline"
   ]
  },
  {
   "cell_type": "code",
   "execution_count": 2,
   "metadata": {
    "collapsed": false
   },
   "outputs": [
    {
     "data": {
      "text/html": [
       "<div>\n",
       "<table border=\"1\" class=\"dataframe\">\n",
       "  <thead>\n",
       "    <tr style=\"text-align: right;\">\n",
       "      <th></th>\n",
       "      <th>DC_NUM</th>\n",
       "      <th>DC_KEY</th>\n",
       "      <th>LOCATION_B</th>\n",
       "      <th>THEFT_DATE</th>\n",
       "      <th>THEFT_YEAR</th>\n",
       "      <th>DC_DIST</th>\n",
       "      <th>STOLEN_VAL</th>\n",
       "      <th>THEFT_HOUR</th>\n",
       "      <th>UCR</th>\n",
       "      <th>LAT</th>\n",
       "      <th>LNG</th>\n",
       "    </tr>\n",
       "  </thead>\n",
       "  <tbody>\n",
       "    <tr>\n",
       "      <th>0</th>\n",
       "      <td>14848</td>\n",
       "      <td>2.010010e+11</td>\n",
       "      <td>2100 BLOCK S BROAD ST</td>\n",
       "      <td>4/16/2010</td>\n",
       "      <td>2010</td>\n",
       "      <td>1</td>\n",
       "      <td>150</td>\n",
       "      <td>0</td>\n",
       "      <td>625</td>\n",
       "      <td>39.924273</td>\n",
       "      <td>-75.169775</td>\n",
       "    </tr>\n",
       "    <tr>\n",
       "      <th>1</th>\n",
       "      <td>16330</td>\n",
       "      <td>2.010010e+11</td>\n",
       "      <td>S 2100 MCKEAN ST</td>\n",
       "      <td>4/24/2010</td>\n",
       "      <td>2010</td>\n",
       "      <td>1</td>\n",
       "      <td>215</td>\n",
       "      <td>17</td>\n",
       "      <td>615</td>\n",
       "      <td>39.927074</td>\n",
       "      <td>-75.180905</td>\n",
       "    </tr>\n",
       "    <tr>\n",
       "      <th>2</th>\n",
       "      <td>23568</td>\n",
       "      <td>2.010010e+11</td>\n",
       "      <td>2700 BLOCK SNYDER AVE</td>\n",
       "      <td>6/6/2010</td>\n",
       "      <td>2010</td>\n",
       "      <td>1</td>\n",
       "      <td>120</td>\n",
       "      <td>11</td>\n",
       "      <td>625</td>\n",
       "      <td>39.927120</td>\n",
       "      <td>-75.191034</td>\n",
       "    </tr>\n",
       "    <tr>\n",
       "      <th>3</th>\n",
       "      <td>28556</td>\n",
       "      <td>2.010010e+11</td>\n",
       "      <td>2100 BLOCK S GARNET ST</td>\n",
       "      <td>7/8/2010</td>\n",
       "      <td>2010</td>\n",
       "      <td>1</td>\n",
       "      <td>200</td>\n",
       "      <td>15</td>\n",
       "      <td>615</td>\n",
       "      <td>39.925411</td>\n",
       "      <td>-75.178257</td>\n",
       "    </tr>\n",
       "    <tr>\n",
       "      <th>4</th>\n",
       "      <td>29047</td>\n",
       "      <td>2.010010e+11</td>\n",
       "      <td>2100 BLOCK S 15TH ST</td>\n",
       "      <td>7/11/2010</td>\n",
       "      <td>2010</td>\n",
       "      <td>1</td>\n",
       "      <td>75</td>\n",
       "      <td>11</td>\n",
       "      <td>625</td>\n",
       "      <td>39.924141</td>\n",
       "      <td>-75.171457</td>\n",
       "    </tr>\n",
       "  </tbody>\n",
       "</table>\n",
       "</div>"
      ],
      "text/plain": [
       "   DC_NUM        DC_KEY              LOCATION_B THEFT_DATE  THEFT_YEAR  \\\n",
       "0   14848  2.010010e+11   2100 BLOCK S BROAD ST  4/16/2010        2010   \n",
       "1   16330  2.010010e+11        S 2100 MCKEAN ST  4/24/2010        2010   \n",
       "2   23568  2.010010e+11   2700 BLOCK SNYDER AVE   6/6/2010        2010   \n",
       "3   28556  2.010010e+11  2100 BLOCK S GARNET ST   7/8/2010        2010   \n",
       "4   29047  2.010010e+11    2100 BLOCK S 15TH ST  7/11/2010        2010   \n",
       "\n",
       "   DC_DIST  STOLEN_VAL  THEFT_HOUR  UCR        LAT        LNG  \n",
       "0        1         150           0  625  39.924273 -75.169775  \n",
       "1        1         215          17  615  39.927074 -75.180905  \n",
       "2        1         120          11  625  39.927120 -75.191034  \n",
       "3        1         200          15  615  39.925411 -75.178257  \n",
       "4        1          75          11  625  39.924141 -75.171457  "
      ]
     },
     "execution_count": 2,
     "metadata": {},
     "output_type": "execute_result"
    }
   ],
   "source": [
    "df = pd.read_csv('../data/bikes.csv')\n",
    "df.head()"
   ]
  },
  {
   "cell_type": "code",
   "execution_count": 3,
   "metadata": {
    "collapsed": false
   },
   "outputs": [
    {
     "data": {
      "text/html": [
       "<div>\n",
       "<table border=\"1\" class=\"dataframe\">\n",
       "  <thead>\n",
       "    <tr style=\"text-align: right;\">\n",
       "      <th></th>\n",
       "      <th>Location</th>\n",
       "      <th>Date</th>\n",
       "      <th>Year</th>\n",
       "      <th>Hour</th>\n",
       "      <th>Value</th>\n",
       "      <th>Value_Code</th>\n",
       "    </tr>\n",
       "  </thead>\n",
       "  <tbody>\n",
       "    <tr>\n",
       "      <th>0</th>\n",
       "      <td>2100 BLOCK S BROAD ST</td>\n",
       "      <td>4/16/2010</td>\n",
       "      <td>2010</td>\n",
       "      <td>0</td>\n",
       "      <td>150</td>\n",
       "      <td>625</td>\n",
       "    </tr>\n",
       "    <tr>\n",
       "      <th>1</th>\n",
       "      <td>S 2100 MCKEAN ST</td>\n",
       "      <td>4/24/2010</td>\n",
       "      <td>2010</td>\n",
       "      <td>17</td>\n",
       "      <td>215</td>\n",
       "      <td>615</td>\n",
       "    </tr>\n",
       "    <tr>\n",
       "      <th>2</th>\n",
       "      <td>2700 BLOCK SNYDER AVE</td>\n",
       "      <td>6/6/2010</td>\n",
       "      <td>2010</td>\n",
       "      <td>11</td>\n",
       "      <td>120</td>\n",
       "      <td>625</td>\n",
       "    </tr>\n",
       "    <tr>\n",
       "      <th>3</th>\n",
       "      <td>2100 BLOCK S GARNET ST</td>\n",
       "      <td>7/8/2010</td>\n",
       "      <td>2010</td>\n",
       "      <td>15</td>\n",
       "      <td>200</td>\n",
       "      <td>615</td>\n",
       "    </tr>\n",
       "    <tr>\n",
       "      <th>4</th>\n",
       "      <td>2100 BLOCK S 15TH ST</td>\n",
       "      <td>7/11/2010</td>\n",
       "      <td>2010</td>\n",
       "      <td>11</td>\n",
       "      <td>75</td>\n",
       "      <td>625</td>\n",
       "    </tr>\n",
       "  </tbody>\n",
       "</table>\n",
       "</div>"
      ],
      "text/plain": [
       "                 Location       Date  Year  Hour  Value  Value_Code\n",
       "0   2100 BLOCK S BROAD ST  4/16/2010  2010     0    150         625\n",
       "1        S 2100 MCKEAN ST  4/24/2010  2010    17    215         615\n",
       "2   2700 BLOCK SNYDER AVE   6/6/2010  2010    11    120         625\n",
       "3  2100 BLOCK S GARNET ST   7/8/2010  2010    15    200         615\n",
       "4    2100 BLOCK S 15TH ST  7/11/2010  2010    11     75         625"
      ]
     },
     "execution_count": 3,
     "metadata": {},
     "output_type": "execute_result"
    }
   ],
   "source": [
    "df = df[['LOCATION_B','THEFT_DATE','THEFT_YEAR','THEFT_HOUR','STOLEN_VAL','UCR']]\n",
    "df.columns = ['Location','Date','Year','Hour','Value','Value_Code']\n",
    "df.head()"
   ]
  },
  {
   "cell_type": "code",
   "execution_count": 8,
   "metadata": {
    "collapsed": false
   },
   "outputs": [
    {
     "name": "stderr",
     "output_type": "stream",
     "text": [
      "C:\\Users\\j7jiang\\AppData\\Local\\Continuum\\Anaconda2\\envs\\py35\\lib\\site-packages\\IPython\\core\\interactiveshell.py:2869: FutureWarning: \n",
      "mpl_style had been deprecated and will be removed in a future version.\n",
      "Use `matplotlib.pyplot.style.use` instead.\n",
      "\n",
      "  exec(code_obj, self.user_global_ns, self.user_ns)\n"
     ]
    }
   ],
   "source": [
    "pd.options.display.mpl_style = 'default'\n",
    "from matplotlib import rcParams\n",
    "rcParams['figure.figsize'] = (20, 8)\n",
    "rcParams['figure.dpi'] = 300"
   ]
  },
  {
   "cell_type": "code",
   "execution_count": 4,
   "metadata": {
    "collapsed": false
   },
   "outputs": [
    {
     "data": {
      "text/plain": [
       "<matplotlib.axes._subplots.AxesSubplot at 0x4b5c7f0>"
      ]
     },
     "execution_count": 4,
     "metadata": {},
     "output_type": "execute_result"
    },
    {
     "data": {
      "image/png": "[encoded data removed]",
      "text/plain": [
       "<matplotlib.figure.Figure at 0x4c4d208>"
      ]
     },
     "metadata": {},
     "output_type": "display_data"
    }
   ],
   "source": [
    "df['Date'] = pd.to_datetime(pd.Series(df['Date']))\n",
    "df.set_index('Date', drop=False, inplace=True)\n",
    "\n",
    "df['Thefts'] = df['Date'].value_counts()\n",
    "\n",
    "plt.figure()\n",
    "plt.ylim(0,20)\n",
    "plt.ylabel('Theft')\n",
    "df['Thefts'].plot(x_compat=True)\n"
   ]
  },
  {
   "cell_type": "code",
   "execution_count": 5,
   "metadata": {
    "collapsed": false
   },
   "outputs": [
    {
     "data": {
      "text/html": [
       "<div>\n",
       "<table border=\"1\" class=\"dataframe\">\n",
       "  <thead>\n",
       "    <tr style=\"text-align: right;\">\n",
       "      <th></th>\n",
       "      <th>Date</th>\n",
       "      <th>HIGH</th>\n",
       "    </tr>\n",
       "  </thead>\n",
       "  <tbody>\n",
       "    <tr>\n",
       "      <th>0</th>\n",
       "      <td>2010-01-01</td>\n",
       "      <td>42</td>\n",
       "    </tr>\n",
       "    <tr>\n",
       "      <th>1</th>\n",
       "      <td>2010-01-02</td>\n",
       "      <td>32</td>\n",
       "    </tr>\n",
       "    <tr>\n",
       "      <th>2</th>\n",
       "      <td>2010-01-03</td>\n",
       "      <td>27</td>\n",
       "    </tr>\n",
       "    <tr>\n",
       "      <th>3</th>\n",
       "      <td>2010-01-04</td>\n",
       "      <td>32</td>\n",
       "    </tr>\n",
       "    <tr>\n",
       "      <th>4</th>\n",
       "      <td>2010-01-05</td>\n",
       "      <td>33</td>\n",
       "    </tr>\n",
       "  </tbody>\n",
       "</table>\n",
       "</div>"
      ],
      "text/plain": [
       "        Date  HIGH\n",
       "0 2010-01-01    42\n",
       "1 2010-01-02    32\n",
       "2 2010-01-03    27\n",
       "3 2010-01-04    32\n",
       "4 2010-01-05    33"
      ]
     },
     "execution_count": 5,
     "metadata": {},
     "output_type": "execute_result"
    }
   ],
   "source": [
    "temp = pd.read_csv('../data/Climate.csv',\n",
    "            parse_dates={'Date': ['MO','DAY','YEAR']},\n",
    "            usecols=['MO', 'DAY', 'YEAR', 'HIGH'])\n",
    "temp.head()\n"
   ]
  },
  {
   "cell_type": "code",
   "execution_count": 8,
   "metadata": {
    "collapsed": false
   },
   "outputs": [
    {
     "data": {
      "text/plain": [
       "<matplotlib.text.Text at 0xa919160>"
      ]
     },
     "execution_count": 8,
     "metadata": {},
     "output_type": "execute_result"
    },
    {
     "data": {
      "image/png": "[encoded data removed]",
      "text/plain": [
       "<matplotlib.figure.Figure at 0xa911048>"
      ]
     },
     "metadata": {},
     "output_type": "display_data"
    }
   ],
   "source": [
    "temp.set_index('Date', drop=False, inplace=True)\n",
    "temp.plot()\n",
    "plt.ylabel('Tempature')"
   ]
  },
  {
   "cell_type": "code",
   "execution_count": 10,
   "metadata": {
    "collapsed": false
   },
   "outputs": [],
   "source": [
    "#merge df and temp\n",
    "merged = pd.merge(df, temp, on='Date', how='outer')\n",
    "merged.columns = ['Location','Date','Year','Hour','Value','Value_Code','Thefts','Temp']"
   ]
  },
  {
   "cell_type": "code",
   "execution_count": 285,
   "metadata": {
    "collapsed": false
   },
   "outputs": [
    {
     "data": {
      "text/html": [
       "<div style=\"max-height:1000px;max-width:1500px;overflow:auto;\">\n",
       "<table border=\"1\" class=\"dataframe\">\n",
       "  <thead>\n",
       "    <tr style=\"text-align: right;\">\n",
       "      <th></th>\n",
       "      <th>Location</th>\n",
       "      <th>Date</th>\n",
       "      <th>Year</th>\n",
       "      <th>Hour</th>\n",
       "      <th>Value</th>\n",
       "      <th>Value_Code</th>\n",
       "      <th>Thefts</th>\n",
       "      <th>Temp</th>\n",
       "    </tr>\n",
       "  </thead>\n",
       "  <tbody>\n",
       "    <tr>\n",
       "      <th>0</th>\n",
       "      <td>  2100 BLOCK S BROAD ST</td>\n",
       "      <td>2010-04-16</td>\n",
       "      <td> 2010</td>\n",
       "      <td>  0</td>\n",
       "      <td> 150</td>\n",
       "      <td> 625</td>\n",
       "      <td> 4</td>\n",
       "      <td> 75</td>\n",
       "    </tr>\n",
       "    <tr>\n",
       "      <th>1</th>\n",
       "      <td> 7300 BLOCK CLARIDGE ST</td>\n",
       "      <td>2010-04-16</td>\n",
       "      <td> 2010</td>\n",
       "      <td> 19</td>\n",
       "      <td> 700</td>\n",
       "      <td> 615</td>\n",
       "      <td> 4</td>\n",
       "      <td> 75</td>\n",
       "    </tr>\n",
       "    <tr>\n",
       "      <th>2</th>\n",
       "      <td>   1000 BLOCK MARKET ST</td>\n",
       "      <td>2010-04-16</td>\n",
       "      <td> 2010</td>\n",
       "      <td>  6</td>\n",
       "      <td> 100</td>\n",
       "      <td> 625</td>\n",
       "      <td> 4</td>\n",
       "      <td> 75</td>\n",
       "    </tr>\n",
       "    <tr>\n",
       "      <th>3</th>\n",
       "      <td>    800 BLOCK S 48TH ST</td>\n",
       "      <td>2010-04-16</td>\n",
       "      <td> 2010</td>\n",
       "      <td> 19</td>\n",
       "      <td> 150</td>\n",
       "      <td> 625</td>\n",
       "      <td> 4</td>\n",
       "      <td> 75</td>\n",
       "    </tr>\n",
       "    <tr>\n",
       "      <th>4</th>\n",
       "      <td>       S 2100 MCKEAN ST</td>\n",
       "      <td>2010-04-24</td>\n",
       "      <td> 2010</td>\n",
       "      <td> 17</td>\n",
       "      <td> 215</td>\n",
       "      <td> 615</td>\n",
       "      <td> 7</td>\n",
       "      <td> 68</td>\n",
       "    </tr>\n",
       "  </tbody>\n",
       "</table>\n",
       "<p>5 rows × 8 columns</p>\n",
       "</div>"
      ],
      "text/plain": [
       "                 Location       Date  Year  Hour  Value  Value_Code  Thefts  \\\n",
       "0   2100 BLOCK S BROAD ST 2010-04-16  2010     0    150         625       4   \n",
       "1  7300 BLOCK CLARIDGE ST 2010-04-16  2010    19    700         615       4   \n",
       "2    1000 BLOCK MARKET ST 2010-04-16  2010     6    100         625       4   \n",
       "3     800 BLOCK S 48TH ST 2010-04-16  2010    19    150         625       4   \n",
       "4        S 2100 MCKEAN ST 2010-04-24  2010    17    215         615       7   \n",
       "\n",
       "   Temp  \n",
       "0    75  \n",
       "1    75  \n",
       "2    75  \n",
       "3    75  \n",
       "4    68  \n",
       "\n",
       "[5 rows x 8 columns]"
      ]
     },
     "execution_count": 285,
     "metadata": {},
     "output_type": "execute_result"
    }
   ],
   "source": [
    "merged.head()"
   ]
  },
  {
   "cell_type": "code",
   "execution_count": 12,
   "metadata": {
    "collapsed": false
   },
   "outputs": [
    {
     "data": {
      "text/html": [
       "<div>\n",
       "<table border=\"1\" class=\"dataframe\">\n",
       "  <thead>\n",
       "    <tr style=\"text-align: right;\">\n",
       "      <th></th>\n",
       "      <th>Location</th>\n",
       "      <th>Date</th>\n",
       "      <th>Year</th>\n",
       "      <th>Hour</th>\n",
       "      <th>Value</th>\n",
       "      <th>Value_Code</th>\n",
       "      <th>Thefts</th>\n",
       "      <th>Temp</th>\n",
       "    </tr>\n",
       "  </thead>\n",
       "  <tbody>\n",
       "    <tr>\n",
       "      <th>6734</th>\n",
       "      <td>200 BLOCK N 23RD ST</td>\n",
       "      <td>2013-08-15</td>\n",
       "      <td>2013.0</td>\n",
       "      <td>17.0</td>\n",
       "      <td>2290.0</td>\n",
       "      <td>615.0</td>\n",
       "      <td>20.0</td>\n",
       "      <td>78</td>\n",
       "    </tr>\n",
       "    <tr>\n",
       "      <th>6743</th>\n",
       "      <td>4600 BLOCK EMERSON ST</td>\n",
       "      <td>2013-08-15</td>\n",
       "      <td>2013.0</td>\n",
       "      <td>9.0</td>\n",
       "      <td>125.0</td>\n",
       "      <td>625.0</td>\n",
       "      <td>20.0</td>\n",
       "      <td>78</td>\n",
       "    </tr>\n",
       "    <tr>\n",
       "      <th>6730</th>\n",
       "      <td>S 08TH ST / PIERCE ST</td>\n",
       "      <td>2013-08-15</td>\n",
       "      <td>2013.0</td>\n",
       "      <td>0.0</td>\n",
       "      <td>135.0</td>\n",
       "      <td>625.0</td>\n",
       "      <td>20.0</td>\n",
       "      <td>78</td>\n",
       "    </tr>\n",
       "    <tr>\n",
       "      <th>6731</th>\n",
       "      <td>N 09TH ST / MARKET ST</td>\n",
       "      <td>2013-08-15</td>\n",
       "      <td>2013.0</td>\n",
       "      <td>16.0</td>\n",
       "      <td>120.0</td>\n",
       "      <td>625.0</td>\n",
       "      <td>20.0</td>\n",
       "      <td>78</td>\n",
       "    </tr>\n",
       "    <tr>\n",
       "      <th>6749</th>\n",
       "      <td>1000 BLOCK S 45TH ST</td>\n",
       "      <td>2013-08-15</td>\n",
       "      <td>2013.0</td>\n",
       "      <td>10.0</td>\n",
       "      <td>70.0</td>\n",
       "      <td>625.0</td>\n",
       "      <td>20.0</td>\n",
       "      <td>78</td>\n",
       "    </tr>\n",
       "  </tbody>\n",
       "</table>\n",
       "</div>"
      ],
      "text/plain": [
       "                   Location       Date    Year  Hour   Value  Value_Code  \\\n",
       "6734    200 BLOCK N 23RD ST 2013-08-15  2013.0  17.0  2290.0       615.0   \n",
       "6743  4600 BLOCK EMERSON ST 2013-08-15  2013.0   9.0   125.0       625.0   \n",
       "6730  S 08TH ST / PIERCE ST 2013-08-15  2013.0   0.0   135.0       625.0   \n",
       "6731  N 09TH ST / MARKET ST 2013-08-15  2013.0  16.0   120.0       625.0   \n",
       "6749   1000 BLOCK S 45TH ST 2013-08-15  2013.0  10.0    70.0       625.0   \n",
       "\n",
       "      Thefts  Temp  \n",
       "6734    20.0    78  \n",
       "6743    20.0    78  \n",
       "6730    20.0    78  \n",
       "6731    20.0    78  \n",
       "6749    20.0    78  "
      ]
     },
     "execution_count": 12,
     "metadata": {},
     "output_type": "execute_result"
    }
   ],
   "source": [
    "new = merged.sort_values('Thefts', ascending=False)\n",
    "new = new.dropna()\n",
    "new.head()"
   ]
  },
  {
   "cell_type": "code",
   "execution_count": 13,
   "metadata": {
    "collapsed": false
   },
   "outputs": [
    {
     "data": {
      "text/plain": [
       "2013-08-15    20\n",
       "2013-07-24    19\n",
       "2011-06-15    19\n",
       "2013-07-10    19\n",
       "2013-08-14    19\n",
       "2012-08-09    18\n",
       "2013-07-13    18\n",
       "2013-07-23    17\n",
       "2010-08-26    17\n",
       "2012-09-21    17\n",
       "Name: Date, dtype: int64"
      ]
     },
     "execution_count": 13,
     "metadata": {},
     "output_type": "execute_result"
    }
   ],
   "source": [
    "thefts = merged['Date'].value_counts()\n",
    "\n",
    "thefts.head(10)\n"
   ]
  },
  {
   "cell_type": "code",
   "execution_count": 14,
   "metadata": {
    "collapsed": false
   },
   "outputs": [
    {
     "data": {
      "text/plain": [
       "2012    1975\n",
       "2011    1848\n",
       "2010    1831\n",
       "2013    1569\n",
       "Name: Year, dtype: int64"
      ]
     },
     "execution_count": 14,
     "metadata": {},
     "output_type": "execute_result"
    }
   ],
   "source": [
    "#每年被盗车辆数目\n",
    "yearly = df.Year.value_counts()\n",
    "yearly"
   ]
  },
  {
   "cell_type": "code",
   "execution_count": 15,
   "metadata": {
    "collapsed": false
   },
   "outputs": [
    {
     "data": {
      "text/plain": [
       "20    7223\n",
       "Name: Date, dtype: int64"
      ]
     },
     "execution_count": 15,
     "metadata": {},
     "output_type": "execute_result"
    }
   ],
   "source": [
    "#每月的被盗数量\n",
    "df['Date'] = df['Date'].map(lambda x: str(x)[:2])\n",
    "df['Date'] = df['Date'].map(lambda x: x.rstrip('/'))\n",
    "\n",
    "monthly = df.Date.value_counts()\n",
    "monthly\n"
   ]
  },
  {
   "cell_type": "code",
   "execution_count": 16,
   "metadata": {
    "collapsed": false
   },
   "outputs": [
    {
     "data": {
      "text/plain": [
       "17    618\n",
       "18    598\n",
       "16    593\n",
       "19    574\n",
       "20    495\n",
       "15    478\n",
       "14    456\n",
       "12    448\n",
       "13    447\n",
       "21    369\n",
       "11    324\n",
       "22    319\n",
       "10    293\n",
       "9     250\n",
       "23    201\n",
       "8     186\n",
       "0     144\n",
       "1     113\n",
       "7      98\n",
       "2      71\n",
       "3      48\n",
       "4      38\n",
       "5      31\n",
       "6      31\n",
       "Name: Hour, dtype: int64"
      ]
     },
     "execution_count": 16,
     "metadata": {},
     "output_type": "execute_result"
    }
   ],
   "source": [
    "df.Hour.value_counts()"
   ]
  },
  {
   "cell_type": "code",
   "execution_count": 17,
   "metadata": {
    "collapsed": false
   },
   "outputs": [
    {
     "data": {
      "text/plain": [
       "200     821\n",
       "100     636\n",
       "300     595\n",
       "500     482\n",
       "150     477\n",
       "400     413\n",
       "250     292\n",
       "600     254\n",
       "0       192\n",
       "350     175\n",
       "1000    168\n",
       "50      146\n",
       "800     145\n",
       "700     137\n",
       "450     100\n",
       "120      88\n",
       "80       74\n",
       "1500     71\n",
       "1200     64\n",
       "550      58\n",
       "75       55\n",
       "900      54\n",
       "160      53\n",
       "125      52\n",
       "90       50\n",
       "750      50\n",
       "130      46\n",
       "180      45\n",
       "60       45\n",
       "650      43\n",
       "       ... \n",
       "826       1\n",
       "126       1\n",
       "105       1\n",
       "878       1\n",
       "918       1\n",
       "237       1\n",
       "606       1\n",
       "473       1\n",
       "434       1\n",
       "469       1\n",
       "326       1\n",
       "2550      1\n",
       "379       1\n",
       "445       1\n",
       "355       1\n",
       "405       1\n",
       "397       1\n",
       "374       1\n",
       "442       1\n",
       "269       1\n",
       "446       1\n",
       "337       1\n",
       "333       1\n",
       "335       1\n",
       "515       1\n",
       "313       1\n",
       "305       1\n",
       "289       1\n",
       "327       1\n",
       "243       1\n",
       "Name: Value, dtype: int64"
      ]
     },
     "execution_count": 17,
     "metadata": {},
     "output_type": "execute_result"
    }
   ],
   "source": [
    "df.Value.value_counts()"
   ]
  },
  {
   "cell_type": "code",
   "execution_count": 18,
   "metadata": {
    "collapsed": false
   },
   "outputs": [
    {
     "data": {
      "text/plain": [
       "615    4887\n",
       "625    2172\n",
       "635     164\n",
       "Name: Value_Code, dtype: int64"
      ]
     },
     "execution_count": 18,
     "metadata": {},
     "output_type": "execute_result"
    }
   ],
   "source": [
    "df.Value_Code.value_counts()"
   ]
  },
  {
   "cell_type": "code",
   "execution_count": 19,
   "metadata": {
    "collapsed": false
   },
   "outputs": [
    {
     "data": {
      "text/plain": [
       "1500 BLOCK MARKET ST           28\n",
       "200 BLOCK S BROAD ST           27\n",
       "200 BLOCK S 33RD ST            24\n",
       "1700 BLOCK N 10TH ST           22\n",
       "200 BLOCK S JUNIPER ST         21\n",
       "200 BLOCK N 34TH ST            20\n",
       "1900 BLOCK VINE ST             20\n",
       "3100 BLOCK MARKET ST           20\n",
       "900 BLOCK SOUTH ST             19\n",
       "1100 BLOCK FILBERT ST          18\n",
       "3700 BLOCK WALNUT ST           18\n",
       "1800 BLOCK WALNUT ST           18\n",
       "200 BLOCK S 34TH ST            17\n",
       "3900 BLOCK WALNUT ST           17\n",
       "1600 BLOCK CHESTNUT ST         17\n",
       "3400 BLOCK SPRUCE ST           17\n",
       "1100 BLOCK S BROAD ST          17\n",
       "3900 BLOCK LOCUST WALK         16\n",
       "3100 BLOCK LUDLOW ST           15\n",
       "1800 BLOCK N 10TH ST           15\n",
       "1600 BLOCK WALNUT ST           15\n",
       "1300 BLOCK CECIL B MOORE AV    15\n",
       "2000 BLOCK N BROAD ST          14\n",
       "200 BLOCK S 36TH ST            14\n",
       "4000 BLOCK WALNUT ST           14\n",
       "Name: Location, dtype: int64"
      ]
     },
     "execution_count": 19,
     "metadata": {},
     "output_type": "execute_result"
    }
   ],
   "source": [
    "loc = df.Location.value_counts()\n",
    "loc.head(25)"
   ]
  },
  {
   "cell_type": "code",
   "execution_count": 20,
   "metadata": {
    "collapsed": false
   },
   "outputs": [
    {
     "data": {
      "text/html": [
       "<div>\n",
       "<table border=\"1\" class=\"dataframe\">\n",
       "  <thead>\n",
       "    <tr style=\"text-align: right;\">\n",
       "      <th></th>\n",
       "      <th>Location</th>\n",
       "      <th>Value_Code</th>\n",
       "    </tr>\n",
       "    <tr>\n",
       "      <th>Date</th>\n",
       "      <th></th>\n",
       "      <th></th>\n",
       "    </tr>\n",
       "  </thead>\n",
       "  <tbody>\n",
       "    <tr>\n",
       "      <th>2010-04-16</th>\n",
       "      <td>2100 BLOCK S BROAD ST</td>\n",
       "      <td>625</td>\n",
       "    </tr>\n",
       "    <tr>\n",
       "      <th>2010-04-24</th>\n",
       "      <td>S 2100 MCKEAN ST</td>\n",
       "      <td>615</td>\n",
       "    </tr>\n",
       "    <tr>\n",
       "      <th>2010-06-06</th>\n",
       "      <td>2700 BLOCK SNYDER AVE</td>\n",
       "      <td>625</td>\n",
       "    </tr>\n",
       "    <tr>\n",
       "      <th>2010-07-08</th>\n",
       "      <td>2100 BLOCK S GARNET ST</td>\n",
       "      <td>615</td>\n",
       "    </tr>\n",
       "    <tr>\n",
       "      <th>2010-07-11</th>\n",
       "      <td>2100 BLOCK S 15TH ST</td>\n",
       "      <td>625</td>\n",
       "    </tr>\n",
       "  </tbody>\n",
       "</table>\n",
       "</div>"
      ],
      "text/plain": [
       "                          Location  Value_Code\n",
       "Date                                          \n",
       "2010-04-16   2100 BLOCK S BROAD ST         625\n",
       "2010-04-24        S 2100 MCKEAN ST         615\n",
       "2010-06-06   2700 BLOCK SNYDER AVE         625\n",
       "2010-07-08  2100 BLOCK S GARNET ST         615\n",
       "2010-07-11    2100 BLOCK S 15TH ST         625"
      ]
     },
     "execution_count": 20,
     "metadata": {},
     "output_type": "execute_result"
    }
   ],
   "source": [
    "\n",
    "value = df[['Location','Value_Code']]\n",
    "value.head()"
   ]
  },
  {
   "cell_type": "code",
   "execution_count": null,
   "metadata": {
    "collapsed": true
   },
   "outputs": [],
   "source": []
  },
  {
   "cell_type": "code",
   "execution_count": null,
   "metadata": {
    "collapsed": true
   },
   "outputs": [],
   "source": []
  }
 ],
 "metadata": {
  "anaconda-cloud": {},
  "kernelspec": {
   "display_name": "Python [default]",
   "language": "python",
   "name": "python3"
  },
  "language_info": {
   "codemirror_mode": {
    "name": "ipython",
    "version": 3
   },
   "file_extension": ".py",
   "mimetype": "text/x-python",
   "name": "python",
   "nbconvert_exporter": "python",
   "pygments_lexer": "ipython3",
   "version": "3.5.2"
  }
 },
 "nbformat": 4,
 "nbformat_minor": 0
}
