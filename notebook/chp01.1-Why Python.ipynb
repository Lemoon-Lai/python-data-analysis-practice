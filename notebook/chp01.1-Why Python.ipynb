{
 "cells": [
  {
   "cell_type": "markdown",
   "metadata": {
    "slideshow": {
     "slide_type": "slide"
    }
   },
   "source": [
    "> # **人生苦短,我用Python!**"
   ]
  },
  {
   "cell_type": "markdown",
   "metadata": {
    "slideshow": {
     "slide_type": "slide"
    }
   },
   "source": [
    "> # **看得懂，说人话的语言**\n",
    "\n",
    "+ 设计原则：优雅，清晰，简单\n",
    "+ Motto: There is only one way to do it.\n",
    "\n"
   ]
  },
  {
   "cell_type": "markdown",
   "metadata": {
    "slideshow": {
     "slide_type": "slide"
    }
   },
   "source": [
    "+ 简单:Python是一种代表简单主义思想的语言。阅读一个良好的Python程序就感觉像是在读英语一样，尽管这个英语的要求非常严格！Python的这种伪代码本质是它最大的优点之一。它使你能够专注于解决问题而不是去搞明白语言本身。 \n",
    "+ 易学:就如同你即将看到的一样，Python极其容易上手。\n",
    "+ 高级语言:当你用Python语言编写程序的时候，你无需考虑诸如如何管理你的程序使用的内存一类的底层细节。 \n",
    "+ 可移植性:Python可以运行于Linux、Windows、FreeBSD、Macintosh、Solaris...甚至还有PocketPC和Symbian！ \n",
    "+ 可扩展性:如果你需要你的一段关键代码运行得更快或者希望某些算法不公开，你可以把你的部分程序用C或C++编写，然后在你的Python程序中使用它们。 \n",
    "+ 可嵌入性:你可以把Python嵌入你的C/C++程序，从而向你的程序用户提供脚本功能。 　"
   ]
  },
  {
   "cell_type": "markdown",
   "metadata": {
    "slideshow": {
     "slide_type": "slide"
    }
   },
   "source": [
    "+ 解释性:而Python语言写的程序不需要编译成二进制代码。你可以直接从源代码运行程序。事实上，由于你不再需要担心如何编译程序，如何确保连接转载正确的库等等，所有这一切使得使用Python更加简单。由于你只需要把你的Python程序拷贝到另外一台计算机上，它就可以工作了，这也使得你的Python程 序更加易于移植。 \n",
    "+ 面向对象:Python既支持面向过程的编程也支持面向对象的编程。在“面向过程”的语 言中，程序是由过程或仅仅是可重用代码的函数构建起来的。在“面向对象”的语言中，程序是由数据和功能组合而成的对象构建起来的。\n",
    "+ 丰富的库:Python标准库确实很庞大。它可以帮助你处理各种工作，包括正则表达式、文档生成、单元测试、线程、数据库...。除了标准库以外，还有许多其他高质量的库，如wxPython、Twisted和Python图像库等等。 \n"
   ]
  },
  {
   "cell_type": "markdown",
   "metadata": {
    "slideshow": {
     "slide_type": "slide"
    }
   },
   "source": [
    "> # **Batteries Included!**"
   ]
  },
  {
   "cell_type": "markdown",
   "metadata": {
    "slideshow": {
     "slide_type": "slide"
    }
   },
   "source": [
    "+ Beautifulsoap,requests,Scrapy...\n",
    "+ SQLAlchemy,PyMongo...\n",
    "+ Scipy\n",
    "+ Numpy\n",
    "+ Pandas\n",
    "+ StatsModels\n",
    "+ Matplotlib\n",
    "+ Seaborn\n",
    "+ scikit-learn\n",
    "+ Flask, Django\n",
    "+ ...\n"
   ]
  },
  {
   "cell_type": "markdown",
   "metadata": {
    "slideshow": {
     "slide_type": "slide"
    }
   },
   "source": [
    "||\n",
    ":-------------------------:|\n",
    "![](./img/python-stack.jpg) | \n"
   ]
  },
  {
   "cell_type": "markdown",
   "metadata": {
    "slideshow": {
     "slide_type": "slide"
    }
   },
   "source": [
    "# Many more tools:\n",
    "+ Performance\n",
    "    + Numba,Weave,Theano...\n",
    "+ Visualization\n",
    "    + Bokeh,Seaborn,Plotly,ggplot,HoloViews...\n",
    "+ Data Structure&Computation:\n",
    "    + Blaze,Dask,PySpark,Graphlab...\n",
    "+ Packaging & distribution\n",
    "    + pip/wheels,conda, EPD,Canopy,Anaconda"
   ]
  }
 ],
 "metadata": {
  "anaconda-cloud": {},
  "celltoolbar": "Slideshow",
  "kernelspec": {
   "display_name": "Python [default]",
   "language": "python",
   "name": "python3"
  },
  "language_info": {
   "codemirror_mode": {
    "name": "ipython",
    "version": 3
   },
   "file_extension": ".py",
   "mimetype": "text/x-python",
   "name": "python",
   "nbconvert_exporter": "python",
   "pygments_lexer": "ipython3",
   "version": "3.5.2"
  }
 },
 "nbformat": 4,
 "nbformat_minor": 0
}
