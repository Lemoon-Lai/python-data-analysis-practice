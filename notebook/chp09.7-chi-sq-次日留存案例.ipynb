{
 "cells": [
  {
   "cell_type": "code",
   "execution_count": 3,
   "metadata": {
    "collapsed": true
   },
   "outputs": [],
   "source": [
    "import numpy as np\n",
    "import pandas as pd\n",
    "import scipy.stats as stats\n",
    "pd.set_option(\"display.max_rows\",10)   \n",
    "pd.set_option(\"display.max_columns\",10)  "
   ]
  },
  {
   "cell_type": "code",
   "execution_count": 10,
   "metadata": {
    "collapsed": false
   },
   "outputs": [
    {
     "data": {
      "text/html": [
       "<div>\n",
       "<table border=\"1\" class=\"dataframe\">\n",
       "  <thead>\n",
       "    <tr style=\"text-align: right;\">\n",
       "      <th></th>\n",
       "      <th>type</th>\n",
       "      <th>day</th>\n",
       "      <th>reg</th>\n",
       "      <th>stay</th>\n",
       "    </tr>\n",
       "  </thead>\n",
       "  <tbody>\n",
       "    <tr>\n",
       "      <th>0</th>\n",
       "      <td>weibo</td>\n",
       "      <td>day1</td>\n",
       "      <td>2504</td>\n",
       "      <td>752</td>\n",
       "    </tr>\n",
       "    <tr>\n",
       "      <th>1</th>\n",
       "      <td>weibo</td>\n",
       "      <td>day2</td>\n",
       "      <td>2718</td>\n",
       "      <td>701</td>\n",
       "    </tr>\n",
       "    <tr>\n",
       "      <th>2</th>\n",
       "      <td>weibo</td>\n",
       "      <td>day3</td>\n",
       "      <td>2538</td>\n",
       "      <td>692</td>\n",
       "    </tr>\n",
       "    <tr>\n",
       "      <th>3</th>\n",
       "      <td>weibo</td>\n",
       "      <td>day4</td>\n",
       "      <td>2207</td>\n",
       "      <td>540</td>\n",
       "    </tr>\n",
       "    <tr>\n",
       "      <th>4</th>\n",
       "      <td>weibo</td>\n",
       "      <td>day5</td>\n",
       "      <td>2004</td>\n",
       "      <td>464</td>\n",
       "    </tr>\n",
       "  </tbody>\n",
       "</table>\n",
       "</div>"
      ],
      "text/plain": [
       "    type   day   reg  stay\n",
       "0  weibo  day1  2504   752\n",
       "1  weibo  day2  2718   701\n",
       "2  weibo  day3  2538   692\n",
       "3  weibo  day4  2207   540\n",
       "4  weibo  day5  2004   464"
      ]
     },
     "execution_count": 10,
     "metadata": {},
     "output_type": "execute_result"
    }
   ],
   "source": [
    "data= pd.read_table('../data/reguser.txt')\n",
    "data.head()"
   ]
  },
  {
   "cell_type": "code",
   "execution_count": 6,
   "metadata": {
    "collapsed": false
   },
   "outputs": [
    {
     "data": {
      "text/html": [
       "<div>\n",
       "<table border=\"1\" class=\"dataframe\">\n",
       "  <thead>\n",
       "    <tr style=\"text-align: right;\">\n",
       "      <th></th>\n",
       "      <th>type</th>\n",
       "      <th>day</th>\n",
       "      <th>reg</th>\n",
       "      <th>stay</th>\n",
       "      <th>lost</th>\n",
       "    </tr>\n",
       "  </thead>\n",
       "  <tbody>\n",
       "    <tr>\n",
       "      <th>16</th>\n",
       "      <td>webad</td>\n",
       "      <td>day3</td>\n",
       "      <td>1908</td>\n",
       "      <td>542</td>\n",
       "      <td>1366</td>\n",
       "    </tr>\n",
       "    <tr>\n",
       "      <th>17</th>\n",
       "      <td>webad</td>\n",
       "      <td>day4</td>\n",
       "      <td>1643</td>\n",
       "      <td>422</td>\n",
       "      <td>1221</td>\n",
       "    </tr>\n",
       "    <tr>\n",
       "      <th>18</th>\n",
       "      <td>webad</td>\n",
       "      <td>day5</td>\n",
       "      <td>1454</td>\n",
       "      <td>372</td>\n",
       "      <td>1082</td>\n",
       "    </tr>\n",
       "    <tr>\n",
       "      <th>19</th>\n",
       "      <td>webad</td>\n",
       "      <td>day6</td>\n",
       "      <td>1382</td>\n",
       "      <td>370</td>\n",
       "      <td>1012</td>\n",
       "    </tr>\n",
       "    <tr>\n",
       "      <th>20</th>\n",
       "      <td>webad</td>\n",
       "      <td>day7</td>\n",
       "      <td>883</td>\n",
       "      <td>208</td>\n",
       "      <td>675</td>\n",
       "    </tr>\n",
       "  </tbody>\n",
       "</table>\n",
       "</div>"
      ],
      "text/plain": [
       "     type   day   reg  stay  lost\n",
       "16  webad  day3  1908   542  1366\n",
       "17  webad  day4  1643   422  1221\n",
       "18  webad  day5  1454   372  1082\n",
       "19  webad  day6  1382   370  1012\n",
       "20  webad  day7   883   208   675"
      ]
     },
     "execution_count": 6,
     "metadata": {},
     "output_type": "execute_result"
    }
   ],
   "source": [
    "data.tail()"
   ]
  },
  {
   "cell_type": "code",
   "execution_count": 11,
   "metadata": {
    "collapsed": false
   },
   "outputs": [
    {
     "data": {
      "text/html": [
       "<div>\n",
       "<table border=\"1\" class=\"dataframe\">\n",
       "  <thead>\n",
       "    <tr style=\"text-align: right;\">\n",
       "      <th></th>\n",
       "      <th>type</th>\n",
       "      <th>day</th>\n",
       "      <th>reg</th>\n",
       "      <th>stay</th>\n",
       "      <th>lost</th>\n",
       "    </tr>\n",
       "  </thead>\n",
       "  <tbody>\n",
       "    <tr>\n",
       "      <th>0</th>\n",
       "      <td>weibo</td>\n",
       "      <td>day1</td>\n",
       "      <td>2504</td>\n",
       "      <td>752</td>\n",
       "      <td>1752</td>\n",
       "    </tr>\n",
       "    <tr>\n",
       "      <th>1</th>\n",
       "      <td>weibo</td>\n",
       "      <td>day2</td>\n",
       "      <td>2718</td>\n",
       "      <td>701</td>\n",
       "      <td>2017</td>\n",
       "    </tr>\n",
       "    <tr>\n",
       "      <th>2</th>\n",
       "      <td>weibo</td>\n",
       "      <td>day3</td>\n",
       "      <td>2538</td>\n",
       "      <td>692</td>\n",
       "      <td>1846</td>\n",
       "    </tr>\n",
       "    <tr>\n",
       "      <th>3</th>\n",
       "      <td>weibo</td>\n",
       "      <td>day4</td>\n",
       "      <td>2207</td>\n",
       "      <td>540</td>\n",
       "      <td>1667</td>\n",
       "    </tr>\n",
       "    <tr>\n",
       "      <th>4</th>\n",
       "      <td>weibo</td>\n",
       "      <td>day5</td>\n",
       "      <td>2004</td>\n",
       "      <td>464</td>\n",
       "      <td>1540</td>\n",
       "    </tr>\n",
       "  </tbody>\n",
       "</table>\n",
       "</div>"
      ],
      "text/plain": [
       "    type   day   reg  stay  lost\n",
       "0  weibo  day1  2504   752  1752\n",
       "1  weibo  day2  2718   701  2017\n",
       "2  weibo  day3  2538   692  1846\n",
       "3  weibo  day4  2207   540  1667\n",
       "4  weibo  day5  2004   464  1540"
      ]
     },
     "execution_count": 11,
     "metadata": {},
     "output_type": "execute_result"
    }
   ],
   "source": [
    "data['lost']=data['reg']-data['stay']\n",
    "data.head()"
   ]
  },
  {
   "cell_type": "code",
   "execution_count": 12,
   "metadata": {
    "collapsed": true
   },
   "outputs": [],
   "source": [
    "group=pd.groupby(data,by='type')"
   ]
  },
  {
   "cell_type": "code",
   "execution_count": 13,
   "metadata": {
    "collapsed": false
   },
   "outputs": [
    {
     "data": {
      "text/html": [
       "<div>\n",
       "<table border=\"1\" class=\"dataframe\">\n",
       "  <thead>\n",
       "    <tr style=\"text-align: right;\">\n",
       "      <th></th>\n",
       "      <th>reg</th>\n",
       "      <th>stay</th>\n",
       "      <th>lost</th>\n",
       "    </tr>\n",
       "    <tr>\n",
       "      <th>type</th>\n",
       "      <th></th>\n",
       "      <th></th>\n",
       "      <th></th>\n",
       "    </tr>\n",
       "  </thead>\n",
       "  <tbody>\n",
       "    <tr>\n",
       "      <th>webad</th>\n",
       "      <td>11570</td>\n",
       "      <td>3173</td>\n",
       "      <td>8397</td>\n",
       "    </tr>\n",
       "    <tr>\n",
       "      <th>weibo</th>\n",
       "      <td>15113</td>\n",
       "      <td>3901</td>\n",
       "      <td>11212</td>\n",
       "    </tr>\n",
       "    <tr>\n",
       "      <th>weichat</th>\n",
       "      <td>18244</td>\n",
       "      <td>4899</td>\n",
       "      <td>13345</td>\n",
       "    </tr>\n",
       "  </tbody>\n",
       "</table>\n",
       "</div>"
      ],
      "text/plain": [
       "           reg  stay   lost\n",
       "type                       \n",
       "webad    11570  3173   8397\n",
       "weibo    15113  3901  11212\n",
       "weichat  18244  4899  13345"
      ]
     },
     "execution_count": 13,
     "metadata": {},
     "output_type": "execute_result"
    }
   ],
   "source": [
    "observed=group.agg(np.sum)\n",
    "observed"
   ]
  },
  {
   "cell_type": "code",
   "execution_count": 14,
   "metadata": {
    "collapsed": false
   },
   "outputs": [
    {
     "data": {
      "text/plain": [
       "(9.3590952863227841,\n",
       " 0.0092832122619622998,\n",
       " 2,\n",
       " array([[  3083.39328244,   8486.60671756],\n",
       "        [  4027.59919425,  11085.40080575],\n",
       "        [  4862.00752332,  13381.99247668]]))"
      ]
     },
     "execution_count": 14,
     "metadata": {},
     "output_type": "execute_result"
    }
   ],
   "source": [
    "#流失和留存人数是否相互独\n",
    "stats.chi2_contingency(observed= observed[['stay','lost']]) #用户的类别的确影响了用户的次日留存情况，并不是相互独立的"
   ]
  },
  {
   "cell_type": "code",
   "execution_count": 15,
   "metadata": {
    "collapsed": false
   },
   "outputs": [
    {
     "data": {
      "text/plain": [
       "type\n",
       "webad      0.274244\n",
       "weibo      0.258122\n",
       "weichat    0.268527\n",
       "dtype: float64"
      ]
     },
     "execution_count": 15,
     "metadata": {},
     "output_type": "execute_result"
    }
   ],
   "source": [
    "observed['stay']/observed['reg']"
   ]
  },
  {
   "cell_type": "code",
   "execution_count": null,
   "metadata": {
    "collapsed": true
   },
   "outputs": [],
   "source": []
  }
 ],
 "metadata": {
  "anaconda-cloud": {},
  "kernelspec": {
   "display_name": "Python [default]",
   "language": "python",
   "name": "python3"
  },
  "language_info": {
   "codemirror_mode": {
    "name": "ipython",
    "version": 3
   },
   "file_extension": ".py",
   "mimetype": "text/x-python",
   "name": "python",
   "nbconvert_exporter": "python",
   "pygments_lexer": "ipython3",
   "version": "3.5.2"
  }
 },
 "nbformat": 4,
 "nbformat_minor": 0
}
