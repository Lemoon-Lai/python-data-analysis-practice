{
 "cells": [
  {
   "cell_type": "markdown",
   "metadata": {
    "nbpresent": {
     "id": "425c5a4b-4feb-4dc6-982c-c3b077d51015"
    },
    "slideshow": {
     "slide_type": "slide"
    }
   },
   "source": [
    "# 课程目标对象\n",
    "\n",
    "+ 想要利用python从事数据科学工作的人员\n",
    "+ 数据分析人员\n",
    "+ 产品经理\n",
    "+ 网站运维\n",
    "+ 呼叫中心管理人员\n",
    "+ 电商运营人员\n",
    "+ 需要利用数据进行决策的人员"
   ]
  },
  {
   "cell_type": "markdown",
   "metadata": {
    "slideshow": {
     "slide_type": "slide"
    }
   },
   "source": [
    "# Python 数据分析 \n",
    "\n",
    "+ Python\n",
    "+ IPython\n",
    "+ SciPy\n",
    "+ Numpy\n",
    "+ Pandas\n",
    "+ Matplotlib/Seaborn\n",
    "+ statsmodels"
   ]
  },
  {
   "cell_type": "markdown",
   "metadata": {
    "slideshow": {
     "slide_type": "slide"
    }
   },
   "source": [
    "# 课程目标\n",
    "\n",
    "+ 数据读取\n",
    "+ 数据清洗\n",
    "+ 数据整理\n",
    "+ 数据可视化\n",
    "+ 数据探索\n",
    "+ 培养数据洞察力\n"
   ]
  },
  {
   "cell_type": "markdown",
   "metadata": {
    "nbpresent": {
     "id": "b29a11f4-916c-40fd-b73c-7e6016912427"
    },
    "slideshow": {
     "slide_type": "slide"
    }
   },
   "source": [
    "# 数据分析人员\n",
    "\n",
    "+ 给你一组数据,请问你如何向别人描述这组数据?\n",
    "+ 概率分布(均匀分布,泊松分布,二项分布,正态分布...)\n",
    "+ 如何根据进行总统选举的抽样调查推论谁会当选? Point Estimates/Confidence Intervals\n",
    "+ 药物治疗组与安慰剂治疗组病人的血糖变化? t-检验\n",
    "+ 亚裔,黑人,白人..总统选举中投民主党,共和党有偏好? 卡方检验 \n",
    "+ 几种药物对某种疾病的疗效? 方差分析\n"
   ]
  },
  {
   "cell_type": "markdown",
   "metadata": {
    "nbpresent": {
     "id": "ad115efe-c82b-446a-94bf-decd699b5cfd"
    },
    "slideshow": {
     "slide_type": "slide"
    }
   },
   "source": [
    "# 产品经理\n",
    "\n",
    "+ 来自微信,微博,网站广告的用户次日留存率有无区别\n",
    "+ 网站A/B测试结果分析\n",
    "\n",
    "| 未转化| 转化 \n",
    ":-------------------------:|:-------------------------:|\n",
    "a | 4514 | 486 \n",
    "b | 4473 | 527 \n"
   ]
  },
  {
   "cell_type": "markdown",
   "metadata": {
    "slideshow": {
     "slide_type": "slide"
    }
   },
   "source": [
    "# 电商运营分析\n",
    "\n",
    "+ 某种商品该保留多少库存在能在98%的情况下不缺货?\n",
    "+ 我的促销策略有用吗？\n"
   ]
  },
  {
   "cell_type": "markdown",
   "metadata": {
    "nbpresent": {
     "id": "c1d96d4d-5e9a-409b-b996-684fa3d6836f"
    },
    "slideshow": {
     "slide_type": "slide"
    }
   },
   "source": [
    "# 产品经理\n",
    "\n",
    "+ 用户群组分析(Cohort Analysis)\n",
    "\n",
    "![](./img/cohort.jpg)"
   ]
  },
  {
   "cell_type": "markdown",
   "metadata": {
    "nbpresent": {
     "id": "5cfb2853-e5bc-4c74-9590-876b7aacfaca"
    },
    "slideshow": {
     "slide_type": "slide"
    }
   },
   "source": [
    "# 网站开发:日志分析\n",
    "\n",
    "![](./img/log.jpg)"
   ]
  },
  {
   "cell_type": "markdown",
   "metadata": {
    "slideshow": {
     "slide_type": "slide"
    }
   },
   "source": [
    "# 呼叫中心管理人员\n",
    "\n",
    "![](./img/call.png)"
   ]
  },
  {
   "cell_type": "markdown",
   "metadata": {
    "collapsed": true,
    "nbpresent": {
     "id": "e3c6bff2-fcee-4bb9-8168-70cabd81bde2"
    },
    "slideshow": {
     "slide_type": "slide"
    }
   },
   "source": [
    " # 自行车什么时候容易被盗\n",
    " \n",
    " |  |\n",
    ":-------------------------:|:-------------------------: \n",
    "![](./img/bike-theft-1.jpg) | ![](./img/bike-theft-2.jpg)"
   ]
  },
  {
   "cell_type": "markdown",
   "metadata": {
    "nbpresent": {
     "id": "a35550de-2691-4fa1-94ca-50edc6163077"
    },
    "slideshow": {
     "slide_type": "slide"
    }
   },
   "source": [
    "# 公共安全: 凶杀与时间的关系\n",
    "\n",
    "![](./img/homicides_month_hour_heatmap.png)"
   ]
  },
  {
   "cell_type": "markdown",
   "metadata": {
    "nbpresent": {
     "id": "045d030e-2ecd-416d-b985-011341932772"
    },
    "slideshow": {
     "slide_type": "slide"
    }
   },
   "source": [
    "# 健康部门对国民的肥胖数据分析\n",
    "\n",
    "||\n",
    ":-------------------------:|\n",
    "![](./img/obesity.jpg) |"
   ]
  },
  {
   "cell_type": "markdown",
   "metadata": {
    "nbpresent": {
     "id": "40176ebc-60ad-4c2b-99b4-d66e26610f0c"
    },
    "slideshow": {
     "slide_type": "slide"
    }
   },
   "source": [
    "# 民航管理部门: 航班准点情况\n",
    "\n",
    "![](./img/airline.jpg)"
   ]
  },
  {
   "cell_type": "markdown",
   "metadata": {
    "nbpresent": {
     "id": "8e1c9b07-3a3d-42cd-9cc5-5e068a396fe3"
    },
    "slideshow": {
     "slide_type": "slide"
    }
   },
   "source": [
    "# 交通执法部门交通违法分析\n",
    "\n",
    "![](./img/traffic-violation.jpg)"
   ]
  },
  {
   "cell_type": "markdown",
   "metadata": {
    "nbpresent": {
     "id": "80c6e6fc-34ff-4853-89a4-d7e17697a9d4"
    },
    "slideshow": {
     "slide_type": "slide"
    }
   },
   "source": [
    "# 政府职员工资分析\n",
    "\n",
    "||\n",
    ":-------------------------:|\n",
    "![](./img/salary.jpg) |"
   ]
  },
  {
   "cell_type": "markdown",
   "metadata": {
    "nbpresent": {
     "id": "9fc97a8b-eb72-4805-a494-586b428da49d"
    },
    "slideshow": {
     "slide_type": "slide"
    }
   },
   "source": [
    "# 泰坦尼克生还数据分析\n",
    "\n",
    " |  | |\n",
    ":-------------------------:|:-------------------------: |:-------------------------: \n",
    "![](./img/titanic-1.jpg) | ![](./img/titanic-2.jpg) | ![](./img/titanic-3.jpg) "
   ]
  },
  {
   "cell_type": "markdown",
   "metadata": {
    "slideshow": {
     "slide_type": "slide"
    }
   },
   "source": [
    "# 投资分析\n",
    "\n",
    "||\n",
    ":-------------------------:|\n",
    "![](./img/stock.jpg) | "
   ]
  },
  {
   "cell_type": "markdown",
   "metadata": {
    "nbpresent": {
     "id": "65228550-4682-4fe4-8da4-59f702b629ec"
    },
    "slideshow": {
     "slide_type": "slide"
    }
   },
   "source": [
    "# 乱停车在什么时间更容易贴罚单\n",
    "\n",
    "||\n",
    ":-------------------------:|\n",
    "![](./img/parking.jpg) |"
   ]
  },
  {
   "cell_type": "markdown",
   "metadata": {
    "nbpresent": {
     "id": "50b59642-c223-4a62-ace6-f2380b425f70"
    },
    "slideshow": {
     "slide_type": "slide"
    }
   },
   "source": [
    "# 男人更喜欢终结者,女人更喜欢独立日?\n",
    "\n",
    "![](./img/movie.jpg)"
   ]
  },
  {
   "cell_type": "markdown",
   "metadata": {
    "nbpresent": {
     "id": "63e3a262-2e88-42eb-9f78-e1bb14f7355f"
    },
    "slideshow": {
     "slide_type": "slide"
    }
   },
   "source": [
    "# 全球地震数据可视化\n",
    "\n",
    "||\n",
    ":-------------------------:|\n",
    "![](./img/earthquake.jpg) | \n"
   ]
  },
  {
   "cell_type": "markdown",
   "metadata": {
    "slideshow": {
     "slide_type": "slide"
    }
   },
   "source": [
    "# 课程组织\n",
    "\n",
    "+ 视频讲解\n",
    "+ 实战案例解析\n",
    "+ 课后练习\n",
    "+ 小组讨论\n",
    "+ 在线答疑"
   ]
  }
 ],
 "metadata": {
  "anaconda-cloud": {},
  "celltoolbar": "Slideshow",
  "kernelspec": {
   "display_name": "Python [default]",
   "language": "python",
   "name": "python3"
  },
  "language_info": {
   "codemirror_mode": {
    "name": "ipython",
    "version": 3
   },
   "file_extension": ".py",
   "mimetype": "text/x-python",
   "name": "python",
   "nbconvert_exporter": "python",
   "pygments_lexer": "ipython3",
   "version": "3.5.2"
  },
  "nbpresent": {
   "slides": {
    "23c8cd28-19a0-4daf-bca5-58721c555866": {
     "id": "23c8cd28-19a0-4daf-bca5-58721c555866",
     "prev": "cff0d659-552c-46df-870c-da62f9c2d783",
     "regions": {
      "a1c16b4e-388a-4fa9-8dfc-5d1f035ef783": {
       "attrs": {
        "height": 0.8,
        "width": 0.8,
        "x": 0.1,
        "y": 0.1
       },
       "content": {
        "cell": "40176ebc-60ad-4c2b-99b4-d66e26610f0c",
        "part": "whole"
       },
       "id": "a1c16b4e-388a-4fa9-8dfc-5d1f035ef783"
      }
     }
    },
    "3445be38-9774-4d61-b465-86e4f75951ae": {
     "id": "3445be38-9774-4d61-b465-86e4f75951ae",
     "prev": "23c8cd28-19a0-4daf-bca5-58721c555866",
     "regions": {
      "de3b55a4-1643-4306-9cf4-e528f9e02387": {
       "attrs": {
        "height": 0.8,
        "width": 0.8,
        "x": 0.1,
        "y": 0.1
       },
       "content": {
        "cell": "8e1c9b07-3a3d-42cd-9cc5-5e068a396fe3",
        "part": "whole"
       },
       "id": "de3b55a4-1643-4306-9cf4-e528f9e02387"
      }
     }
    },
    "3d6f98c5-f4ce-40fc-969e-75e52e7a3c5e": {
     "id": "3d6f98c5-f4ce-40fc-969e-75e52e7a3c5e",
     "prev": "8292b485-c119-4f86-afe7-00459b7fe3df",
     "regions": {
      "5f8b7840-b414-4670-b72c-fe2a95986d09": {
       "attrs": {
        "height": 0.8,
        "width": 0.8,
        "x": 0.1,
        "y": 0.1
       },
       "content": {
        "cell": "63e3a262-2e88-42eb-9f78-e1bb14f7355f",
        "part": "whole"
       },
       "id": "5f8b7840-b414-4670-b72c-fe2a95986d09"
      }
     }
    },
    "3f591b5a-1e3a-4569-8819-2917ae9aca84": {
     "id": "3f591b5a-1e3a-4569-8819-2917ae9aca84",
     "prev": "3445be38-9774-4d61-b465-86e4f75951ae",
     "regions": {
      "dbc2453e-7699-4e7b-bc13-8baa6aa1c09b": {
       "attrs": {
        "height": 0.8,
        "width": 0.8,
        "x": 0.1,
        "y": 0.1
       },
       "content": {
        "cell": "80c6e6fc-34ff-4853-89a4-d7e17697a9d4",
        "part": "whole"
       },
       "id": "dbc2453e-7699-4e7b-bc13-8baa6aa1c09b"
      }
     }
    },
    "46d4d0fe-665f-495f-9940-4b98e53f54b7": {
     "id": "46d4d0fe-665f-495f-9940-4b98e53f54b7",
     "prev": "91284c6e-9788-493d-b142-c98639c71103",
     "regions": {
      "3d9adbe0-2ae2-44fa-a7fc-a3f78a1310e8": {
       "attrs": {
        "height": 0.8,
        "width": 0.8,
        "x": 0.1,
        "y": 0.1
       },
       "content": {
        "cell": "65228550-4682-4fe4-8da4-59f702b629ec",
        "part": "whole"
       },
       "id": "3d9adbe0-2ae2-44fa-a7fc-a3f78a1310e8"
      }
     }
    },
    "48680f39-8d93-40c8-b5bf-5c88b8419323": {
     "id": "48680f39-8d93-40c8-b5bf-5c88b8419323",
     "prev": "e9a61806-5f6a-406e-a8a6-e8c08bf2cd7e",
     "regions": {
      "14d8c239-3d62-4c45-8e48-2edcddd37b45": {
       "attrs": {
        "height": 0.8,
        "width": 0.8,
        "x": 0.1,
        "y": 0.1
       },
       "content": {
        "cell": "a35550de-2691-4fa1-94ca-50edc6163077",
        "part": "whole"
       },
       "id": "14d8c239-3d62-4c45-8e48-2edcddd37b45"
      }
     }
    },
    "4b7ed3e4-3896-4edd-bec9-2895f040412d": {
     "id": "4b7ed3e4-3896-4edd-bec9-2895f040412d",
     "prev": "b8e6eb79-18a3-4e57-90e8-9dc1b69c0e41",
     "regions": {
      "93783825-9d9b-4fdb-9bd7-b0eaf8776b97": {
       "attrs": {
        "height": 0.8,
        "width": 0.8,
        "x": 0.1,
        "y": 0.1
       },
       "content": {
        "cell": "5cfb2853-e5bc-4c74-9590-876b7aacfaca",
        "part": "whole"
       },
       "id": "93783825-9d9b-4fdb-9bd7-b0eaf8776b97"
      }
     }
    },
    "8292b485-c119-4f86-afe7-00459b7fe3df": {
     "id": "8292b485-c119-4f86-afe7-00459b7fe3df",
     "prev": "46d4d0fe-665f-495f-9940-4b98e53f54b7",
     "regions": {
      "dbabc60a-8b02-4422-974b-42b4b310b05f": {
       "attrs": {
        "height": 0.8,
        "width": 0.8,
        "x": 0.1,
        "y": 0.1
       },
       "content": {
        "cell": "50b59642-c223-4a62-ace6-f2380b425f70",
        "part": "whole"
       },
       "id": "dbabc60a-8b02-4422-974b-42b4b310b05f"
      }
     }
    },
    "8b23f15d-63f1-45b5-83c5-f97f1ef5c463": {
     "id": "8b23f15d-63f1-45b5-83c5-f97f1ef5c463",
     "prev": null,
     "regions": {
      "1d2669c5-7bf0-4af1-bb93-b6a102a7e42a": {
       "attrs": {
        "height": 0.8,
        "width": 0.8,
        "x": 0.1,
        "y": 0.1
       },
       "content": {
        "cell": "425c5a4b-4feb-4dc6-982c-c3b077d51015",
        "part": "whole"
       },
       "id": "1d2669c5-7bf0-4af1-bb93-b6a102a7e42a"
      }
     }
    },
    "91284c6e-9788-493d-b142-c98639c71103": {
     "id": "91284c6e-9788-493d-b142-c98639c71103",
     "prev": "3f591b5a-1e3a-4569-8819-2917ae9aca84",
     "regions": {
      "7a981672-462e-42ab-826b-0a1570980f36": {
       "attrs": {
        "height": 0.8,
        "width": 0.8,
        "x": 0.1,
        "y": 0.1
       },
       "content": {
        "cell": "9fc97a8b-eb72-4805-a494-586b428da49d",
        "part": "whole"
       },
       "id": "7a981672-462e-42ab-826b-0a1570980f36"
      }
     }
    },
    "b8e6eb79-18a3-4e57-90e8-9dc1b69c0e41": {
     "id": "b8e6eb79-18a3-4e57-90e8-9dc1b69c0e41",
     "prev": "cc40ca14-f2ff-4097-8a42-15a3c1cf68db",
     "regions": {
      "70646ab7-14a1-4d63-96b7-7f57abdfeae9": {
       "attrs": {
        "height": 0.8,
        "width": 0.8,
        "x": 0.1,
        "y": 0.1
       },
       "content": {
        "cell": "c1d96d4d-5e9a-409b-b996-684fa3d6836f",
        "part": "whole"
       },
       "id": "70646ab7-14a1-4d63-96b7-7f57abdfeae9"
      }
     }
    },
    "c7f7d8bd-f065-4983-87dd-33640cd95717": {
     "id": "c7f7d8bd-f065-4983-87dd-33640cd95717",
     "prev": "4b7ed3e4-3896-4edd-bec9-2895f040412d",
     "regions": {
      "382d5591-6b7f-4de5-97d4-ce2abcf0c1a0": {
       "attrs": {
        "height": 0.8,
        "width": 0.8,
        "x": 0.1,
        "y": 0.1
       },
       "content": {
        "cell": "89a58cd3-21d7-4d99-9e80-f3c3929c1316",
        "part": "whole"
       },
       "id": "382d5591-6b7f-4de5-97d4-ce2abcf0c1a0"
      }
     }
    },
    "cc40ca14-f2ff-4097-8a42-15a3c1cf68db": {
     "id": "cc40ca14-f2ff-4097-8a42-15a3c1cf68db",
     "prev": "fdeb0a71-6a25-4ec2-985d-3db52f470e7b",
     "regions": {
      "87923983-91e1-47bd-8edf-07010d4f0067": {
       "attrs": {
        "height": 0.8,
        "width": 0.8,
        "x": 0.1,
        "y": 0.1
       },
       "content": {
        "cell": "ad115efe-c82b-446a-94bf-decd699b5cfd",
        "part": "whole"
       },
       "id": "87923983-91e1-47bd-8edf-07010d4f0067"
      }
     }
    },
    "cff0d659-552c-46df-870c-da62f9c2d783": {
     "id": "cff0d659-552c-46df-870c-da62f9c2d783",
     "prev": "48680f39-8d93-40c8-b5bf-5c88b8419323",
     "regions": {
      "73b58225-daf2-4b82-8711-805412c70f5d": {
       "attrs": {
        "height": 0.8,
        "width": 0.8,
        "x": 0.1,
        "y": 0.1
       },
       "content": {
        "cell": "045d030e-2ecd-416d-b985-011341932772",
        "part": "whole"
       },
       "id": "73b58225-daf2-4b82-8711-805412c70f5d"
      }
     }
    },
    "e9a61806-5f6a-406e-a8a6-e8c08bf2cd7e": {
     "id": "e9a61806-5f6a-406e-a8a6-e8c08bf2cd7e",
     "prev": "c7f7d8bd-f065-4983-87dd-33640cd95717",
     "regions": {
      "93ccf301-b579-4c79-b037-4b0c497648a6": {
       "attrs": {
        "height": 0.8,
        "width": 0.8,
        "x": 0.1,
        "y": 0.1
       },
       "content": {
        "cell": "e3c6bff2-fcee-4bb9-8168-70cabd81bde2",
        "part": "whole"
       },
       "id": "93ccf301-b579-4c79-b037-4b0c497648a6"
      }
     }
    },
    "f4260b26-bb08-472c-8fc7-3b1e9351cf83": {
     "id": "f4260b26-bb08-472c-8fc7-3b1e9351cf83",
     "prev": "8b23f15d-63f1-45b5-83c5-f97f1ef5c463",
     "regions": {
      "37334dd5-cf72-4f9c-ba8d-6b8459974a6f": {
       "attrs": {
        "height": 0.8,
        "width": 0.8,
        "x": 0.1,
        "y": 0.1
       },
       "content": {
        "cell": "e84305bb-0075-45ab-9865-69f0bda14b46",
        "part": "whole"
       },
       "id": "37334dd5-cf72-4f9c-ba8d-6b8459974a6f"
      }
     }
    },
    "fdeb0a71-6a25-4ec2-985d-3db52f470e7b": {
     "id": "fdeb0a71-6a25-4ec2-985d-3db52f470e7b",
     "prev": "f4260b26-bb08-472c-8fc7-3b1e9351cf83",
     "regions": {
      "ba668a51-3c8c-496e-82df-5777aa7f34b4": {
       "attrs": {
        "height": 0.8,
        "width": 0.8,
        "x": 0.1,
        "y": 0.1
       },
       "content": {
        "cell": "b29a11f4-916c-40fd-b73c-7e6016912427",
        "part": "whole"
       },
       "id": "ba668a51-3c8c-496e-82df-5777aa7f34b4"
      }
     }
    }
   },
   "themes": {}
  }
 },
 "nbformat": 4,
 "nbformat_minor": 0
}
