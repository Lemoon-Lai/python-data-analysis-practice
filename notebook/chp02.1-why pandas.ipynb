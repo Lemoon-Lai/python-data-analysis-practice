{
 "cells": [
  {
   "cell_type": "markdown",
   "metadata": {},
   "source": [
    "简洁高效的数据分析工具需要具备对一维或者多维数据进行索引，读取，整理，组合，数据分片等能力。pandas则是面向python程序员的的一个强大数据工具：\n",
    "\n",
    "+ 相同或者不同数据类型数据集的的高性能数组以及表结构：Series和DataFrame对象\n",
    "+ 对表数据中的行，列进行插入，删除\n",
    "+ 层次索引(Hierarchical index)\n",
    "+ 对缺失数据的处理：定位，插值\n",
    "+ 强大的分组统计功能（split-apply-combine）\n",
    "+ 数据分片，过滤\n",
    "+ 类似与sql的表merge,join功能\n",
    "+ 时间序列数据处理(date\n",
    "range generation, moving window statistics, time shifting, lagging)\n",
    "+ 读取以及存储csv,txt,数据库，hdf5,json等格式文件\n",
    "+ 读取web文件，以及内置数据源Yahoo!, Google Finance, World Bank,\n",
    "\n",
    "pandas提供了与R语言几乎同等的数据操作能力，同时又是Python生态系统的一部分，与SciPy, NumPy, scikit-learn,matplotlib等共同构成了Python数据科学工具栈。后续我们将介绍如何用pandas来收集，清洗，操作各种数据。\n",
    "![](./img/python-stack.jpg)"
   ]
  },
  {
   "cell_type": "code",
   "execution_count": null,
   "metadata": {
    "collapsed": true
   },
   "outputs": [],
   "source": []
  }
 ],
 "metadata": {
  "anaconda-cloud": {},
  "kernelspec": {
   "display_name": "Python [conda env:py35]",
   "language": "python",
   "name": "conda-env-py35-py"
  },
  "language_info": {
   "codemirror_mode": {
    "name": "ipython",
    "version": 3
   },
   "file_extension": ".py",
   "mimetype": "text/x-python",
   "name": "python",
   "nbconvert_exporter": "python",
   "pygments_lexer": "ipython3",
   "version": "3.5.2"
  }
 },
 "nbformat": 4,
 "nbformat_minor": 1
}
