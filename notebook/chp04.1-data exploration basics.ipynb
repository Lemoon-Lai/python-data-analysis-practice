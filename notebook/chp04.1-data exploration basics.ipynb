{
 "cells": [
  {
   "cell_type": "code",
   "execution_count": 5,
   "metadata": {
    "collapsed": true
   },
   "outputs": [],
   "source": [
    "import numpy as np\n",
    "import pandas as pd\n",
    "\n",
    "pd.set_option('display.max_columns', 10)\n",
    "pd.set_option('display.max_rows', 10)"
   ]
  },
  {
   "cell_type": "markdown",
   "metadata": {},
   "source": [
    "split-apply-combine模式：\n",
    "1. 数据集按照key的方式分成小的数据片\n",
    "2. 对每一数据片进行操作\n",
    "3. 将结果在组合起来\n",
    "\n",
    "![](./img/sac.jpg)\n",
    "以上模式实际和MapReduce很象，MapReduce是把在单一计算机无法处理的大数据集变成分布到多个系统上小数据集，然后在每个系统进行计算，之后每个分布系统上结果在组合起来。\n",
    "\n",
    "[The Split-Apply-Combine Strategy for Data Analysis](http://www.jstatsoft.org/v40/i01/paper)\n",
    "\n",
    "+ 分组\n",
    "+ 分组数据统计\n",
    "+ Matplotlib以及pandas数据可视化初步\n",
    "\n"
   ]
  },
  {
   "cell_type": "markdown",
   "metadata": {},
   "source": [
    "### groupby 基础"
   ]
  },
  {
   "cell_type": "code",
   "execution_count": 3,
   "metadata": {
    "collapsed": false
   },
   "outputs": [],
   "source": [
    "url=\"https://en.wikipedia.org/wiki/List_of_European_Cup_and_UEFA_Champions_League_finals\"\n",
    "eu_champions=pd.read_html(url)"
   ]
  },
  {
   "cell_type": "code",
   "execution_count": 6,
   "metadata": {
    "collapsed": false
   },
   "outputs": [
    {
     "data": {
      "text/plain": [
       "[                                      0                               1\n",
       " 0  European Cup/Champions League trophy                             NaN\n",
       " 1                               Founded                            1955\n",
       " 2                                Region                   Europe (UEFA)\n",
       " 3                       Number of teams  32 (group stage) 2 (finalists)\n",
       " 4                     Current champions        Real Madrid (11th title)\n",
       " 5               Most successful club(s)         Real Madrid (11 titles)\n",
       " 6         2016–17 UEFA Champions League                             NaN,\n",
       "      0                                     1\n",
       " 0  NaN       Match was won during extra time\n",
       " 1    *  Match was won on a penalty shoot-out\n",
       " 2    &          Match was won after a replay,\n",
       "           0       1            2        3                4       5  \\\n",
       " 0    Season  Nation      Winners    Score       Runners-up  Nation   \n",
       " 1   1955–56   Spain  Real Madrid      4–3   Stade de Reims  France   \n",
       " 2   1956–57   Spain  Real Madrid      2–0       Fiorentina   Italy   \n",
       " 3   1957–58   Spain  Real Madrid      3–2            Milan   Italy   \n",
       " 4   1958–59   Spain  Real Madrid      2–0   Stade de Reims  France   \n",
       " ..      ...     ...          ...      ...              ...     ...   \n",
       " 59  2013–14   Spain  Real Madrid      4–1  Atlético Madrid   Spain   \n",
       " 60  2014–15   Spain    Barcelona      3–1         Juventus   Italy   \n",
       " 61  2015–16   Spain  Real Madrid  1–1*[L]  Atlético Madrid   Spain   \n",
       " 62  2016–17     NaN          NaN        –              NaN     NaN   \n",
       " 63  2017–18     NaN          NaN        –              NaN     NaN   \n",
       " \n",
       "                                     6               7  \n",
       " 0                               Venue  Attendance[11]  \n",
       " 1             Parc des Princes, Paris           38239  \n",
       " 2   Santiago Bernabéu Stadium, Madrid          124000  \n",
       " 3            Heysel Stadium, Brussels           67000  \n",
       " 4            Neckarstadion, Stuttgart           72000  \n",
       " ..                                ...             ...  \n",
       " 59             Estádio da Luz, Lisbon           60976  \n",
       " 60             Olympiastadion, Berlin           70442  \n",
       " 61                    San Siro, Milan           71942  \n",
       " 62        Millennium Stadium, Cardiff             NaN  \n",
       " 63      NSC Olimpiyskiy Stadium, Kyiv             NaN  \n",
       " \n",
       " [64 rows x 8 columns],\n",
       "                    0        1           2  \\\n",
       " 0         v t e Club  Winners  Runners-up   \n",
       " 1        Real Madrid       11           3   \n",
       " 2              Milan        7           4   \n",
       " 3      Bayern Munich        5           5   \n",
       " 4          Barcelona        5           3   \n",
       " ..               ...      ...         ...   \n",
       " 35              Roma        0           1   \n",
       " 36         Sampdoria        0           1   \n",
       " 37  Bayer Leverkusen        0           1   \n",
       " 38            Monaco        0           1   \n",
       " 39           Arsenal        0           1   \n",
       " \n",
       "                                                     3  \\\n",
       " 0                                           Years won   \n",
       " 1   1956, 1957, 1958, 1959, 1960, 1966, 1998, 2000...   \n",
       " 2            1963, 1969, 1989, 1990, 1994, 2003, 2007   \n",
       " 3                        1974, 1975, 1976, 2001, 2013   \n",
       " 4                        1992, 2006, 2009, 2011, 2015   \n",
       " ..                                                ...   \n",
       " 35                                                  —   \n",
       " 36                                                  —   \n",
       " 37                                                  —   \n",
       " 38                                                  —   \n",
       " 39                                                  —   \n",
       " \n",
       "                                4  \n",
       " 0                Years runner-up  \n",
       " 1               1962, 1964, 1981  \n",
       " 2         1958, 1993, 1995, 2005  \n",
       " 3   1982, 1987, 1999, 2010, 2012  \n",
       " 4               1961, 1986, 1994  \n",
       " ..                           ...  \n",
       " 35                          1984  \n",
       " 36                          1992  \n",
       " 37                          2002  \n",
       " 38                          2004  \n",
       " 39                          2006  \n",
       " \n",
       " [40 rows x 5 columns],\n",
       "              0        1           2\n",
       " 0       Nation  Winners  Runners-up\n",
       " 1        Spain       16          11\n",
       " 2        Italy       12          15\n",
       " 3      England       12           7\n",
       " 4      Germany        7          10\n",
       " ..         ...      ...         ...\n",
       " 9      Romania        1           1\n",
       " 10  Yugoslavia        1           1\n",
       " 11      Greece        0           1\n",
       " 12     Belgium        0           1\n",
       " 13      Sweden        0           1\n",
       " \n",
       " [14 rows x 3 columns],\n",
       "              0        1           2\n",
       " 0         City  Winners  Runners-up\n",
       " 1       Madrid       11           6\n",
       " 2        Milan       10           6\n",
       " 3       Munich        5           5\n",
       " 4    Barcelona        5           3\n",
       " ..         ...      ...         ...\n",
       " 31       Malmö        0           1\n",
       " 32        Rome        0           1\n",
       " 33       Genoa        0           1\n",
       " 34  Leverkusen        0           1\n",
       " 35      Monaco        0           1\n",
       " \n",
       " [36 rows x 3 columns],\n",
       "                                       0  \\\n",
       " 0  v t e UEFA club competitions winners   \n",
       " 1                                   NaN   \n",
       " 2                                 Men's   \n",
       " 3                                   NaN   \n",
       " 4                               Women's   \n",
       " \n",
       "                                                    1  \n",
       " 0                                                NaN  \n",
       " 1                                                NaN  \n",
       " 2  Champions League Cup Winners' Cup Europa Leagu...  \n",
       " 3                                                NaN  \n",
       " 4                                   Champions League  ,\n",
       "                                                    0  \\\n",
       " 0  v t e European Cup and UEFA Champions League w...   \n",
       " 1                                                NaN   \n",
       " 2                                       European Cup   \n",
       " 3                                                NaN   \n",
       " 4                              UEFA Champions League   \n",
       " 5                                                NaN   \n",
       " 6            Finals Winning managers Winning players   \n",
       " \n",
       "                                                    1  \n",
       " 0                                                NaN  \n",
       " 1                                                NaN  \n",
       " 2  1955–56: Real Madrid 1956–57: Real Madrid 1957...  \n",
       " 3                                                NaN  \n",
       " 4  1992–93: Marseille 1993–94: Milan 1994–95: Aja...  \n",
       " 5                                                NaN  \n",
       " 6                                                NaN  ,\n",
       "                                                     0  \\\n",
       " 0        v t e European Cup and UEFA Champions League   \n",
       " 1                                                 NaN   \n",
       " 2   European Cup era, 1955–1992 Seasons 1955–56 19...   \n",
       " 3                         European Cup era, 1955–1992   \n",
       " 4                                                 NaN   \n",
       " ..                                                ...   \n",
       " 12                                            Seasons   \n",
       " 13                                                NaN   \n",
       " 14                                             Finals   \n",
       " 15                                                NaN   \n",
       " 16  History Finals Winning managers Winning player...   \n",
       " \n",
       "                                                     1   2        3  \\\n",
       " 0                                                 NaN NaN      NaN   \n",
       " 1                                                 NaN NaN      NaN   \n",
       " 2                         European Cup era, 1955–1992 NaN  Seasons   \n",
       " 3                                                 NaN NaN      NaN   \n",
       " 4                                                 NaN NaN      NaN   \n",
       " ..                                                ...  ..      ...   \n",
       " 12  1992–93 1993–94 1994–95 1995–96 1996–97 1997–9... NaN      NaN   \n",
       " 13                                                NaN NaN      NaN   \n",
       " 14  1993 1994 1995 1996 1997 1998 1999 2000 2001 2... NaN      NaN   \n",
       " 15                                                NaN NaN      NaN   \n",
       " 16                                                NaN NaN      NaN   \n",
       " \n",
       "                                                     4   5       6  \\\n",
       " 0                                                 NaN NaN     NaN   \n",
       " 1                                                 NaN NaN     NaN   \n",
       " 2   1955–56 1956–57 1957–58 1958–59 1959–60 1960–6... NaN  Finals   \n",
       " 3                                                 NaN NaN     NaN   \n",
       " 4                                                 NaN NaN     NaN   \n",
       " ..                                                ...  ..     ...   \n",
       " 12                                                NaN NaN     NaN   \n",
       " 13                                                NaN NaN     NaN   \n",
       " 14                                                NaN NaN     NaN   \n",
       " 15                                                NaN NaN     NaN   \n",
       " 16                                                NaN NaN     NaN   \n",
       " \n",
       "                                                     7  \n",
       " 0                                                 NaN  \n",
       " 1                                                 NaN  \n",
       " 2   1956 1957 1958 1959 1960 1961 1962 1963 1964 1...  \n",
       " 3                                                 NaN  \n",
       " 4                                                 NaN  \n",
       " ..                                                ...  \n",
       " 12                                                NaN  \n",
       " 13                                                NaN  \n",
       " 14                                                NaN  \n",
       " 15                                                NaN  \n",
       " 16                                                NaN  \n",
       " \n",
       " [17 rows x 8 columns],\n",
       "                              0  \\\n",
       " 0  European Cup era, 1955–1992   \n",
       " 1                          NaN   \n",
       " 2                      Seasons   \n",
       " 3                          NaN   \n",
       " 4                       Finals   \n",
       " \n",
       "                                                    1  \n",
       " 0                                                NaN  \n",
       " 1                                                NaN  \n",
       " 2  1955–56 1956–57 1957–58 1958–59 1959–60 1960–6...  \n",
       " 3                                                NaN  \n",
       " 4  1956 1957 1958 1959 1960 1961 1962 1963 1964 1...  ,\n",
       "                                     0  \\\n",
       " 0  Champions League era, 1992–present   \n",
       " 1                                 NaN   \n",
       " 2                             Seasons   \n",
       " 3                                 NaN   \n",
       " 4                              Finals   \n",
       " \n",
       "                                                    1  \n",
       " 0                                                NaN  \n",
       " 1                                                NaN  \n",
       " 2  1992–93 1993–94 1994–95 1995–96 1996–97 1997–9...  \n",
       " 3                                                NaN  \n",
       " 4  1993 1994 1995 1996 1997 1998 1999 2000 2001 2...  ]"
      ]
     },
     "execution_count": 6,
     "metadata": {},
     "output_type": "execute_result"
    }
   ],
   "source": [
    "eu_champions"
   ]
  },
  {
   "cell_type": "code",
   "execution_count": 4,
   "metadata": {
    "collapsed": false
   },
   "outputs": [
    {
     "data": {
      "text/html": [
       "<div>\n",
       "<table border=\"1\" class=\"dataframe\">\n",
       "  <thead>\n",
       "    <tr style=\"text-align: right;\">\n",
       "      <th></th>\n",
       "      <th>0</th>\n",
       "      <th>1</th>\n",
       "      <th>2</th>\n",
       "      <th>3</th>\n",
       "      <th>4</th>\n",
       "      <th>5</th>\n",
       "      <th>6</th>\n",
       "      <th>7</th>\n",
       "    </tr>\n",
       "  </thead>\n",
       "  <tbody>\n",
       "    <tr>\n",
       "      <th>0</th>\n",
       "      <td>Season</td>\n",
       "      <td>Nation</td>\n",
       "      <td>Winners</td>\n",
       "      <td>Score</td>\n",
       "      <td>Runners-up</td>\n",
       "      <td>Nation</td>\n",
       "      <td>Venue</td>\n",
       "      <td>Attendance[11]</td>\n",
       "    </tr>\n",
       "    <tr>\n",
       "      <th>1</th>\n",
       "      <td>1955–56</td>\n",
       "      <td>Spain</td>\n",
       "      <td>Real Madrid</td>\n",
       "      <td>4–3</td>\n",
       "      <td>Stade de Reims</td>\n",
       "      <td>France</td>\n",
       "      <td>Parc des Princes, Paris</td>\n",
       "      <td>38239</td>\n",
       "    </tr>\n",
       "    <tr>\n",
       "      <th>2</th>\n",
       "      <td>1956–57</td>\n",
       "      <td>Spain</td>\n",
       "      <td>Real Madrid</td>\n",
       "      <td>2–0</td>\n",
       "      <td>Fiorentina</td>\n",
       "      <td>Italy</td>\n",
       "      <td>Santiago Bernabéu Stadium, Madrid</td>\n",
       "      <td>124000</td>\n",
       "    </tr>\n",
       "    <tr>\n",
       "      <th>3</th>\n",
       "      <td>1957–58</td>\n",
       "      <td>Spain</td>\n",
       "      <td>Real Madrid</td>\n",
       "      <td>3–2</td>\n",
       "      <td>Milan</td>\n",
       "      <td>Italy</td>\n",
       "      <td>Heysel Stadium, Brussels</td>\n",
       "      <td>67000</td>\n",
       "    </tr>\n",
       "    <tr>\n",
       "      <th>4</th>\n",
       "      <td>1958–59</td>\n",
       "      <td>Spain</td>\n",
       "      <td>Real Madrid</td>\n",
       "      <td>2–0</td>\n",
       "      <td>Stade de Reims</td>\n",
       "      <td>France</td>\n",
       "      <td>Neckarstadion, Stuttgart</td>\n",
       "      <td>72000</td>\n",
       "    </tr>\n",
       "    <tr>\n",
       "      <th>...</th>\n",
       "      <td>...</td>\n",
       "      <td>...</td>\n",
       "      <td>...</td>\n",
       "      <td>...</td>\n",
       "      <td>...</td>\n",
       "      <td>...</td>\n",
       "      <td>...</td>\n",
       "      <td>...</td>\n",
       "    </tr>\n",
       "    <tr>\n",
       "      <th>59</th>\n",
       "      <td>2013–14</td>\n",
       "      <td>Spain</td>\n",
       "      <td>Real Madrid</td>\n",
       "      <td>4–1</td>\n",
       "      <td>Atlético Madrid</td>\n",
       "      <td>Spain</td>\n",
       "      <td>Estádio da Luz, Lisbon</td>\n",
       "      <td>60976</td>\n",
       "    </tr>\n",
       "    <tr>\n",
       "      <th>60</th>\n",
       "      <td>2014–15</td>\n",
       "      <td>Spain</td>\n",
       "      <td>Barcelona</td>\n",
       "      <td>3–1</td>\n",
       "      <td>Juventus</td>\n",
       "      <td>Italy</td>\n",
       "      <td>Olympiastadion, Berlin</td>\n",
       "      <td>70442</td>\n",
       "    </tr>\n",
       "    <tr>\n",
       "      <th>61</th>\n",
       "      <td>2015–16</td>\n",
       "      <td>Spain</td>\n",
       "      <td>Real Madrid</td>\n",
       "      <td>1–1*[L]</td>\n",
       "      <td>Atlético Madrid</td>\n",
       "      <td>Spain</td>\n",
       "      <td>San Siro, Milan</td>\n",
       "      <td>71942</td>\n",
       "    </tr>\n",
       "    <tr>\n",
       "      <th>62</th>\n",
       "      <td>2016–17</td>\n",
       "      <td>NaN</td>\n",
       "      <td>NaN</td>\n",
       "      <td>–</td>\n",
       "      <td>NaN</td>\n",
       "      <td>NaN</td>\n",
       "      <td>Millennium Stadium, Cardiff</td>\n",
       "      <td>NaN</td>\n",
       "    </tr>\n",
       "    <tr>\n",
       "      <th>63</th>\n",
       "      <td>2017–18</td>\n",
       "      <td>NaN</td>\n",
       "      <td>NaN</td>\n",
       "      <td>–</td>\n",
       "      <td>NaN</td>\n",
       "      <td>NaN</td>\n",
       "      <td>NSC Olimpiyskiy Stadium, Kyiv</td>\n",
       "      <td>NaN</td>\n",
       "    </tr>\n",
       "  </tbody>\n",
       "</table>\n",
       "<p>64 rows × 8 columns</p>\n",
       "</div>"
      ],
      "text/plain": [
       "          0       1            2        3                4       5  \\\n",
       "0    Season  Nation      Winners    Score       Runners-up  Nation   \n",
       "1   1955–56   Spain  Real Madrid      4–3   Stade de Reims  France   \n",
       "2   1956–57   Spain  Real Madrid      2–0       Fiorentina   Italy   \n",
       "3   1957–58   Spain  Real Madrid      3–2            Milan   Italy   \n",
       "4   1958–59   Spain  Real Madrid      2–0   Stade de Reims  France   \n",
       "..      ...     ...          ...      ...              ...     ...   \n",
       "59  2013–14   Spain  Real Madrid      4–1  Atlético Madrid   Spain   \n",
       "60  2014–15   Spain    Barcelona      3–1         Juventus   Italy   \n",
       "61  2015–16   Spain  Real Madrid  1–1*[L]  Atlético Madrid   Spain   \n",
       "62  2016–17     NaN          NaN        –              NaN     NaN   \n",
       "63  2017–18     NaN          NaN        –              NaN     NaN   \n",
       "\n",
       "                                    6               7  \n",
       "0                               Venue  Attendance[11]  \n",
       "1             Parc des Princes, Paris           38239  \n",
       "2   Santiago Bernabéu Stadium, Madrid          124000  \n",
       "3            Heysel Stadium, Brussels           67000  \n",
       "4            Neckarstadion, Stuttgart           72000  \n",
       "..                                ...             ...  \n",
       "59             Estádio da Luz, Lisbon           60976  \n",
       "60             Olympiastadion, Berlin           70442  \n",
       "61                    San Siro, Milan           71942  \n",
       "62        Millennium Stadium, Cardiff             NaN  \n",
       "63      NSC Olimpiyskiy Stadium, Kyiv             NaN  \n",
       "\n",
       "[64 rows x 8 columns]"
      ]
     },
     "execution_count": 4,
     "metadata": {},
     "output_type": "execute_result"
    }
   ],
   "source": [
    "eu_champions[2]"
   ]
  },
  {
   "cell_type": "code",
   "execution_count": 7,
   "metadata": {
    "collapsed": false
   },
   "outputs": [],
   "source": [
    "eu_champions=eu_champions[2]"
   ]
  },
  {
   "cell_type": "code",
   "execution_count": 8,
   "metadata": {
    "collapsed": false
   },
   "outputs": [],
   "source": [
    "eu_champions.columns=eu_champions.loc[0]"
   ]
  },
  {
   "cell_type": "code",
   "execution_count": 9,
   "metadata": {
    "collapsed": false
   },
   "outputs": [
    {
     "data": {
      "text/html": [
       "<div>\n",
       "<table border=\"1\" class=\"dataframe\">\n",
       "  <thead>\n",
       "    <tr style=\"text-align: right;\">\n",
       "      <th></th>\n",
       "      <th>Season</th>\n",
       "      <th>Nation</th>\n",
       "      <th>Winners</th>\n",
       "      <th>Score</th>\n",
       "      <th>Runners-up</th>\n",
       "      <th>Nation</th>\n",
       "      <th>Venue</th>\n",
       "      <th>Attendance[11]</th>\n",
       "    </tr>\n",
       "  </thead>\n",
       "  <tbody>\n",
       "    <tr>\n",
       "      <th>0</th>\n",
       "      <td>Season</td>\n",
       "      <td>Nation</td>\n",
       "      <td>Winners</td>\n",
       "      <td>Score</td>\n",
       "      <td>Runners-up</td>\n",
       "      <td>Nation</td>\n",
       "      <td>Venue</td>\n",
       "      <td>Attendance[11]</td>\n",
       "    </tr>\n",
       "    <tr>\n",
       "      <th>1</th>\n",
       "      <td>1955–56</td>\n",
       "      <td>Spain</td>\n",
       "      <td>Real Madrid</td>\n",
       "      <td>4–3</td>\n",
       "      <td>Stade de Reims</td>\n",
       "      <td>France</td>\n",
       "      <td>Parc des Princes, Paris</td>\n",
       "      <td>38239</td>\n",
       "    </tr>\n",
       "    <tr>\n",
       "      <th>2</th>\n",
       "      <td>1956–57</td>\n",
       "      <td>Spain</td>\n",
       "      <td>Real Madrid</td>\n",
       "      <td>2–0</td>\n",
       "      <td>Fiorentina</td>\n",
       "      <td>Italy</td>\n",
       "      <td>Santiago Bernabéu Stadium, Madrid</td>\n",
       "      <td>124000</td>\n",
       "    </tr>\n",
       "    <tr>\n",
       "      <th>3</th>\n",
       "      <td>1957–58</td>\n",
       "      <td>Spain</td>\n",
       "      <td>Real Madrid</td>\n",
       "      <td>3–2</td>\n",
       "      <td>Milan</td>\n",
       "      <td>Italy</td>\n",
       "      <td>Heysel Stadium, Brussels</td>\n",
       "      <td>67000</td>\n",
       "    </tr>\n",
       "    <tr>\n",
       "      <th>4</th>\n",
       "      <td>1958–59</td>\n",
       "      <td>Spain</td>\n",
       "      <td>Real Madrid</td>\n",
       "      <td>2–0</td>\n",
       "      <td>Stade de Reims</td>\n",
       "      <td>France</td>\n",
       "      <td>Neckarstadion, Stuttgart</td>\n",
       "      <td>72000</td>\n",
       "    </tr>\n",
       "  </tbody>\n",
       "</table>\n",
       "</div>"
      ],
      "text/plain": [
       "0   Season  Nation      Winners  Score      Runners-up  Nation  \\\n",
       "0   Season  Nation      Winners  Score      Runners-up  Nation   \n",
       "1  1955–56   Spain  Real Madrid    4–3  Stade de Reims  France   \n",
       "2  1956–57   Spain  Real Madrid    2–0      Fiorentina   Italy   \n",
       "3  1957–58   Spain  Real Madrid    3–2           Milan   Italy   \n",
       "4  1958–59   Spain  Real Madrid    2–0  Stade de Reims  France   \n",
       "\n",
       "0                              Venue  Attendance[11]  \n",
       "0                              Venue  Attendance[11]  \n",
       "1            Parc des Princes, Paris           38239  \n",
       "2  Santiago Bernabéu Stadium, Madrid          124000  \n",
       "3           Heysel Stadium, Brussels           67000  \n",
       "4           Neckarstadion, Stuttgart           72000  "
      ]
     },
     "execution_count": 9,
     "metadata": {},
     "output_type": "execute_result"
    }
   ],
   "source": [
    "eu_champions.head()"
   ]
  },
  {
   "cell_type": "code",
   "execution_count": 10,
   "metadata": {
    "collapsed": false
   },
   "outputs": [],
   "source": [
    "eu_champions.drop(0,inplace=True)"
   ]
  },
  {
   "cell_type": "code",
   "execution_count": 11,
   "metadata": {
    "collapsed": false
   },
   "outputs": [
    {
     "data": {
      "text/html": [
       "<div>\n",
       "<table border=\"1\" class=\"dataframe\">\n",
       "  <thead>\n",
       "    <tr style=\"text-align: right;\">\n",
       "      <th></th>\n",
       "      <th>Season</th>\n",
       "      <th>Nation</th>\n",
       "      <th>Winners</th>\n",
       "      <th>Score</th>\n",
       "      <th>Runners-up</th>\n",
       "      <th>Nation</th>\n",
       "      <th>Venue</th>\n",
       "      <th>Attendance[11]</th>\n",
       "    </tr>\n",
       "  </thead>\n",
       "  <tbody>\n",
       "    <tr>\n",
       "      <th>1</th>\n",
       "      <td>1955–56</td>\n",
       "      <td>Spain</td>\n",
       "      <td>Real Madrid</td>\n",
       "      <td>4–3</td>\n",
       "      <td>Stade de Reims</td>\n",
       "      <td>France</td>\n",
       "      <td>Parc des Princes, Paris</td>\n",
       "      <td>38239</td>\n",
       "    </tr>\n",
       "    <tr>\n",
       "      <th>2</th>\n",
       "      <td>1956–57</td>\n",
       "      <td>Spain</td>\n",
       "      <td>Real Madrid</td>\n",
       "      <td>2–0</td>\n",
       "      <td>Fiorentina</td>\n",
       "      <td>Italy</td>\n",
       "      <td>Santiago Bernabéu Stadium, Madrid</td>\n",
       "      <td>124000</td>\n",
       "    </tr>\n",
       "    <tr>\n",
       "      <th>3</th>\n",
       "      <td>1957–58</td>\n",
       "      <td>Spain</td>\n",
       "      <td>Real Madrid</td>\n",
       "      <td>3–2</td>\n",
       "      <td>Milan</td>\n",
       "      <td>Italy</td>\n",
       "      <td>Heysel Stadium, Brussels</td>\n",
       "      <td>67000</td>\n",
       "    </tr>\n",
       "    <tr>\n",
       "      <th>4</th>\n",
       "      <td>1958–59</td>\n",
       "      <td>Spain</td>\n",
       "      <td>Real Madrid</td>\n",
       "      <td>2–0</td>\n",
       "      <td>Stade de Reims</td>\n",
       "      <td>France</td>\n",
       "      <td>Neckarstadion, Stuttgart</td>\n",
       "      <td>72000</td>\n",
       "    </tr>\n",
       "    <tr>\n",
       "      <th>5</th>\n",
       "      <td>1959–60</td>\n",
       "      <td>Spain</td>\n",
       "      <td>Real Madrid</td>\n",
       "      <td>7–3</td>\n",
       "      <td>Eintracht Frankfurt</td>\n",
       "      <td>West Germany</td>\n",
       "      <td>Hampden Park, Glasgow</td>\n",
       "      <td>127621</td>\n",
       "    </tr>\n",
       "  </tbody>\n",
       "</table>\n",
       "</div>"
      ],
      "text/plain": [
       "0   Season Nation      Winners Score           Runners-up        Nation  \\\n",
       "1  1955–56  Spain  Real Madrid   4–3       Stade de Reims        France   \n",
       "2  1956–57  Spain  Real Madrid   2–0           Fiorentina         Italy   \n",
       "3  1957–58  Spain  Real Madrid   3–2                Milan         Italy   \n",
       "4  1958–59  Spain  Real Madrid   2–0       Stade de Reims        France   \n",
       "5  1959–60  Spain  Real Madrid   7–3  Eintracht Frankfurt  West Germany   \n",
       "\n",
       "0                              Venue Attendance[11]  \n",
       "1            Parc des Princes, Paris          38239  \n",
       "2  Santiago Bernabéu Stadium, Madrid         124000  \n",
       "3           Heysel Stadium, Brussels          67000  \n",
       "4           Neckarstadion, Stuttgart          72000  \n",
       "5              Hampden Park, Glasgow         127621  "
      ]
     },
     "execution_count": 11,
     "metadata": {},
     "output_type": "execute_result"
    }
   ],
   "source": [
    "eu_champions.head()"
   ]
  },
  {
   "cell_type": "code",
   "execution_count": 12,
   "metadata": {
    "collapsed": false
   },
   "outputs": [],
   "source": [
    "#eu_champions.rename(columns={\"Runners-up\":\"Runners_up\",\"Attendance[12]\":\"Attendance\"},inplace=True)\n",
    "eu_champions.columns=['Season', 'Nation', 'Winners', 'Score', 'Runners_up', 'Runners_up_Nation', 'Venue','Attendance']"
   ]
  },
  {
   "cell_type": "code",
   "execution_count": 13,
   "metadata": {
    "collapsed": false
   },
   "outputs": [
    {
     "data": {
      "text/html": [
       "<div>\n",
       "<table border=\"1\" class=\"dataframe\">\n",
       "  <thead>\n",
       "    <tr style=\"text-align: right;\">\n",
       "      <th></th>\n",
       "      <th>Season</th>\n",
       "      <th>Nation</th>\n",
       "      <th>Winners</th>\n",
       "      <th>Score</th>\n",
       "      <th>Runners_up</th>\n",
       "      <th>Runners_up_Nation</th>\n",
       "      <th>Venue</th>\n",
       "      <th>Attendance</th>\n",
       "    </tr>\n",
       "  </thead>\n",
       "  <tbody>\n",
       "    <tr>\n",
       "      <th>1</th>\n",
       "      <td>1955–56</td>\n",
       "      <td>Spain</td>\n",
       "      <td>Real Madrid</td>\n",
       "      <td>4–3</td>\n",
       "      <td>Stade de Reims</td>\n",
       "      <td>France</td>\n",
       "      <td>Parc des Princes, Paris</td>\n",
       "      <td>38239</td>\n",
       "    </tr>\n",
       "    <tr>\n",
       "      <th>2</th>\n",
       "      <td>1956–57</td>\n",
       "      <td>Spain</td>\n",
       "      <td>Real Madrid</td>\n",
       "      <td>2–0</td>\n",
       "      <td>Fiorentina</td>\n",
       "      <td>Italy</td>\n",
       "      <td>Santiago Bernabéu Stadium, Madrid</td>\n",
       "      <td>124000</td>\n",
       "    </tr>\n",
       "    <tr>\n",
       "      <th>3</th>\n",
       "      <td>1957–58</td>\n",
       "      <td>Spain</td>\n",
       "      <td>Real Madrid</td>\n",
       "      <td>3–2</td>\n",
       "      <td>Milan</td>\n",
       "      <td>Italy</td>\n",
       "      <td>Heysel Stadium, Brussels</td>\n",
       "      <td>67000</td>\n",
       "    </tr>\n",
       "    <tr>\n",
       "      <th>4</th>\n",
       "      <td>1958–59</td>\n",
       "      <td>Spain</td>\n",
       "      <td>Real Madrid</td>\n",
       "      <td>2–0</td>\n",
       "      <td>Stade de Reims</td>\n",
       "      <td>France</td>\n",
       "      <td>Neckarstadion, Stuttgart</td>\n",
       "      <td>72000</td>\n",
       "    </tr>\n",
       "    <tr>\n",
       "      <th>5</th>\n",
       "      <td>1959–60</td>\n",
       "      <td>Spain</td>\n",
       "      <td>Real Madrid</td>\n",
       "      <td>7–3</td>\n",
       "      <td>Eintracht Frankfurt</td>\n",
       "      <td>West Germany</td>\n",
       "      <td>Hampden Park, Glasgow</td>\n",
       "      <td>127621</td>\n",
       "    </tr>\n",
       "  </tbody>\n",
       "</table>\n",
       "</div>"
      ],
      "text/plain": [
       "    Season Nation      Winners Score           Runners_up Runners_up_Nation  \\\n",
       "1  1955–56  Spain  Real Madrid   4–3       Stade de Reims            France   \n",
       "2  1956–57  Spain  Real Madrid   2–0           Fiorentina             Italy   \n",
       "3  1957–58  Spain  Real Madrid   3–2                Milan             Italy   \n",
       "4  1958–59  Spain  Real Madrid   2–0       Stade de Reims            France   \n",
       "5  1959–60  Spain  Real Madrid   7–3  Eintracht Frankfurt      West Germany   \n",
       "\n",
       "                               Venue Attendance  \n",
       "1            Parc des Princes, Paris      38239  \n",
       "2  Santiago Bernabéu Stadium, Madrid     124000  \n",
       "3           Heysel Stadium, Brussels      67000  \n",
       "4           Neckarstadion, Stuttgart      72000  \n",
       "5              Hampden Park, Glasgow     127621  "
      ]
     },
     "execution_count": 13,
     "metadata": {},
     "output_type": "execute_result"
    }
   ],
   "source": [
    "eu_champions.head()"
   ]
  },
  {
   "cell_type": "code",
   "execution_count": 14,
   "metadata": {
    "collapsed": false
   },
   "outputs": [],
   "source": [
    "eu_champions.drop([62,63],inplace=True)"
   ]
  },
  {
   "cell_type": "code",
   "execution_count": 15,
   "metadata": {
    "collapsed": false
   },
   "outputs": [
    {
     "data": {
      "text/html": [
       "<div>\n",
       "<table border=\"1\" class=\"dataframe\">\n",
       "  <thead>\n",
       "    <tr style=\"text-align: right;\">\n",
       "      <th></th>\n",
       "      <th>Season</th>\n",
       "      <th>Nation</th>\n",
       "      <th>Winners</th>\n",
       "      <th>Score</th>\n",
       "      <th>Runners_up</th>\n",
       "      <th>Runners_up_Nation</th>\n",
       "      <th>Venue</th>\n",
       "      <th>Attendance</th>\n",
       "    </tr>\n",
       "  </thead>\n",
       "  <tbody>\n",
       "    <tr>\n",
       "      <th>1</th>\n",
       "      <td>1955–56</td>\n",
       "      <td>Spain</td>\n",
       "      <td>Real Madrid</td>\n",
       "      <td>4–3</td>\n",
       "      <td>Stade de Reims</td>\n",
       "      <td>France</td>\n",
       "      <td>Parc des Princes, Paris</td>\n",
       "      <td>38239</td>\n",
       "    </tr>\n",
       "    <tr>\n",
       "      <th>2</th>\n",
       "      <td>1956–57</td>\n",
       "      <td>Spain</td>\n",
       "      <td>Real Madrid</td>\n",
       "      <td>2–0</td>\n",
       "      <td>Fiorentina</td>\n",
       "      <td>Italy</td>\n",
       "      <td>Santiago Bernabéu Stadium, Madrid</td>\n",
       "      <td>124000</td>\n",
       "    </tr>\n",
       "    <tr>\n",
       "      <th>3</th>\n",
       "      <td>1957–58</td>\n",
       "      <td>Spain</td>\n",
       "      <td>Real Madrid</td>\n",
       "      <td>3–2</td>\n",
       "      <td>Milan</td>\n",
       "      <td>Italy</td>\n",
       "      <td>Heysel Stadium, Brussels</td>\n",
       "      <td>67000</td>\n",
       "    </tr>\n",
       "    <tr>\n",
       "      <th>4</th>\n",
       "      <td>1958–59</td>\n",
       "      <td>Spain</td>\n",
       "      <td>Real Madrid</td>\n",
       "      <td>2–0</td>\n",
       "      <td>Stade de Reims</td>\n",
       "      <td>France</td>\n",
       "      <td>Neckarstadion, Stuttgart</td>\n",
       "      <td>72000</td>\n",
       "    </tr>\n",
       "    <tr>\n",
       "      <th>5</th>\n",
       "      <td>1959–60</td>\n",
       "      <td>Spain</td>\n",
       "      <td>Real Madrid</td>\n",
       "      <td>7–3</td>\n",
       "      <td>Eintracht Frankfurt</td>\n",
       "      <td>West Germany</td>\n",
       "      <td>Hampden Park, Glasgow</td>\n",
       "      <td>127621</td>\n",
       "    </tr>\n",
       "    <tr>\n",
       "      <th>...</th>\n",
       "      <td>...</td>\n",
       "      <td>...</td>\n",
       "      <td>...</td>\n",
       "      <td>...</td>\n",
       "      <td>...</td>\n",
       "      <td>...</td>\n",
       "      <td>...</td>\n",
       "      <td>...</td>\n",
       "    </tr>\n",
       "    <tr>\n",
       "      <th>57</th>\n",
       "      <td>2011–12</td>\n",
       "      <td>England</td>\n",
       "      <td>Chelsea</td>\n",
       "      <td>1–1*[K]</td>\n",
       "      <td>Bayern Munich</td>\n",
       "      <td>Germany</td>\n",
       "      <td>Allianz Arena, Munich</td>\n",
       "      <td>62500</td>\n",
       "    </tr>\n",
       "    <tr>\n",
       "      <th>58</th>\n",
       "      <td>2012–13</td>\n",
       "      <td>Germany</td>\n",
       "      <td>Bayern Munich</td>\n",
       "      <td>2–1</td>\n",
       "      <td>Borussia Dortmund</td>\n",
       "      <td>Germany</td>\n",
       "      <td>Wembley Stadium, London</td>\n",
       "      <td>86298</td>\n",
       "    </tr>\n",
       "    <tr>\n",
       "      <th>59</th>\n",
       "      <td>2013–14</td>\n",
       "      <td>Spain</td>\n",
       "      <td>Real Madrid</td>\n",
       "      <td>4–1</td>\n",
       "      <td>Atlético Madrid</td>\n",
       "      <td>Spain</td>\n",
       "      <td>Estádio da Luz, Lisbon</td>\n",
       "      <td>60976</td>\n",
       "    </tr>\n",
       "    <tr>\n",
       "      <th>60</th>\n",
       "      <td>2014–15</td>\n",
       "      <td>Spain</td>\n",
       "      <td>Barcelona</td>\n",
       "      <td>3–1</td>\n",
       "      <td>Juventus</td>\n",
       "      <td>Italy</td>\n",
       "      <td>Olympiastadion, Berlin</td>\n",
       "      <td>70442</td>\n",
       "    </tr>\n",
       "    <tr>\n",
       "      <th>61</th>\n",
       "      <td>2015–16</td>\n",
       "      <td>Spain</td>\n",
       "      <td>Real Madrid</td>\n",
       "      <td>1–1*[L]</td>\n",
       "      <td>Atlético Madrid</td>\n",
       "      <td>Spain</td>\n",
       "      <td>San Siro, Milan</td>\n",
       "      <td>71942</td>\n",
       "    </tr>\n",
       "  </tbody>\n",
       "</table>\n",
       "<p>61 rows × 8 columns</p>\n",
       "</div>"
      ],
      "text/plain": [
       "     Season   Nation        Winners    Score           Runners_up  \\\n",
       "1   1955–56    Spain    Real Madrid      4–3       Stade de Reims   \n",
       "2   1956–57    Spain    Real Madrid      2–0           Fiorentina   \n",
       "3   1957–58    Spain    Real Madrid      3–2                Milan   \n",
       "4   1958–59    Spain    Real Madrid      2–0       Stade de Reims   \n",
       "5   1959–60    Spain    Real Madrid      7–3  Eintracht Frankfurt   \n",
       "..      ...      ...            ...      ...                  ...   \n",
       "57  2011–12  England        Chelsea  1–1*[K]        Bayern Munich   \n",
       "58  2012–13  Germany  Bayern Munich      2–1    Borussia Dortmund   \n",
       "59  2013–14    Spain    Real Madrid      4–1      Atlético Madrid   \n",
       "60  2014–15    Spain      Barcelona      3–1             Juventus   \n",
       "61  2015–16    Spain    Real Madrid  1–1*[L]      Atlético Madrid   \n",
       "\n",
       "   Runners_up_Nation                              Venue Attendance  \n",
       "1             France            Parc des Princes, Paris      38239  \n",
       "2              Italy  Santiago Bernabéu Stadium, Madrid     124000  \n",
       "3              Italy           Heysel Stadium, Brussels      67000  \n",
       "4             France           Neckarstadion, Stuttgart      72000  \n",
       "5       West Germany              Hampden Park, Glasgow     127621  \n",
       "..               ...                                ...        ...  \n",
       "57           Germany              Allianz Arena, Munich      62500  \n",
       "58           Germany            Wembley Stadium, London      86298  \n",
       "59             Spain             Estádio da Luz, Lisbon      60976  \n",
       "60             Italy             Olympiastadion, Berlin      70442  \n",
       "61             Spain                    San Siro, Milan      71942  \n",
       "\n",
       "[61 rows x 8 columns]"
      ]
     },
     "execution_count": 15,
     "metadata": {},
     "output_type": "execute_result"
    }
   ],
   "source": [
    "eu_champions"
   ]
  },
  {
   "cell_type": "code",
   "execution_count": 16,
   "metadata": {
    "collapsed": false
   },
   "outputs": [],
   "source": [
    "eu_championsGrp=eu_champions.groupby('Nation')"
   ]
  },
  {
   "cell_type": "code",
   "execution_count": 17,
   "metadata": {
    "collapsed": false
   },
   "outputs": [
    {
     "data": {
      "text/plain": [
       "pandas.core.groupby.DataFrameGroupBy"
      ]
     },
     "execution_count": 17,
     "metadata": {},
     "output_type": "execute_result"
    }
   ],
   "source": [
    "type(eu_championsGrp)"
   ]
  },
  {
   "cell_type": "code",
   "execution_count": 18,
   "metadata": {
    "collapsed": false
   },
   "outputs": [
    {
     "data": {
      "text/plain": [
       "{'England': [13, 22, 23, 24, 25, 26, 27, 29, 44, 50, 53, 57],\n",
       " 'France': [38],\n",
       " 'Germany': [42, 46, 58],\n",
       " 'Italy': [8, 9, 10, 14, 30, 34, 35, 39, 41, 48, 52, 55],\n",
       " 'Netherlands': [15, 16, 17, 18, 33, 40],\n",
       " 'Portugal': [6, 7, 32, 49],\n",
       " 'Romania': [31],\n",
       " 'Scotland': [12],\n",
       " 'Spain': [1, 2, 3, 4, 5, 11, 37, 43, 45, 47, 51, 54, 56, 59, 60, 61],\n",
       " 'West Germany': [19, 20, 21, 28],\n",
       " 'Yugoslavia': [36]}"
      ]
     },
     "execution_count": 18,
     "metadata": {},
     "output_type": "execute_result"
    }
   ],
   "source": [
    "eu_championsGrp.groups"
   ]
  },
  {
   "cell_type": "code",
   "execution_count": 19,
   "metadata": {
    "collapsed": false
   },
   "outputs": [
    {
     "data": {
      "text/plain": [
       "11"
      ]
     },
     "execution_count": 19,
     "metadata": {},
     "output_type": "execute_result"
    }
   ],
   "source": [
    "len(eu_championsGrp.groups)"
   ]
  },
  {
   "cell_type": "code",
   "execution_count": 20,
   "metadata": {
    "collapsed": false
   },
   "outputs": [],
   "source": [
    "nation_Wins=eu_championsGrp.size() #size是一个aggregrate 函数"
   ]
  },
  {
   "cell_type": "code",
   "execution_count": 21,
   "metadata": {
    "collapsed": false
   },
   "outputs": [
    {
     "data": {
      "text/plain": [
       "Nation\n",
       "England         12\n",
       "France           1\n",
       "Germany          3\n",
       "Italy           12\n",
       "Netherlands      6\n",
       "                ..\n",
       "Romania          1\n",
       "Scotland         1\n",
       "Spain           16\n",
       "West Germany     4\n",
       "Yugoslavia       1\n",
       "dtype: int64"
      ]
     },
     "execution_count": 21,
     "metadata": {},
     "output_type": "execute_result"
    }
   ],
   "source": [
    "nation_Wins"
   ]
  },
  {
   "cell_type": "code",
   "execution_count": 51,
   "metadata": {
    "collapsed": false
   },
   "outputs": [
    {
     "data": {
      "text/plain": [
       "Nation\n",
       "Spain           16\n",
       "Italy           12\n",
       "England         12\n",
       "Netherlands      6\n",
       "West Germany     4\n",
       "                ..\n",
       "Germany          3\n",
       "Yugoslavia       1\n",
       "Scotland         1\n",
       "Romania          1\n",
       "France           1\n",
       "dtype: int64"
      ]
     },
     "execution_count": 51,
     "metadata": {},
     "output_type": "execute_result"
    }
   ],
   "source": [
    "nation_Wins.sort_values(ascending=False)"
   ]
  },
  {
   "cell_type": "code",
   "execution_count": 22,
   "metadata": {
    "collapsed": false
   },
   "outputs": [
    {
     "data": {
      "text/plain": [
       "Nation        Winners          \n",
       "England       Aston Villa           1\n",
       "              Chelsea               1\n",
       "              Liverpool             5\n",
       "              Manchester United     3\n",
       "              Nottingham Forest     2\n",
       "                                   ..\n",
       "Spain         Barcelona             5\n",
       "              Real Madrid          11\n",
       "West Germany  Bayern Munich         3\n",
       "              Hamburg               1\n",
       "Yugoslavia    Red Star Belgrade     1\n",
       "dtype: int64"
      ]
     },
     "execution_count": 22,
     "metadata": {},
     "output_type": "execute_result"
    }
   ],
   "source": [
    "winners_Grp=eu_champions.groupby(['Nation','Winners'])\n",
    "club_Wins=winners_Grp.size()\n",
    "club_Wins"
   ]
  },
  {
   "cell_type": "code",
   "execution_count": 23,
   "metadata": {
    "collapsed": false
   },
   "outputs": [
    {
     "data": {
      "text/plain": [
       "Nation       Winners         \n",
       "Spain        Real Madrid         11\n",
       "Italy        Milan                7\n",
       "Spain        Barcelona            5\n",
       "England      Liverpool            5\n",
       "Netherlands  Ajax                 4\n",
       "                                 ..\n",
       "             Feyenoord            1\n",
       "             PSV Eindhoven        1\n",
       "Romania      Steaua București     1\n",
       "Scotland     Celtic               1\n",
       "England      Aston Villa          1\n",
       "dtype: int64"
      ]
     },
     "execution_count": 23,
     "metadata": {},
     "output_type": "execute_result"
    }
   ],
   "source": [
    "club_Wins.sort_values(ascending=False)"
   ]
  },
  {
   "cell_type": "markdown",
   "metadata": {},
   "source": [
    "### groupby进阶"
   ]
  },
  {
   "cell_type": "code",
   "execution_count": 34,
   "metadata": {
    "collapsed": false
   },
   "outputs": [
    {
     "data": {
      "text/html": [
       "<div>\n",
       "<table border=\"1\" class=\"dataframe\">\n",
       "  <thead>\n",
       "    <tr style=\"text-align: right;\">\n",
       "      <th></th>\n",
       "      <th>Month</th>\n",
       "      <th>Stat</th>\n",
       "      <th>EPL</th>\n",
       "      <th>La Liga</th>\n",
       "      <th>Serie A</th>\n",
       "      <th>Bundesliga</th>\n",
       "    </tr>\n",
       "  </thead>\n",
       "  <tbody>\n",
       "    <tr>\n",
       "      <th>0</th>\n",
       "      <td>08/01/2012</td>\n",
       "      <td>MatchesPlayed</td>\n",
       "      <td>20.0</td>\n",
       "      <td>20</td>\n",
       "      <td>10.0</td>\n",
       "      <td>10.0</td>\n",
       "    </tr>\n",
       "    <tr>\n",
       "      <th>1</th>\n",
       "      <td>09/01/2012</td>\n",
       "      <td>MatchesPlayed</td>\n",
       "      <td>38.0</td>\n",
       "      <td>39</td>\n",
       "      <td>50.0</td>\n",
       "      <td>44.0</td>\n",
       "    </tr>\n",
       "    <tr>\n",
       "      <th>2</th>\n",
       "      <td>10/01/2012</td>\n",
       "      <td>MatchesPlayed</td>\n",
       "      <td>31.0</td>\n",
       "      <td>31</td>\n",
       "      <td>39.0</td>\n",
       "      <td>27.0</td>\n",
       "    </tr>\n",
       "    <tr>\n",
       "      <th>3</th>\n",
       "      <td>11/01/2012</td>\n",
       "      <td>MatchesPlayed</td>\n",
       "      <td>50.0</td>\n",
       "      <td>41</td>\n",
       "      <td>42.0</td>\n",
       "      <td>46.0</td>\n",
       "    </tr>\n",
       "    <tr>\n",
       "      <th>4</th>\n",
       "      <td>12/01/2012</td>\n",
       "      <td>MatchesPlayed</td>\n",
       "      <td>59.0</td>\n",
       "      <td>39</td>\n",
       "      <td>39.0</td>\n",
       "      <td>26.0</td>\n",
       "    </tr>\n",
       "  </tbody>\n",
       "</table>\n",
       "</div>"
      ],
      "text/plain": [
       "        Month           Stat   EPL  La Liga  Serie A  Bundesliga\n",
       "0  08/01/2012  MatchesPlayed  20.0       20     10.0        10.0\n",
       "1  09/01/2012  MatchesPlayed  38.0       39     50.0        44.0\n",
       "2  10/01/2012  MatchesPlayed  31.0       31     39.0        27.0\n",
       "3  11/01/2012  MatchesPlayed  50.0       41     42.0        46.0\n",
       "4  12/01/2012  MatchesPlayed  59.0       39     39.0        26.0"
      ]
     },
     "execution_count": 34,
     "metadata": {},
     "output_type": "execute_result"
    }
   ],
   "source": [
    "goals_league2012=pd.read_csv('../data/goal_stats_euro_leagues_2012-13.csv')\n",
    "goals_league2012.head()"
   ]
  },
  {
   "cell_type": "code",
   "execution_count": 35,
   "metadata": {
    "collapsed": false
   },
   "outputs": [
    {
     "data": {
      "text/html": [
       "<div>\n",
       "<table border=\"1\" class=\"dataframe\">\n",
       "  <thead>\n",
       "    <tr style=\"text-align: right;\">\n",
       "      <th></th>\n",
       "      <th>Stat</th>\n",
       "      <th>EPL</th>\n",
       "      <th>La Liga</th>\n",
       "      <th>Serie A</th>\n",
       "      <th>Bundesliga</th>\n",
       "    </tr>\n",
       "    <tr>\n",
       "      <th>Month</th>\n",
       "      <th></th>\n",
       "      <th></th>\n",
       "      <th></th>\n",
       "      <th></th>\n",
       "      <th></th>\n",
       "    </tr>\n",
       "  </thead>\n",
       "  <tbody>\n",
       "    <tr>\n",
       "      <th>08/01/2012</th>\n",
       "      <td>MatchesPlayed</td>\n",
       "      <td>20.0</td>\n",
       "      <td>20</td>\n",
       "      <td>10.0</td>\n",
       "      <td>10.0</td>\n",
       "    </tr>\n",
       "    <tr>\n",
       "      <th>09/01/2012</th>\n",
       "      <td>MatchesPlayed</td>\n",
       "      <td>38.0</td>\n",
       "      <td>39</td>\n",
       "      <td>50.0</td>\n",
       "      <td>44.0</td>\n",
       "    </tr>\n",
       "    <tr>\n",
       "      <th>10/01/2012</th>\n",
       "      <td>MatchesPlayed</td>\n",
       "      <td>31.0</td>\n",
       "      <td>31</td>\n",
       "      <td>39.0</td>\n",
       "      <td>27.0</td>\n",
       "    </tr>\n",
       "    <tr>\n",
       "      <th>11/01/2012</th>\n",
       "      <td>MatchesPlayed</td>\n",
       "      <td>50.0</td>\n",
       "      <td>41</td>\n",
       "      <td>42.0</td>\n",
       "      <td>46.0</td>\n",
       "    </tr>\n",
       "    <tr>\n",
       "      <th>12/01/2012</th>\n",
       "      <td>MatchesPlayed</td>\n",
       "      <td>59.0</td>\n",
       "      <td>39</td>\n",
       "      <td>39.0</td>\n",
       "      <td>26.0</td>\n",
       "    </tr>\n",
       "  </tbody>\n",
       "</table>\n",
       "</div>"
      ],
      "text/plain": [
       "                     Stat   EPL  La Liga  Serie A  Bundesliga\n",
       "Month                                                        \n",
       "08/01/2012  MatchesPlayed  20.0       20     10.0        10.0\n",
       "09/01/2012  MatchesPlayed  38.0       39     50.0        44.0\n",
       "10/01/2012  MatchesPlayed  31.0       31     39.0        27.0\n",
       "11/01/2012  MatchesPlayed  50.0       41     42.0        46.0\n",
       "12/01/2012  MatchesPlayed  59.0       39     39.0        26.0"
      ]
     },
     "execution_count": 35,
     "metadata": {},
     "output_type": "execute_result"
    }
   ],
   "source": [
    "goals_league2012=goals_league2012.set_index('Month')\n",
    "goals_league2012.head()"
   ]
  },
  {
   "cell_type": "code",
   "execution_count": 36,
   "metadata": {
    "collapsed": false
   },
   "outputs": [
    {
     "data": {
      "text/html": [
       "<div>\n",
       "<table border=\"1\" class=\"dataframe\">\n",
       "  <thead>\n",
       "    <tr style=\"text-align: right;\">\n",
       "      <th></th>\n",
       "      <th>Stat</th>\n",
       "      <th>EPL</th>\n",
       "      <th>La Liga</th>\n",
       "      <th>Serie A</th>\n",
       "      <th>Bundesliga</th>\n",
       "    </tr>\n",
       "    <tr>\n",
       "      <th>Month</th>\n",
       "      <th></th>\n",
       "      <th></th>\n",
       "      <th></th>\n",
       "      <th></th>\n",
       "      <th></th>\n",
       "    </tr>\n",
       "  </thead>\n",
       "  <tbody>\n",
       "    <tr>\n",
       "      <th>02/01/2013</th>\n",
       "      <td>GoalsScored</td>\n",
       "      <td>87.0</td>\n",
       "      <td>110</td>\n",
       "      <td>100.0</td>\n",
       "      <td>101.0</td>\n",
       "    </tr>\n",
       "    <tr>\n",
       "      <th>03/01/2013</th>\n",
       "      <td>GoalsScored</td>\n",
       "      <td>91.0</td>\n",
       "      <td>101</td>\n",
       "      <td>99.0</td>\n",
       "      <td>106.0</td>\n",
       "    </tr>\n",
       "    <tr>\n",
       "      <th>04/01/2013</th>\n",
       "      <td>GoalsScored</td>\n",
       "      <td>105.0</td>\n",
       "      <td>127</td>\n",
       "      <td>102.0</td>\n",
       "      <td>104.0</td>\n",
       "    </tr>\n",
       "    <tr>\n",
       "      <th>05/01/2013</th>\n",
       "      <td>GoalsScored</td>\n",
       "      <td>96.0</td>\n",
       "      <td>109</td>\n",
       "      <td>102.0</td>\n",
       "      <td>92.0</td>\n",
       "    </tr>\n",
       "    <tr>\n",
       "      <th>06/01/2013</th>\n",
       "      <td>GoalsScored</td>\n",
       "      <td>NaN</td>\n",
       "      <td>80</td>\n",
       "      <td>NaN</td>\n",
       "      <td>NaN</td>\n",
       "    </tr>\n",
       "  </tbody>\n",
       "</table>\n",
       "</div>"
      ],
      "text/plain": [
       "                   Stat    EPL  La Liga  Serie A  Bundesliga\n",
       "Month                                                       \n",
       "02/01/2013  GoalsScored   87.0      110    100.0       101.0\n",
       "03/01/2013  GoalsScored   91.0      101     99.0       106.0\n",
       "04/01/2013  GoalsScored  105.0      127    102.0       104.0\n",
       "05/01/2013  GoalsScored   96.0      109    102.0        92.0\n",
       "06/01/2013  GoalsScored    NaN       80      NaN         NaN"
      ]
     },
     "execution_count": 36,
     "metadata": {},
     "output_type": "execute_result"
    }
   ],
   "source": [
    "goals_league2012.tail()"
   ]
  },
  {
   "cell_type": "code",
   "execution_count": 37,
   "metadata": {
    "collapsed": true
   },
   "outputs": [],
   "source": [
    "goals_league2012_Grp=goals_league2012.groupby(lambda Month: Month.split('/')[2])  #lambda后面讲"
   ]
  },
  {
   "cell_type": "code",
   "execution_count": 38,
   "metadata": {
    "collapsed": false
   },
   "outputs": [
    {
     "name": "stdout",
     "output_type": "stream",
     "text": [
      "2012\n",
      "                     Stat    EPL  La Liga  Serie A  Bundesliga\n",
      "Month                                                         \n",
      "08/01/2012  MatchesPlayed   20.0       20     10.0        10.0\n",
      "09/01/2012  MatchesPlayed   38.0       39     50.0        44.0\n",
      "10/01/2012  MatchesPlayed   31.0       31     39.0        27.0\n",
      "11/01/2012  MatchesPlayed   50.0       41     42.0        46.0\n",
      "12/01/2012  MatchesPlayed   59.0       39     39.0        26.0\n",
      "08/01/2012    GoalsScored   57.0       60     21.0        23.0\n",
      "09/01/2012    GoalsScored  111.0      112    133.0       135.0\n",
      "10/01/2012    GoalsScored   95.0       88     97.0        77.0\n",
      "11/01/2012    GoalsScored  121.0      116    120.0       137.0\n",
      "12/01/2012    GoalsScored  183.0      109    125.0        72.0\n",
      "2013\n",
      "                     Stat    EPL  La Liga  Serie A  Bundesliga\n",
      "Month                                                         \n",
      "01/01/2013  MatchesPlayed   42.0       40     40.0        18.0\n",
      "02/01/2013  MatchesPlayed   30.0       40     40.0        36.0\n",
      "03/01/2013  MatchesPlayed   35.0       38     39.0        36.0\n",
      "04/01/2013  MatchesPlayed   42.0       42     41.0        36.0\n",
      "05/01/2013  MatchesPlayed   33.0       40     40.0        27.0\n",
      "...                   ...    ...      ...      ...         ...\n",
      "02/01/2013    GoalsScored   87.0      110    100.0       101.0\n",
      "03/01/2013    GoalsScored   91.0      101     99.0       106.0\n",
      "04/01/2013    GoalsScored  105.0      127    102.0       104.0\n",
      "05/01/2013    GoalsScored   96.0      109    102.0        92.0\n",
      "06/01/2013    GoalsScored    NaN       80      NaN         NaN\n",
      "\n",
      "[12 rows x 5 columns]\n"
     ]
    }
   ],
   "source": [
    "for name,group in goals_league2012_Grp:\n",
    "    print(name)\n",
    "    print(group)"
   ]
  },
  {
   "cell_type": "code",
   "execution_count": 39,
   "metadata": {
    "collapsed": true
   },
   "outputs": [],
   "source": [
    "goals_league2012_Grp_month=goals_league2012.groupby(level=0)  # by row index"
   ]
  },
  {
   "cell_type": "code",
   "execution_count": 40,
   "metadata": {
    "collapsed": false,
    "scrolled": true
   },
   "outputs": [
    {
     "name": "stdout",
     "output_type": "stream",
     "text": [
      "01/01/2013\n",
      "                     Stat    EPL  La Liga  Serie A  Bundesliga\n",
      "Month                                                         \n",
      "01/01/2013  MatchesPlayed   42.0       40     40.0        18.0\n",
      "01/01/2013    GoalsScored  117.0      121    104.0        51.0\n",
      "02/01/2013\n",
      "                     Stat   EPL  La Liga  Serie A  Bundesliga\n",
      "Month                                                        \n",
      "02/01/2013  MatchesPlayed  30.0       40     40.0        36.0\n",
      "02/01/2013    GoalsScored  87.0      110    100.0       101.0\n",
      "03/01/2013\n",
      "                     Stat   EPL  La Liga  Serie A  Bundesliga\n",
      "Month                                                        \n",
      "03/01/2013  MatchesPlayed  35.0       38     39.0        36.0\n",
      "03/01/2013    GoalsScored  91.0      101     99.0       106.0\n",
      "04/01/2013\n",
      "                     Stat    EPL  La Liga  Serie A  Bundesliga\n",
      "Month                                                         \n",
      "04/01/2013  MatchesPlayed   42.0       42     41.0        36.0\n",
      "04/01/2013    GoalsScored  105.0      127    102.0       104.0\n",
      "05/01/2013\n",
      "                     Stat   EPL  La Liga  Serie A  Bundesliga\n",
      "Month                                                        \n",
      "05/01/2013  MatchesPlayed  33.0       40     40.0        27.0\n",
      "05/01/2013    GoalsScored  96.0      109    102.0        92.0\n",
      "06/01/2013\n",
      "                   Stat  EPL  La Liga  Serie A  Bundesliga\n",
      "Month                                                     \n",
      "06/01/2013  GoalsScored  NaN       80      NaN         NaN\n",
      "06/02/2013\n",
      "                     Stat  EPL  La Liga  Serie A  Bundesliga\n",
      "Month                                                       \n",
      "06/02/2013  MatchesPlayed  NaN       10      NaN         NaN\n",
      "08/01/2012\n",
      "                     Stat   EPL  La Liga  Serie A  Bundesliga\n",
      "Month                                                        \n",
      "08/01/2012  MatchesPlayed  20.0       20     10.0        10.0\n",
      "08/01/2012    GoalsScored  57.0       60     21.0        23.0\n",
      "09/01/2012\n",
      "                     Stat    EPL  La Liga  Serie A  Bundesliga\n",
      "Month                                                         \n",
      "09/01/2012  MatchesPlayed   38.0       39     50.0        44.0\n",
      "09/01/2012    GoalsScored  111.0      112    133.0       135.0\n",
      "10/01/2012\n",
      "                     Stat   EPL  La Liga  Serie A  Bundesliga\n",
      "Month                                                        \n",
      "10/01/2012  MatchesPlayed  31.0       31     39.0        27.0\n",
      "10/01/2012    GoalsScored  95.0       88     97.0        77.0\n",
      "11/01/2012\n",
      "                     Stat    EPL  La Liga  Serie A  Bundesliga\n",
      "Month                                                         \n",
      "11/01/2012  MatchesPlayed   50.0       41     42.0        46.0\n",
      "11/01/2012    GoalsScored  121.0      116    120.0       137.0\n",
      "12/01/2012\n",
      "                     Stat    EPL  La Liga  Serie A  Bundesliga\n",
      "Month                                                         \n",
      "12/01/2012  MatchesPlayed   59.0       39     39.0        26.0\n",
      "12/01/2012    GoalsScored  183.0      109    125.0        72.0\n"
     ]
    }
   ],
   "source": [
    "for name,group in goals_league2012_Grp_month:\n",
    "    print(name)\n",
    "    print(group)"
   ]
  },
  {
   "cell_type": "code",
   "execution_count": 41,
   "metadata": {
    "collapsed": false
   },
   "outputs": [
    {
     "data": {
      "text/html": [
       "<div>\n",
       "<table border=\"1\" class=\"dataframe\">\n",
       "  <thead>\n",
       "    <tr style=\"text-align: right;\">\n",
       "      <th></th>\n",
       "      <th>Month</th>\n",
       "      <th>Stat</th>\n",
       "      <th>EPL</th>\n",
       "      <th>La Liga</th>\n",
       "      <th>Serie A</th>\n",
       "      <th>Bundesliga</th>\n",
       "    </tr>\n",
       "  </thead>\n",
       "  <tbody>\n",
       "    <tr>\n",
       "      <th>0</th>\n",
       "      <td>08/01/2012</td>\n",
       "      <td>MatchesPlayed</td>\n",
       "      <td>20.0</td>\n",
       "      <td>20</td>\n",
       "      <td>10.0</td>\n",
       "      <td>10.0</td>\n",
       "    </tr>\n",
       "    <tr>\n",
       "      <th>1</th>\n",
       "      <td>09/01/2012</td>\n",
       "      <td>MatchesPlayed</td>\n",
       "      <td>38.0</td>\n",
       "      <td>39</td>\n",
       "      <td>50.0</td>\n",
       "      <td>44.0</td>\n",
       "    </tr>\n",
       "  </tbody>\n",
       "</table>\n",
       "</div>"
      ],
      "text/plain": [
       "        Month           Stat   EPL  La Liga  Serie A  Bundesliga\n",
       "0  08/01/2012  MatchesPlayed  20.0       20     10.0        10.0\n",
       "1  09/01/2012  MatchesPlayed  38.0       39     50.0        44.0"
      ]
     },
     "execution_count": 41,
     "metadata": {},
     "output_type": "execute_result"
    }
   ],
   "source": [
    "goals_league2012=goals_league2012.reset_index()\n",
    "goals_league2012.head(2)"
   ]
  },
  {
   "cell_type": "code",
   "execution_count": 42,
   "metadata": {
    "collapsed": false
   },
   "outputs": [
    {
     "data": {
      "text/html": [
       "<div>\n",
       "<table border=\"1\" class=\"dataframe\">\n",
       "  <thead>\n",
       "    <tr style=\"text-align: right;\">\n",
       "      <th></th>\n",
       "      <th></th>\n",
       "      <th>EPL</th>\n",
       "      <th>La Liga</th>\n",
       "      <th>Serie A</th>\n",
       "      <th>Bundesliga</th>\n",
       "    </tr>\n",
       "    <tr>\n",
       "      <th>Month</th>\n",
       "      <th>Stat</th>\n",
       "      <th></th>\n",
       "      <th></th>\n",
       "      <th></th>\n",
       "      <th></th>\n",
       "    </tr>\n",
       "  </thead>\n",
       "  <tbody>\n",
       "    <tr>\n",
       "      <th>08/01/2012</th>\n",
       "      <th>MatchesPlayed</th>\n",
       "      <td>20.0</td>\n",
       "      <td>20</td>\n",
       "      <td>10.0</td>\n",
       "      <td>10.0</td>\n",
       "    </tr>\n",
       "    <tr>\n",
       "      <th>09/01/2012</th>\n",
       "      <th>MatchesPlayed</th>\n",
       "      <td>38.0</td>\n",
       "      <td>39</td>\n",
       "      <td>50.0</td>\n",
       "      <td>44.0</td>\n",
       "    </tr>\n",
       "  </tbody>\n",
       "</table>\n",
       "</div>"
      ],
      "text/plain": [
       "                           EPL  La Liga  Serie A  Bundesliga\n",
       "Month      Stat                                             \n",
       "08/01/2012 MatchesPlayed  20.0       20     10.0        10.0\n",
       "09/01/2012 MatchesPlayed  38.0       39     50.0        44.0"
      ]
     },
     "execution_count": 42,
     "metadata": {},
     "output_type": "execute_result"
    }
   ],
   "source": [
    "goals_league2012=goals_league2012.set_index(['Month','Stat'])\n",
    "goals_league2012.head(2)"
   ]
  },
  {
   "cell_type": "code",
   "execution_count": 43,
   "metadata": {
    "collapsed": true
   },
   "outputs": [],
   "source": [
    "months_stat_Grp=goals_league2012.groupby(level=['Month','Stat'])"
   ]
  },
  {
   "cell_type": "code",
   "execution_count": 44,
   "metadata": {
    "collapsed": false
   },
   "outputs": [
    {
     "name": "stdout",
     "output_type": "stream",
     "text": [
      "('01/01/2013', 'GoalsScored')\n",
      "                          EPL  La Liga  Serie A  Bundesliga\n",
      "Month      Stat                                            \n",
      "01/01/2013 GoalsScored  117.0      121    104.0        51.0\n",
      "('01/01/2013', 'MatchesPlayed')\n",
      "                           EPL  La Liga  Serie A  Bundesliga\n",
      "Month      Stat                                             \n",
      "01/01/2013 MatchesPlayed  42.0       40     40.0        18.0\n",
      "('02/01/2013', 'GoalsScored')\n",
      "                         EPL  La Liga  Serie A  Bundesliga\n",
      "Month      Stat                                           \n",
      "02/01/2013 GoalsScored  87.0      110    100.0       101.0\n",
      "('02/01/2013', 'MatchesPlayed')\n",
      "                           EPL  La Liga  Serie A  Bundesliga\n",
      "Month      Stat                                             \n",
      "02/01/2013 MatchesPlayed  30.0       40     40.0        36.0\n",
      "('03/01/2013', 'GoalsScored')\n",
      "                         EPL  La Liga  Serie A  Bundesliga\n",
      "Month      Stat                                           \n",
      "03/01/2013 GoalsScored  91.0      101     99.0       106.0\n",
      "('03/01/2013', 'MatchesPlayed')\n",
      "                           EPL  La Liga  Serie A  Bundesliga\n",
      "Month      Stat                                             \n",
      "03/01/2013 MatchesPlayed  35.0       38     39.0        36.0\n",
      "('04/01/2013', 'GoalsScored')\n",
      "                          EPL  La Liga  Serie A  Bundesliga\n",
      "Month      Stat                                            \n",
      "04/01/2013 GoalsScored  105.0      127    102.0       104.0\n",
      "('04/01/2013', 'MatchesPlayed')\n",
      "                           EPL  La Liga  Serie A  Bundesliga\n",
      "Month      Stat                                             \n",
      "04/01/2013 MatchesPlayed  42.0       42     41.0        36.0\n",
      "('05/01/2013', 'GoalsScored')\n",
      "                         EPL  La Liga  Serie A  Bundesliga\n",
      "Month      Stat                                           \n",
      "05/01/2013 GoalsScored  96.0      109    102.0        92.0\n",
      "('05/01/2013', 'MatchesPlayed')\n",
      "                           EPL  La Liga  Serie A  Bundesliga\n",
      "Month      Stat                                             \n",
      "05/01/2013 MatchesPlayed  33.0       40     40.0        27.0\n",
      "('06/01/2013', 'GoalsScored')\n",
      "                        EPL  La Liga  Serie A  Bundesliga\n",
      "Month      Stat                                          \n",
      "06/01/2013 GoalsScored  NaN       80      NaN         NaN\n",
      "('06/02/2013', 'MatchesPlayed')\n",
      "                          EPL  La Liga  Serie A  Bundesliga\n",
      "Month      Stat                                            \n",
      "06/02/2013 MatchesPlayed  NaN       10      NaN         NaN\n",
      "('08/01/2012', 'GoalsScored')\n",
      "                         EPL  La Liga  Serie A  Bundesliga\n",
      "Month      Stat                                           \n",
      "08/01/2012 GoalsScored  57.0       60     21.0        23.0\n",
      "('08/01/2012', 'MatchesPlayed')\n",
      "                           EPL  La Liga  Serie A  Bundesliga\n",
      "Month      Stat                                             \n",
      "08/01/2012 MatchesPlayed  20.0       20     10.0        10.0\n",
      "('09/01/2012', 'GoalsScored')\n",
      "                          EPL  La Liga  Serie A  Bundesliga\n",
      "Month      Stat                                            \n",
      "09/01/2012 GoalsScored  111.0      112    133.0       135.0\n",
      "('09/01/2012', 'MatchesPlayed')\n",
      "                           EPL  La Liga  Serie A  Bundesliga\n",
      "Month      Stat                                             \n",
      "09/01/2012 MatchesPlayed  38.0       39     50.0        44.0\n",
      "('10/01/2012', 'GoalsScored')\n",
      "                         EPL  La Liga  Serie A  Bundesliga\n",
      "Month      Stat                                           \n",
      "10/01/2012 GoalsScored  95.0       88     97.0        77.0\n",
      "('10/01/2012', 'MatchesPlayed')\n",
      "                           EPL  La Liga  Serie A  Bundesliga\n",
      "Month      Stat                                             \n",
      "10/01/2012 MatchesPlayed  31.0       31     39.0        27.0\n",
      "('11/01/2012', 'GoalsScored')\n",
      "                          EPL  La Liga  Serie A  Bundesliga\n",
      "Month      Stat                                            \n",
      "11/01/2012 GoalsScored  121.0      116    120.0       137.0\n",
      "('11/01/2012', 'MatchesPlayed')\n",
      "                           EPL  La Liga  Serie A  Bundesliga\n",
      "Month      Stat                                             \n",
      "11/01/2012 MatchesPlayed  50.0       41     42.0        46.0\n",
      "('12/01/2012', 'GoalsScored')\n",
      "                          EPL  La Liga  Serie A  Bundesliga\n",
      "Month      Stat                                            \n",
      "12/01/2012 GoalsScored  183.0      109    125.0        72.0\n",
      "('12/01/2012', 'MatchesPlayed')\n",
      "                           EPL  La Liga  Serie A  Bundesliga\n",
      "Month      Stat                                             \n",
      "12/01/2012 MatchesPlayed  59.0       39     39.0        26.0\n"
     ]
    }
   ],
   "source": [
    "for name,group in months_stat_Grp:\n",
    "    print(name)\n",
    "    print(group)"
   ]
  },
  {
   "cell_type": "markdown",
   "metadata": {},
   "source": [
    "### 使用multiple index进行统计"
   ]
  },
  {
   "cell_type": "code",
   "execution_count": 45,
   "metadata": {
    "collapsed": false
   },
   "outputs": [
    {
     "data": {
      "text/html": [
       "<div>\n",
       "<table border=\"1\" class=\"dataframe\">\n",
       "  <thead>\n",
       "    <tr style=\"text-align: right;\">\n",
       "      <th></th>\n",
       "      <th>EPL</th>\n",
       "      <th>La Liga</th>\n",
       "      <th>Serie A</th>\n",
       "      <th>Bundesliga</th>\n",
       "    </tr>\n",
       "    <tr>\n",
       "      <th>Stat</th>\n",
       "      <th></th>\n",
       "      <th></th>\n",
       "      <th></th>\n",
       "      <th></th>\n",
       "    </tr>\n",
       "  </thead>\n",
       "  <tbody>\n",
       "    <tr>\n",
       "      <th>GoalsScored</th>\n",
       "      <td>1063.0</td>\n",
       "      <td>1133</td>\n",
       "      <td>1003.0</td>\n",
       "      <td>898.0</td>\n",
       "    </tr>\n",
       "    <tr>\n",
       "      <th>MatchesPlayed</th>\n",
       "      <td>380.0</td>\n",
       "      <td>380</td>\n",
       "      <td>380.0</td>\n",
       "      <td>306.0</td>\n",
       "    </tr>\n",
       "  </tbody>\n",
       "</table>\n",
       "</div>"
      ],
      "text/plain": [
       "                  EPL  La Liga  Serie A  Bundesliga\n",
       "Stat                                               \n",
       "GoalsScored    1063.0     1133   1003.0       898.0\n",
       "MatchesPlayed   380.0      380    380.0       306.0"
      ]
     },
     "execution_count": 45,
     "metadata": {},
     "output_type": "execute_result"
    }
   ],
   "source": [
    "stat_Grp=goals_league2012.groupby(level='Stat')\n",
    "stat_Grp.sum()"
   ]
  },
  {
   "cell_type": "code",
   "execution_count": 46,
   "metadata": {
    "collapsed": false
   },
   "outputs": [
    {
     "data": {
      "text/html": [
       "<div>\n",
       "<table border=\"1\" class=\"dataframe\">\n",
       "  <thead>\n",
       "    <tr style=\"text-align: right;\">\n",
       "      <th></th>\n",
       "      <th>EPL</th>\n",
       "      <th>La Liga</th>\n",
       "      <th>Serie A</th>\n",
       "      <th>Bundesliga</th>\n",
       "    </tr>\n",
       "    <tr>\n",
       "      <th>Stat</th>\n",
       "      <th></th>\n",
       "      <th></th>\n",
       "      <th></th>\n",
       "      <th></th>\n",
       "    </tr>\n",
       "  </thead>\n",
       "  <tbody>\n",
       "    <tr>\n",
       "      <th>GoalsScored</th>\n",
       "      <td>1063.0</td>\n",
       "      <td>1133</td>\n",
       "      <td>1003.0</td>\n",
       "      <td>898.0</td>\n",
       "    </tr>\n",
       "    <tr>\n",
       "      <th>MatchesPlayed</th>\n",
       "      <td>380.0</td>\n",
       "      <td>380</td>\n",
       "      <td>380.0</td>\n",
       "      <td>306.0</td>\n",
       "    </tr>\n",
       "  </tbody>\n",
       "</table>\n",
       "</div>"
      ],
      "text/plain": [
       "                  EPL  La Liga  Serie A  Bundesliga\n",
       "Stat                                               \n",
       "GoalsScored    1063.0     1133   1003.0       898.0\n",
       "MatchesPlayed   380.0      380    380.0       306.0"
      ]
     },
     "execution_count": 46,
     "metadata": {},
     "output_type": "execute_result"
    }
   ],
   "source": [
    "goals_league2012.sum(level='Stat')"
   ]
  },
  {
   "cell_type": "code",
   "execution_count": 47,
   "metadata": {
    "collapsed": false
   },
   "outputs": [
    {
     "data": {
      "text/html": [
       "<div>\n",
       "<table border=\"1\" class=\"dataframe\">\n",
       "  <thead>\n",
       "    <tr style=\"text-align: right;\">\n",
       "      <th></th>\n",
       "      <th>EPL</th>\n",
       "      <th>La Liga</th>\n",
       "      <th>Serie A</th>\n",
       "      <th>Bundesliga</th>\n",
       "    </tr>\n",
       "    <tr>\n",
       "      <th>Stat</th>\n",
       "      <th></th>\n",
       "      <th></th>\n",
       "      <th></th>\n",
       "      <th></th>\n",
       "    </tr>\n",
       "  </thead>\n",
       "  <tbody>\n",
       "    <tr>\n",
       "      <th>GoalsScored</th>\n",
       "      <td>1063.0</td>\n",
       "      <td>1133</td>\n",
       "      <td>1003.0</td>\n",
       "      <td>898.0</td>\n",
       "    </tr>\n",
       "    <tr>\n",
       "      <th>MatchesPlayed</th>\n",
       "      <td>380.0</td>\n",
       "      <td>380</td>\n",
       "      <td>380.0</td>\n",
       "      <td>306.0</td>\n",
       "    </tr>\n",
       "  </tbody>\n",
       "</table>\n",
       "</div>"
      ],
      "text/plain": [
       "                  EPL  La Liga  Serie A  Bundesliga\n",
       "Stat                                               \n",
       "GoalsScored    1063.0     1133   1003.0       898.0\n",
       "MatchesPlayed   380.0      380    380.0       306.0"
      ]
     },
     "execution_count": 47,
     "metadata": {},
     "output_type": "execute_result"
    }
   ],
   "source": [
    "totals=stat_Grp.sum()\n",
    "totals"
   ]
  },
  {
   "cell_type": "code",
   "execution_count": 71,
   "metadata": {
    "collapsed": false
   },
   "outputs": [
    {
     "data": {
      "text/plain": [
       "EPL           2.797368\n",
       "La Liga       2.981579\n",
       "Serie A       2.639474\n",
       "Bundesliga    2.934641\n",
       "dtype: float64"
      ]
     },
     "execution_count": 71,
     "metadata": {},
     "output_type": "execute_result"
    }
   ],
   "source": [
    "#平均每场进球\n",
    "totals.loc['GoalsScored']/totals.loc['MatchesPlayed']"
   ]
  },
  {
   "cell_type": "code",
   "execution_count": 48,
   "metadata": {
    "collapsed": false
   },
   "outputs": [
    {
     "data": {
      "text/plain": [
       "EPL           2.797368\n",
       "La Liga       2.981579\n",
       "Serie A       2.639474\n",
       "Bundesliga    2.934641\n",
       "dtype: float64"
      ]
     },
     "execution_count": 48,
     "metadata": {},
     "output_type": "execute_result"
    }
   ],
   "source": [
    "totals.ix['GoalsScored']/totals.ix['MatchesPlayed']"
   ]
  },
  {
   "cell_type": "markdown",
   "metadata": {},
   "source": [
    "### aggregate函数"
   ]
  },
  {
   "cell_type": "code",
   "execution_count": 51,
   "metadata": {
    "collapsed": false
   },
   "outputs": [
    {
     "data": {
      "text/html": [
       "<div>\n",
       "<table border=\"1\" class=\"dataframe\">\n",
       "  <thead>\n",
       "    <tr style=\"text-align: right;\">\n",
       "      <th></th>\n",
       "      <th>EPL</th>\n",
       "      <th>La Liga</th>\n",
       "      <th>Serie A</th>\n",
       "      <th>Bundesliga</th>\n",
       "    </tr>\n",
       "    <tr>\n",
       "      <th>Stat</th>\n",
       "      <th></th>\n",
       "      <th></th>\n",
       "      <th></th>\n",
       "      <th></th>\n",
       "    </tr>\n",
       "  </thead>\n",
       "  <tbody>\n",
       "    <tr>\n",
       "      <th>GoalsScored</th>\n",
       "      <td>1063.0</td>\n",
       "      <td>1133</td>\n",
       "      <td>1003.0</td>\n",
       "      <td>898.0</td>\n",
       "    </tr>\n",
       "    <tr>\n",
       "      <th>MatchesPlayed</th>\n",
       "      <td>380.0</td>\n",
       "      <td>380</td>\n",
       "      <td>380.0</td>\n",
       "      <td>306.0</td>\n",
       "    </tr>\n",
       "  </tbody>\n",
       "</table>\n",
       "</div>"
      ],
      "text/plain": [
       "                  EPL  La Liga  Serie A  Bundesliga\n",
       "Stat                                               \n",
       "GoalsScored    1063.0     1133   1003.0       898.0\n",
       "MatchesPlayed   380.0      380    380.0       306.0"
      ]
     },
     "execution_count": 51,
     "metadata": {},
     "output_type": "execute_result"
    }
   ],
   "source": [
    "stat_Grp.aggregate(np.sum)"
   ]
  },
  {
   "cell_type": "code",
   "execution_count": 52,
   "metadata": {
    "collapsed": false
   },
   "outputs": [
    {
     "data": {
      "text/html": [
       "<div>\n",
       "<table border=\"1\" class=\"dataframe\">\n",
       "  <thead>\n",
       "    <tr>\n",
       "      <th></th>\n",
       "      <th colspan=\"3\" halign=\"left\">EPL</th>\n",
       "      <th colspan=\"2\" halign=\"left\">La Liga</th>\n",
       "      <th>...</th>\n",
       "      <th colspan=\"2\" halign=\"left\">Serie A</th>\n",
       "      <th colspan=\"3\" halign=\"left\">Bundesliga</th>\n",
       "    </tr>\n",
       "    <tr>\n",
       "      <th></th>\n",
       "      <th>sum</th>\n",
       "      <th>mean</th>\n",
       "      <th>size</th>\n",
       "      <th>sum</th>\n",
       "      <th>mean</th>\n",
       "      <th>...</th>\n",
       "      <th>mean</th>\n",
       "      <th>size</th>\n",
       "      <th>sum</th>\n",
       "      <th>mean</th>\n",
       "      <th>size</th>\n",
       "    </tr>\n",
       "    <tr>\n",
       "      <th>Stat</th>\n",
       "      <th></th>\n",
       "      <th></th>\n",
       "      <th></th>\n",
       "      <th></th>\n",
       "      <th></th>\n",
       "      <th></th>\n",
       "      <th></th>\n",
       "      <th></th>\n",
       "      <th></th>\n",
       "      <th></th>\n",
       "      <th></th>\n",
       "    </tr>\n",
       "  </thead>\n",
       "  <tbody>\n",
       "    <tr>\n",
       "      <th>GoalsScored</th>\n",
       "      <td>1063.0</td>\n",
       "      <td>106.3</td>\n",
       "      <td>11.0</td>\n",
       "      <td>1133</td>\n",
       "      <td>103.000000</td>\n",
       "      <td>...</td>\n",
       "      <td>100.3</td>\n",
       "      <td>11.0</td>\n",
       "      <td>898.0</td>\n",
       "      <td>89.8</td>\n",
       "      <td>11.0</td>\n",
       "    </tr>\n",
       "    <tr>\n",
       "      <th>MatchesPlayed</th>\n",
       "      <td>380.0</td>\n",
       "      <td>38.0</td>\n",
       "      <td>11.0</td>\n",
       "      <td>380</td>\n",
       "      <td>34.545455</td>\n",
       "      <td>...</td>\n",
       "      <td>38.0</td>\n",
       "      <td>11.0</td>\n",
       "      <td>306.0</td>\n",
       "      <td>30.6</td>\n",
       "      <td>11.0</td>\n",
       "    </tr>\n",
       "  </tbody>\n",
       "</table>\n",
       "<p>2 rows × 12 columns</p>\n",
       "</div>"
      ],
      "text/plain": [
       "                  EPL              La Liga              ...  Serie A        \\\n",
       "                  sum   mean  size     sum        mean  ...     mean  size   \n",
       "Stat                                                    ...                  \n",
       "GoalsScored    1063.0  106.3  11.0    1133  103.000000  ...    100.3  11.0   \n",
       "MatchesPlayed   380.0   38.0  11.0     380   34.545455  ...     38.0  11.0   \n",
       "\n",
       "              Bundesliga              \n",
       "                     sum  mean  size  \n",
       "Stat                                  \n",
       "GoalsScored        898.0  89.8  11.0  \n",
       "MatchesPlayed      306.0  30.6  11.0  \n",
       "\n",
       "[2 rows x 12 columns]"
      ]
     },
     "execution_count": 52,
     "metadata": {},
     "output_type": "execute_result"
    }
   ],
   "source": [
    "stat_Grp.agg([np.sum,np.mean,np.size])"
   ]
  },
  {
   "cell_type": "code",
   "execution_count": 53,
   "metadata": {
    "collapsed": false
   },
   "outputs": [
    {
     "data": {
      "text/plain": [
       "Season               object\n",
       "Nation               object\n",
       "Winners              object\n",
       "Score                object\n",
       "Runners_up           object\n",
       "Runners_up_Nation    object\n",
       "Venue                object\n",
       "Attendance           object\n",
       "dtype: object"
      ]
     },
     "execution_count": 53,
     "metadata": {},
     "output_type": "execute_result"
    }
   ],
   "source": [
    "eu_champions.dtypes"
   ]
  },
  {
   "cell_type": "code",
   "execution_count": 54,
   "metadata": {
    "collapsed": false
   },
   "outputs": [],
   "source": [
    "eu_champions['Attendance']=eu_champions['Attendance'].astype(int)"
   ]
  },
  {
   "cell_type": "code",
   "execution_count": 55,
   "metadata": {
    "collapsed": false
   },
   "outputs": [
    {
     "data": {
      "text/plain": [
       "Season               object\n",
       "Nation               object\n",
       "Winners              object\n",
       "Score                object\n",
       "Runners_up           object\n",
       "Runners_up_Nation    object\n",
       "Venue                object\n",
       "Attendance            int32\n",
       "dtype: object"
      ]
     },
     "execution_count": 55,
     "metadata": {},
     "output_type": "execute_result"
    }
   ],
   "source": [
    "eu_champions.dtypes"
   ]
  },
  {
   "cell_type": "code",
   "execution_count": 87,
   "metadata": {
    "collapsed": false
   },
   "outputs": [],
   "source": [
    "eu_championsGrp=eu_champions.groupby('Nation')"
   ]
  },
  {
   "cell_type": "code",
   "execution_count": 88,
   "metadata": {
    "collapsed": false
   },
   "outputs": [
    {
     "data": {
      "text/html": [
       "<div>\n",
       "<table border=\"1\" class=\"dataframe\">\n",
       "  <thead>\n",
       "    <tr style=\"text-align: right;\">\n",
       "      <th></th>\n",
       "      <th>deviation</th>\n",
       "      <th>average</th>\n",
       "      <th>total</th>\n",
       "    </tr>\n",
       "    <tr>\n",
       "      <th>Nation</th>\n",
       "      <th></th>\n",
       "      <th></th>\n",
       "      <th></th>\n",
       "    </tr>\n",
       "  </thead>\n",
       "  <tbody>\n",
       "    <tr>\n",
       "      <th>England</th>\n",
       "      <td>17091.309877</td>\n",
       "      <td>66534.250000</td>\n",
       "      <td>798411</td>\n",
       "    </tr>\n",
       "    <tr>\n",
       "      <th>France</th>\n",
       "      <td>NaN</td>\n",
       "      <td>64400.000000</td>\n",
       "      <td>64400</td>\n",
       "    </tr>\n",
       "    <tr>\n",
       "      <th>Germany</th>\n",
       "      <td>13665.111342</td>\n",
       "      <td>72266.000000</td>\n",
       "      <td>216798</td>\n",
       "    </tr>\n",
       "    <tr>\n",
       "      <th>Italy</th>\n",
       "      <td>17441.027188</td>\n",
       "      <td>65766.083333</td>\n",
       "      <td>789193</td>\n",
       "    </tr>\n",
       "    <tr>\n",
       "      <th>Netherlands</th>\n",
       "      <td>16048.580972</td>\n",
       "      <td>67489.000000</td>\n",
       "      <td>404934</td>\n",
       "    </tr>\n",
       "    <tr>\n",
       "      <th>...</th>\n",
       "      <td>...</td>\n",
       "      <td>...</td>\n",
       "      <td>...</td>\n",
       "    </tr>\n",
       "    <tr>\n",
       "      <th>Romania</th>\n",
       "      <td>NaN</td>\n",
       "      <td>70000.000000</td>\n",
       "      <td>70000</td>\n",
       "    </tr>\n",
       "    <tr>\n",
       "      <th>Scotland</th>\n",
       "      <td>NaN</td>\n",
       "      <td>45000.000000</td>\n",
       "      <td>45000</td>\n",
       "    </tr>\n",
       "    <tr>\n",
       "      <th>Spain</th>\n",
       "      <td>24761.024716</td>\n",
       "      <td>72410.187500</td>\n",
       "      <td>1158563</td>\n",
       "    </tr>\n",
       "    <tr>\n",
       "      <th>West Germany</th>\n",
       "      <td>12511.708180</td>\n",
       "      <td>62196.250000</td>\n",
       "      <td>248785</td>\n",
       "    </tr>\n",
       "    <tr>\n",
       "      <th>Yugoslavia</th>\n",
       "      <td>NaN</td>\n",
       "      <td>56000.000000</td>\n",
       "      <td>56000</td>\n",
       "    </tr>\n",
       "  </tbody>\n",
       "</table>\n",
       "<p>11 rows × 3 columns</p>\n",
       "</div>"
      ],
      "text/plain": [
       "                 deviation       average    total\n",
       "Nation                                           \n",
       "England       17091.309877  66534.250000   798411\n",
       "France                 NaN  64400.000000    64400\n",
       "Germany       13665.111342  72266.000000   216798\n",
       "Italy         17441.027188  65766.083333   789193\n",
       "Netherlands   16048.580972  67489.000000   404934\n",
       "...                    ...           ...      ...\n",
       "Romania                NaN  70000.000000    70000\n",
       "Scotland               NaN  45000.000000    45000\n",
       "Spain         24761.024716  72410.187500  1158563\n",
       "West Germany  12511.708180  62196.250000   248785\n",
       "Yugoslavia             NaN  56000.000000    56000\n",
       "\n",
       "[11 rows x 3 columns]"
      ]
     },
     "execution_count": 88,
     "metadata": {},
     "output_type": "execute_result"
    }
   ],
   "source": [
    "eu_championsGrp['Attendance'].agg({'total':np.sum,'average':np.mean,'deviation':np.std})"
   ]
  },
  {
   "cell_type": "code",
   "execution_count": 50,
   "metadata": {
    "collapsed": true
   },
   "outputs": [],
   "source": [
    "np.mean?"
   ]
  },
  {
   "cell_type": "code",
   "execution_count": null,
   "metadata": {
    "collapsed": true
   },
   "outputs": [],
   "source": []
  }
 ],
 "metadata": {
  "anaconda-cloud": {},
  "kernelspec": {
   "display_name": "Python [conda env:py35]",
   "language": "python",
   "name": "conda-env-py35-py"
  },
  "language_info": {
   "codemirror_mode": {
    "name": "ipython",
    "version": 3
   },
   "file_extension": ".py",
   "mimetype": "text/x-python",
   "name": "python",
   "nbconvert_exporter": "python",
   "pygments_lexer": "ipython3",
   "version": "3.5.2"
  }
 },
 "nbformat": 4,
 "nbformat_minor": 1
}
