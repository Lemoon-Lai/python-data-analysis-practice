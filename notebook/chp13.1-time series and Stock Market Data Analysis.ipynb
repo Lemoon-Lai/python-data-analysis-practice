{
 "cells": [
  {
   "cell_type": "code",
   "execution_count": 17,
   "metadata": {
    "collapsed": false
   },
   "outputs": [],
   "source": [
    "import pandas as pd\n",
    "import numpy as np\n",
    "\n",
    "import matplotlib.pyplot as plt\n",
    "import seaborn as sns\n",
    "from datetime import datetime\n",
    "\n",
    "sns.set_style('whitegrid')\n",
    "%matplotlib inline\n",
    "pd.set_option('display.max_columns', 10)\n",
    "pd.set_option('display.max_rows', 10)"
   ]
  },
  {
   "cell_type": "markdown",
   "metadata": {},
   "source": [
    "### 读取时间序列"
   ]
  },
  {
   "cell_type": "code",
   "execution_count": 18,
   "metadata": {
    "collapsed": false
   },
   "outputs": [
    {
     "data": {
      "text/html": [
       "<div>\n",
       "<table border=\"1\" class=\"dataframe\">\n",
       "  <thead>\n",
       "    <tr style=\"text-align: right;\">\n",
       "      <th></th>\n",
       "      <th>date</th>\n",
       "      <th>open</th>\n",
       "      <th>high</th>\n",
       "      <th>close</th>\n",
       "      <th>low</th>\n",
       "      <th>...</th>\n",
       "      <th>ma10</th>\n",
       "      <th>ma20</th>\n",
       "      <th>v_ma5</th>\n",
       "      <th>v_ma10</th>\n",
       "      <th>v_ma20</th>\n",
       "    </tr>\n",
       "  </thead>\n",
       "  <tbody>\n",
       "    <tr>\n",
       "      <th>0</th>\n",
       "      <td>2016-12-23</td>\n",
       "      <td>3333.40</td>\n",
       "      <td>3334.89</td>\n",
       "      <td>3307.60</td>\n",
       "      <td>3300.88</td>\n",
       "      <td>...</td>\n",
       "      <td>3349.948</td>\n",
       "      <td>3429.937</td>\n",
       "      <td>93437446.4</td>\n",
       "      <td>110550392.0</td>\n",
       "      <td>139164898.4</td>\n",
       "    </tr>\n",
       "    <tr>\n",
       "      <th>1</th>\n",
       "      <td>2016-12-22</td>\n",
       "      <td>3335.12</td>\n",
       "      <td>3340.36</td>\n",
       "      <td>3335.67</td>\n",
       "      <td>3322.72</td>\n",
       "      <td>...</td>\n",
       "      <td>3368.558</td>\n",
       "      <td>3440.622</td>\n",
       "      <td>92103587.2</td>\n",
       "      <td>115836250.4</td>\n",
       "      <td>141973738.0</td>\n",
       "    </tr>\n",
       "    <tr>\n",
       "      <th>2</th>\n",
       "      <td>2016-12-21</td>\n",
       "      <td>3313.75</td>\n",
       "      <td>3342.48</td>\n",
       "      <td>3338.54</td>\n",
       "      <td>3313.75</td>\n",
       "      <td>...</td>\n",
       "      <td>3382.005</td>\n",
       "      <td>3448.276</td>\n",
       "      <td>96640270.4</td>\n",
       "      <td>118346918.4</td>\n",
       "      <td>144647190.8</td>\n",
       "    </tr>\n",
       "    <tr>\n",
       "      <th>3</th>\n",
       "      <td>2016-12-20</td>\n",
       "      <td>3328.30</td>\n",
       "      <td>3329.10</td>\n",
       "      <td>3309.06</td>\n",
       "      <td>3289.27</td>\n",
       "      <td>...</td>\n",
       "      <td>3395.726</td>\n",
       "      <td>3455.085</td>\n",
       "      <td>99790819.2</td>\n",
       "      <td>118955928.8</td>\n",
       "      <td>147353865.6</td>\n",
       "    </tr>\n",
       "    <tr>\n",
       "      <th>4</th>\n",
       "      <td>2016-12-19</td>\n",
       "      <td>3342.34</td>\n",
       "      <td>3344.86</td>\n",
       "      <td>3328.98</td>\n",
       "      <td>3325.00</td>\n",
       "      <td>...</td>\n",
       "      <td>3410.735</td>\n",
       "      <td>3463.050</td>\n",
       "      <td>106497921.6</td>\n",
       "      <td>121751879.2</td>\n",
       "      <td>151401558.8</td>\n",
       "    </tr>\n",
       "  </tbody>\n",
       "</table>\n",
       "<p>5 rows × 14 columns</p>\n",
       "</div>"
      ],
      "text/plain": [
       "         date     open     high    close      low     ...           ma10  \\\n",
       "0  2016-12-23  3333.40  3334.89  3307.60  3300.88     ...       3349.948   \n",
       "1  2016-12-22  3335.12  3340.36  3335.67  3322.72     ...       3368.558   \n",
       "2  2016-12-21  3313.75  3342.48  3338.54  3313.75     ...       3382.005   \n",
       "3  2016-12-20  3328.30  3329.10  3309.06  3289.27     ...       3395.726   \n",
       "4  2016-12-19  3342.34  3344.86  3328.98  3325.00     ...       3410.735   \n",
       "\n",
       "       ma20        v_ma5       v_ma10       v_ma20  \n",
       "0  3429.937   93437446.4  110550392.0  139164898.4  \n",
       "1  3440.622   92103587.2  115836250.4  141973738.0  \n",
       "2  3448.276   96640270.4  118346918.4  144647190.8  \n",
       "3  3455.085   99790819.2  118955928.8  147353865.6  \n",
       "4  3463.050  106497921.6  121751879.2  151401558.8  \n",
       "\n",
       "[5 rows x 14 columns]"
      ]
     },
     "execution_count": 18,
     "metadata": {},
     "output_type": "execute_result"
    }
   ],
   "source": [
    "goertek=pd.read_csv('../data/gertek_2016_d.csv')\n",
    "goertek.head()"
   ]
  },
  {
   "cell_type": "code",
   "execution_count": 19,
   "metadata": {
    "collapsed": false
   },
   "outputs": [
    {
     "data": {
      "text/plain": [
       "pandas.core.series.Series"
      ]
     },
     "execution_count": 19,
     "metadata": {},
     "output_type": "execute_result"
    }
   ],
   "source": [
    "type(goertek['date'])"
   ]
  },
  {
   "cell_type": "code",
   "execution_count": 20,
   "metadata": {
    "collapsed": false
   },
   "outputs": [
    {
     "data": {
      "text/plain": [
       "str"
      ]
     },
     "execution_count": 20,
     "metadata": {},
     "output_type": "execute_result"
    }
   ],
   "source": [
    "type(goertek['date'][0])"
   ]
  },
  {
   "cell_type": "code",
   "execution_count": 21,
   "metadata": {
    "collapsed": false
   },
   "outputs": [
    {
     "data": {
      "text/plain": [
       "pandas.tslib.Timestamp"
      ]
     },
     "execution_count": 21,
     "metadata": {},
     "output_type": "execute_result"
    }
   ],
   "source": [
    "goertek['date']=pd.to_datetime(goertek['date'])\n",
    "type(goertek['date'][0])"
   ]
  },
  {
   "cell_type": "code",
   "execution_count": 22,
   "metadata": {
    "collapsed": false
   },
   "outputs": [
    {
     "data": {
      "text/html": [
       "<div>\n",
       "<table border=\"1\" class=\"dataframe\">\n",
       "  <thead>\n",
       "    <tr style=\"text-align: right;\">\n",
       "      <th></th>\n",
       "      <th>open</th>\n",
       "      <th>high</th>\n",
       "      <th>close</th>\n",
       "      <th>low</th>\n",
       "      <th>volume</th>\n",
       "      <th>...</th>\n",
       "      <th>ma10</th>\n",
       "      <th>ma20</th>\n",
       "      <th>v_ma5</th>\n",
       "      <th>v_ma10</th>\n",
       "      <th>v_ma20</th>\n",
       "    </tr>\n",
       "    <tr>\n",
       "      <th>date</th>\n",
       "      <th></th>\n",
       "      <th></th>\n",
       "      <th></th>\n",
       "      <th></th>\n",
       "      <th></th>\n",
       "      <th></th>\n",
       "      <th></th>\n",
       "      <th></th>\n",
       "      <th></th>\n",
       "      <th></th>\n",
       "      <th></th>\n",
       "    </tr>\n",
       "  </thead>\n",
       "  <tbody>\n",
       "    <tr>\n",
       "      <th>2016-12-23</th>\n",
       "      <td>3333.40</td>\n",
       "      <td>3334.89</td>\n",
       "      <td>3307.60</td>\n",
       "      <td>3300.88</td>\n",
       "      <td>97444712.0</td>\n",
       "      <td>...</td>\n",
       "      <td>3349.948</td>\n",
       "      <td>3429.937</td>\n",
       "      <td>93437446.4</td>\n",
       "      <td>110550392.0</td>\n",
       "      <td>139164898.4</td>\n",
       "    </tr>\n",
       "    <tr>\n",
       "      <th>2016-12-22</th>\n",
       "      <td>3335.12</td>\n",
       "      <td>3340.36</td>\n",
       "      <td>3335.67</td>\n",
       "      <td>3322.72</td>\n",
       "      <td>92277248.0</td>\n",
       "      <td>...</td>\n",
       "      <td>3368.558</td>\n",
       "      <td>3440.622</td>\n",
       "      <td>92103587.2</td>\n",
       "      <td>115836250.4</td>\n",
       "      <td>141973738.0</td>\n",
       "    </tr>\n",
       "    <tr>\n",
       "      <th>2016-12-21</th>\n",
       "      <td>3313.75</td>\n",
       "      <td>3342.48</td>\n",
       "      <td>3338.54</td>\n",
       "      <td>3313.75</td>\n",
       "      <td>108255000.0</td>\n",
       "      <td>...</td>\n",
       "      <td>3382.005</td>\n",
       "      <td>3448.276</td>\n",
       "      <td>96640270.4</td>\n",
       "      <td>118346918.4</td>\n",
       "      <td>144647190.8</td>\n",
       "    </tr>\n",
       "    <tr>\n",
       "      <th>2016-12-20</th>\n",
       "      <td>3328.30</td>\n",
       "      <td>3329.10</td>\n",
       "      <td>3309.06</td>\n",
       "      <td>3289.27</td>\n",
       "      <td>87569592.0</td>\n",
       "      <td>...</td>\n",
       "      <td>3395.726</td>\n",
       "      <td>3455.085</td>\n",
       "      <td>99790819.2</td>\n",
       "      <td>118955928.8</td>\n",
       "      <td>147353865.6</td>\n",
       "    </tr>\n",
       "    <tr>\n",
       "      <th>2016-12-19</th>\n",
       "      <td>3342.34</td>\n",
       "      <td>3344.86</td>\n",
       "      <td>3328.98</td>\n",
       "      <td>3325.00</td>\n",
       "      <td>81640680.0</td>\n",
       "      <td>...</td>\n",
       "      <td>3410.735</td>\n",
       "      <td>3463.050</td>\n",
       "      <td>106497921.6</td>\n",
       "      <td>121751879.2</td>\n",
       "      <td>151401558.8</td>\n",
       "    </tr>\n",
       "  </tbody>\n",
       "</table>\n",
       "<p>5 rows × 13 columns</p>\n",
       "</div>"
      ],
      "text/plain": [
       "               open     high    close      low       volume     ...       \\\n",
       "date                                                            ...        \n",
       "2016-12-23  3333.40  3334.89  3307.60  3300.88   97444712.0     ...        \n",
       "2016-12-22  3335.12  3340.36  3335.67  3322.72   92277248.0     ...        \n",
       "2016-12-21  3313.75  3342.48  3338.54  3313.75  108255000.0     ...        \n",
       "2016-12-20  3328.30  3329.10  3309.06  3289.27   87569592.0     ...        \n",
       "2016-12-19  3342.34  3344.86  3328.98  3325.00   81640680.0     ...        \n",
       "\n",
       "                ma10      ma20        v_ma5       v_ma10       v_ma20  \n",
       "date                                                                   \n",
       "2016-12-23  3349.948  3429.937   93437446.4  110550392.0  139164898.4  \n",
       "2016-12-22  3368.558  3440.622   92103587.2  115836250.4  141973738.0  \n",
       "2016-12-21  3382.005  3448.276   96640270.4  118346918.4  144647190.8  \n",
       "2016-12-20  3395.726  3455.085   99790819.2  118955928.8  147353865.6  \n",
       "2016-12-19  3410.735  3463.050  106497921.6  121751879.2  151401558.8  \n",
       "\n",
       "[5 rows x 13 columns]"
      ]
     },
     "execution_count": 22,
     "metadata": {},
     "output_type": "execute_result"
    }
   ],
   "source": [
    "goertek=goertek.set_index('date')\n",
    "goertek.head()"
   ]
  },
  {
   "cell_type": "code",
   "execution_count": 23,
   "metadata": {
    "collapsed": false
   },
   "outputs": [
    {
     "data": {
      "text/plain": [
       "pandas.tseries.index.DatetimeIndex"
      ]
     },
     "execution_count": 23,
     "metadata": {},
     "output_type": "execute_result"
    }
   ],
   "source": [
    "type(goertek.index)"
   ]
  },
  {
   "cell_type": "code",
   "execution_count": 24,
   "metadata": {
    "collapsed": false
   },
   "outputs": [
    {
     "data": {
      "text/html": [
       "<div>\n",
       "<table border=\"1\" class=\"dataframe\">\n",
       "  <thead>\n",
       "    <tr style=\"text-align: right;\">\n",
       "      <th></th>\n",
       "      <th>open</th>\n",
       "      <th>high</th>\n",
       "      <th>close</th>\n",
       "      <th>low</th>\n",
       "      <th>volume</th>\n",
       "      <th>...</th>\n",
       "      <th>ma10</th>\n",
       "      <th>ma20</th>\n",
       "      <th>v_ma5</th>\n",
       "      <th>v_ma10</th>\n",
       "      <th>v_ma20</th>\n",
       "    </tr>\n",
       "    <tr>\n",
       "      <th>date</th>\n",
       "      <th></th>\n",
       "      <th></th>\n",
       "      <th></th>\n",
       "      <th></th>\n",
       "      <th></th>\n",
       "      <th></th>\n",
       "      <th></th>\n",
       "      <th></th>\n",
       "      <th></th>\n",
       "      <th></th>\n",
       "      <th></th>\n",
       "    </tr>\n",
       "  </thead>\n",
       "  <tbody>\n",
       "    <tr>\n",
       "      <th>2016-12-23</th>\n",
       "      <td>3333.40</td>\n",
       "      <td>3334.89</td>\n",
       "      <td>3307.60</td>\n",
       "      <td>3300.88</td>\n",
       "      <td>97444712.0</td>\n",
       "      <td>...</td>\n",
       "      <td>3349.948</td>\n",
       "      <td>3429.937</td>\n",
       "      <td>93437446.4</td>\n",
       "      <td>110550392.0</td>\n",
       "      <td>139164898.4</td>\n",
       "    </tr>\n",
       "    <tr>\n",
       "      <th>2016-12-22</th>\n",
       "      <td>3335.12</td>\n",
       "      <td>3340.36</td>\n",
       "      <td>3335.67</td>\n",
       "      <td>3322.72</td>\n",
       "      <td>92277248.0</td>\n",
       "      <td>...</td>\n",
       "      <td>3368.558</td>\n",
       "      <td>3440.622</td>\n",
       "      <td>92103587.2</td>\n",
       "      <td>115836250.4</td>\n",
       "      <td>141973738.0</td>\n",
       "    </tr>\n",
       "    <tr>\n",
       "      <th>2016-12-21</th>\n",
       "      <td>3313.75</td>\n",
       "      <td>3342.48</td>\n",
       "      <td>3338.54</td>\n",
       "      <td>3313.75</td>\n",
       "      <td>108255000.0</td>\n",
       "      <td>...</td>\n",
       "      <td>3382.005</td>\n",
       "      <td>3448.276</td>\n",
       "      <td>96640270.4</td>\n",
       "      <td>118346918.4</td>\n",
       "      <td>144647190.8</td>\n",
       "    </tr>\n",
       "    <tr>\n",
       "      <th>2016-12-20</th>\n",
       "      <td>3328.30</td>\n",
       "      <td>3329.10</td>\n",
       "      <td>3309.06</td>\n",
       "      <td>3289.27</td>\n",
       "      <td>87569592.0</td>\n",
       "      <td>...</td>\n",
       "      <td>3395.726</td>\n",
       "      <td>3455.085</td>\n",
       "      <td>99790819.2</td>\n",
       "      <td>118955928.8</td>\n",
       "      <td>147353865.6</td>\n",
       "    </tr>\n",
       "    <tr>\n",
       "      <th>2016-12-19</th>\n",
       "      <td>3342.34</td>\n",
       "      <td>3344.86</td>\n",
       "      <td>3328.98</td>\n",
       "      <td>3325.00</td>\n",
       "      <td>81640680.0</td>\n",
       "      <td>...</td>\n",
       "      <td>3410.735</td>\n",
       "      <td>3463.050</td>\n",
       "      <td>106497921.6</td>\n",
       "      <td>121751879.2</td>\n",
       "      <td>151401558.8</td>\n",
       "    </tr>\n",
       "  </tbody>\n",
       "</table>\n",
       "<p>5 rows × 13 columns</p>\n",
       "</div>"
      ],
      "text/plain": [
       "               open     high    close      low       volume     ...       \\\n",
       "date                                                            ...        \n",
       "2016-12-23  3333.40  3334.89  3307.60  3300.88   97444712.0     ...        \n",
       "2016-12-22  3335.12  3340.36  3335.67  3322.72   92277248.0     ...        \n",
       "2016-12-21  3313.75  3342.48  3338.54  3313.75  108255000.0     ...        \n",
       "2016-12-20  3328.30  3329.10  3309.06  3289.27   87569592.0     ...        \n",
       "2016-12-19  3342.34  3344.86  3328.98  3325.00   81640680.0     ...        \n",
       "\n",
       "                ma10      ma20        v_ma5       v_ma10       v_ma20  \n",
       "date                                                                   \n",
       "2016-12-23  3349.948  3429.937   93437446.4  110550392.0  139164898.4  \n",
       "2016-12-22  3368.558  3440.622   92103587.2  115836250.4  141973738.0  \n",
       "2016-12-21  3382.005  3448.276   96640270.4  118346918.4  144647190.8  \n",
       "2016-12-20  3395.726  3455.085   99790819.2  118955928.8  147353865.6  \n",
       "2016-12-19  3410.735  3463.050  106497921.6  121751879.2  151401558.8  \n",
       "\n",
       "[5 rows x 13 columns]"
      ]
     },
     "execution_count": 24,
     "metadata": {},
     "output_type": "execute_result"
    }
   ],
   "source": [
    "goertek=pd.read_csv('../data/gertek_2016_d.csv',index_col='date',parse_dates=True)\n",
    "goertek.head()"
   ]
  },
  {
   "cell_type": "code",
   "execution_count": 25,
   "metadata": {
    "collapsed": false
   },
   "outputs": [
    {
     "data": {
      "text/plain": [
       "pandas.tseries.index.DatetimeIndex"
      ]
     },
     "execution_count": 25,
     "metadata": {},
     "output_type": "execute_result"
    }
   ],
   "source": [
    "type(goertek.index)"
   ]
  },
  {
   "cell_type": "markdown",
   "metadata": {},
   "source": [
    "### DateOffset与TimeDelta"
   ]
  },
  {
   "cell_type": "code",
   "execution_count": 26,
   "metadata": {
    "collapsed": false
   },
   "outputs": [
    {
     "data": {
      "text/plain": [
       "datetime.datetime(2016, 12, 31, 0, 0)"
      ]
     },
     "execution_count": 26,
     "metadata": {},
     "output_type": "execute_result"
    }
   ],
   "source": [
    "lastday=pd.datetime(2016,12,31)\n",
    "lastday"
   ]
  },
  {
   "cell_type": "code",
   "execution_count": 29,
   "metadata": {
    "collapsed": false
   },
   "outputs": [
    {
     "data": {
      "text/plain": [
       "Timestamp('2017-01-01 00:00:00')"
      ]
     },
     "execution_count": 29,
     "metadata": {},
     "output_type": "execute_result"
    }
   ],
   "source": [
    "newyear=lastday+pd.DateOffset(days=1)\n",
    "newyear"
   ]
  },
  {
   "cell_type": "code",
   "execution_count": 30,
   "metadata": {
    "collapsed": false
   },
   "outputs": [
    {
     "data": {
      "text/plain": [
       "datetime.datetime(2016, 12, 29, 21, 34, 59, 592988)"
      ]
     },
     "execution_count": 30,
     "metadata": {},
     "output_type": "execute_result"
    }
   ],
   "source": [
    "today=pd.datetime.now()\n",
    "today"
   ]
  },
  {
   "cell_type": "code",
   "execution_count": 31,
   "metadata": {
    "collapsed": false
   },
   "outputs": [
    {
     "data": {
      "text/plain": [
       "Timestamp('2017-01-05 21:34:59.592988')"
      ]
     },
     "execution_count": 31,
     "metadata": {},
     "output_type": "execute_result"
    }
   ],
   "source": [
    "today+pd.DateOffset(weeks=1)"
   ]
  },
  {
   "cell_type": "code",
   "execution_count": 32,
   "metadata": {
    "collapsed": false
   },
   "outputs": [
    {
     "data": {
      "text/plain": [
       "Timestamp('2021-12-29 21:34:59.592988')"
      ]
     },
     "execution_count": 32,
     "metadata": {},
     "output_type": "execute_result"
    }
   ],
   "source": [
    "today+2*pd.DateOffset(years=2, months=6)"
   ]
  },
  {
   "cell_type": "code",
   "execution_count": 34,
   "metadata": {
    "collapsed": true
   },
   "outputs": [],
   "source": [
    "import datetime"
   ]
  },
  {
   "cell_type": "code",
   "execution_count": 36,
   "metadata": {
    "collapsed": false
   },
   "outputs": [
    {
     "data": {
      "text/plain": [
       "datetime.timedelta(7)"
      ]
     },
     "execution_count": 36,
     "metadata": {},
     "output_type": "execute_result"
    }
   ],
   "source": [
    "weekDelta=datetime.timedelta(weeks=1)\n",
    "weekDelta"
   ]
  },
  {
   "cell_type": "code",
   "execution_count": 37,
   "metadata": {
    "collapsed": false
   },
   "outputs": [
    {
     "data": {
      "text/plain": [
       "datetime.timedelta(7)"
      ]
     },
     "execution_count": 37,
     "metadata": {},
     "output_type": "execute_result"
    }
   ],
   "source": [
    "datetime.timedelta(7)"
   ]
  },
  {
   "cell_type": "code",
   "execution_count": 38,
   "metadata": {
    "collapsed": true
   },
   "outputs": [],
   "source": [
    "today=pd.datetime.now()"
   ]
  },
  {
   "cell_type": "code",
   "execution_count": 39,
   "metadata": {
    "collapsed": false
   },
   "outputs": [
    {
     "data": {
      "text/plain": [
       "datetime.datetime(2017, 1, 5, 21, 37, 21, 473187)"
      ]
     },
     "execution_count": 39,
     "metadata": {},
     "output_type": "execute_result"
    }
   ],
   "source": [
    "today+weekDelta"
   ]
  },
  {
   "cell_type": "markdown",
   "metadata": {},
   "source": [
    "### 时间序列函数"
   ]
  },
  {
   "cell_type": "code",
   "execution_count": 40,
   "metadata": {
    "collapsed": false
   },
   "outputs": [
    {
     "data": {
      "text/html": [
       "<div>\n",
       "<table border=\"1\" class=\"dataframe\">\n",
       "  <thead>\n",
       "    <tr style=\"text-align: right;\">\n",
       "      <th></th>\n",
       "      <th>open</th>\n",
       "      <th>high</th>\n",
       "      <th>close</th>\n",
       "      <th>low</th>\n",
       "      <th>volume</th>\n",
       "      <th>...</th>\n",
       "      <th>ma10</th>\n",
       "      <th>ma20</th>\n",
       "      <th>v_ma5</th>\n",
       "      <th>v_ma10</th>\n",
       "      <th>v_ma20</th>\n",
       "    </tr>\n",
       "    <tr>\n",
       "      <th>date</th>\n",
       "      <th></th>\n",
       "      <th></th>\n",
       "      <th></th>\n",
       "      <th></th>\n",
       "      <th></th>\n",
       "      <th></th>\n",
       "      <th></th>\n",
       "      <th></th>\n",
       "      <th></th>\n",
       "      <th></th>\n",
       "      <th></th>\n",
       "    </tr>\n",
       "  </thead>\n",
       "  <tbody>\n",
       "    <tr>\n",
       "      <th>2016-01-04</th>\n",
       "      <td>3725.856</td>\n",
       "      <td>3726.245</td>\n",
       "      <td>3469.066</td>\n",
       "      <td>3468.949</td>\n",
       "      <td>115370672.0</td>\n",
       "      <td>...</td>\n",
       "      <td>3773.143</td>\n",
       "      <td>3726.205</td>\n",
       "      <td>115749635.2</td>\n",
       "      <td>145030968.0</td>\n",
       "      <td>138741052.8</td>\n",
       "    </tr>\n",
       "    <tr>\n",
       "      <th>2016-01-05</th>\n",
       "      <td>3382.177</td>\n",
       "      <td>3518.217</td>\n",
       "      <td>3478.780</td>\n",
       "      <td>3377.280</td>\n",
       "      <td>162116992.0</td>\n",
       "      <td>...</td>\n",
       "      <td>3734.425</td>\n",
       "      <td>3715.763</td>\n",
       "      <td>117375344.0</td>\n",
       "      <td>139499139.2</td>\n",
       "      <td>141152744.8</td>\n",
       "    </tr>\n",
       "    <tr>\n",
       "      <th>2016-01-06</th>\n",
       "      <td>3482.406</td>\n",
       "      <td>3543.739</td>\n",
       "      <td>3539.808</td>\n",
       "      <td>3468.467</td>\n",
       "      <td>145966144.0</td>\n",
       "      <td>...</td>\n",
       "      <td>3700.733</td>\n",
       "      <td>3711.603</td>\n",
       "      <td>126191462.4</td>\n",
       "      <td>136065387.2</td>\n",
       "      <td>142161998.0</td>\n",
       "    </tr>\n",
       "    <tr>\n",
       "      <th>2016-01-07</th>\n",
       "      <td>3481.150</td>\n",
       "      <td>3481.150</td>\n",
       "      <td>3294.384</td>\n",
       "      <td>3284.737</td>\n",
       "      <td>44102640.0</td>\n",
       "      <td>...</td>\n",
       "      <td>3643.533</td>\n",
       "      <td>3694.525</td>\n",
       "      <td>113886000.0</td>\n",
       "      <td>119773936.0</td>\n",
       "      <td>138700858.8</td>\n",
       "    </tr>\n",
       "    <tr>\n",
       "      <th>2016-01-08</th>\n",
       "      <td>3371.871</td>\n",
       "      <td>3418.851</td>\n",
       "      <td>3361.563</td>\n",
       "      <td>3237.931</td>\n",
       "      <td>185959456.0</td>\n",
       "      <td>...</td>\n",
       "      <td>3596.749</td>\n",
       "      <td>3681.449</td>\n",
       "      <td>130703180.8</td>\n",
       "      <td>123651742.4</td>\n",
       "      <td>141988050.4</td>\n",
       "    </tr>\n",
       "  </tbody>\n",
       "</table>\n",
       "<p>5 rows × 13 columns</p>\n",
       "</div>"
      ],
      "text/plain": [
       "                open      high     close       low       volume     ...       \\\n",
       "date                                                                ...        \n",
       "2016-01-04  3725.856  3726.245  3469.066  3468.949  115370672.0     ...        \n",
       "2016-01-05  3382.177  3518.217  3478.780  3377.280  162116992.0     ...        \n",
       "2016-01-06  3482.406  3543.739  3539.808  3468.467  145966144.0     ...        \n",
       "2016-01-07  3481.150  3481.150  3294.384  3284.737   44102640.0     ...        \n",
       "2016-01-08  3371.871  3418.851  3361.563  3237.931  185959456.0     ...        \n",
       "\n",
       "                ma10      ma20        v_ma5       v_ma10       v_ma20  \n",
       "date                                                                   \n",
       "2016-01-04  3773.143  3726.205  115749635.2  145030968.0  138741052.8  \n",
       "2016-01-05  3734.425  3715.763  117375344.0  139499139.2  141152744.8  \n",
       "2016-01-06  3700.733  3711.603  126191462.4  136065387.2  142161998.0  \n",
       "2016-01-07  3643.533  3694.525  113886000.0  119773936.0  138700858.8  \n",
       "2016-01-08  3596.749  3681.449  130703180.8  123651742.4  141988050.4  \n",
       "\n",
       "[5 rows x 13 columns]"
      ]
     },
     "execution_count": 40,
     "metadata": {},
     "output_type": "execute_result"
    }
   ],
   "source": [
    "goertek=goertek.sort_index(ascending=True)\n",
    "goertek.head()"
   ]
  },
  {
   "cell_type": "code",
   "execution_count": 41,
   "metadata": {
    "collapsed": false
   },
   "outputs": [
    {
     "data": {
      "text/html": [
       "<div>\n",
       "<table border=\"1\" class=\"dataframe\">\n",
       "  <thead>\n",
       "    <tr style=\"text-align: right;\">\n",
       "      <th></th>\n",
       "      <th>open</th>\n",
       "      <th>high</th>\n",
       "      <th>close</th>\n",
       "      <th>low</th>\n",
       "      <th>volume</th>\n",
       "      <th>...</th>\n",
       "      <th>ma10</th>\n",
       "      <th>ma20</th>\n",
       "      <th>v_ma5</th>\n",
       "      <th>v_ma10</th>\n",
       "      <th>v_ma20</th>\n",
       "    </tr>\n",
       "    <tr>\n",
       "      <th>date</th>\n",
       "      <th></th>\n",
       "      <th></th>\n",
       "      <th></th>\n",
       "      <th></th>\n",
       "      <th></th>\n",
       "      <th></th>\n",
       "      <th></th>\n",
       "      <th></th>\n",
       "      <th></th>\n",
       "      <th></th>\n",
       "      <th></th>\n",
       "    </tr>\n",
       "  </thead>\n",
       "  <tbody>\n",
       "    <tr>\n",
       "      <th>2016-12-19</th>\n",
       "      <td>3342.34</td>\n",
       "      <td>3344.86</td>\n",
       "      <td>3328.98</td>\n",
       "      <td>3325.00</td>\n",
       "      <td>81640680.0</td>\n",
       "      <td>...</td>\n",
       "      <td>3410.735</td>\n",
       "      <td>3463.050</td>\n",
       "      <td>106497921.6</td>\n",
       "      <td>121751879.2</td>\n",
       "      <td>151401558.8</td>\n",
       "    </tr>\n",
       "    <tr>\n",
       "      <th>2016-12-20</th>\n",
       "      <td>3328.30</td>\n",
       "      <td>3329.10</td>\n",
       "      <td>3309.06</td>\n",
       "      <td>3289.27</td>\n",
       "      <td>87569592.0</td>\n",
       "      <td>...</td>\n",
       "      <td>3395.726</td>\n",
       "      <td>3455.085</td>\n",
       "      <td>99790819.2</td>\n",
       "      <td>118955928.8</td>\n",
       "      <td>147353865.6</td>\n",
       "    </tr>\n",
       "    <tr>\n",
       "      <th>2016-12-21</th>\n",
       "      <td>3313.75</td>\n",
       "      <td>3342.48</td>\n",
       "      <td>3338.54</td>\n",
       "      <td>3313.75</td>\n",
       "      <td>108255000.0</td>\n",
       "      <td>...</td>\n",
       "      <td>3382.005</td>\n",
       "      <td>3448.276</td>\n",
       "      <td>96640270.4</td>\n",
       "      <td>118346918.4</td>\n",
       "      <td>144647190.8</td>\n",
       "    </tr>\n",
       "    <tr>\n",
       "      <th>2016-12-22</th>\n",
       "      <td>3335.12</td>\n",
       "      <td>3340.36</td>\n",
       "      <td>3335.67</td>\n",
       "      <td>3322.72</td>\n",
       "      <td>92277248.0</td>\n",
       "      <td>...</td>\n",
       "      <td>3368.558</td>\n",
       "      <td>3440.622</td>\n",
       "      <td>92103587.2</td>\n",
       "      <td>115836250.4</td>\n",
       "      <td>141973738.0</td>\n",
       "    </tr>\n",
       "    <tr>\n",
       "      <th>2016-12-23</th>\n",
       "      <td>3333.40</td>\n",
       "      <td>3334.89</td>\n",
       "      <td>3307.60</td>\n",
       "      <td>3300.88</td>\n",
       "      <td>97444712.0</td>\n",
       "      <td>...</td>\n",
       "      <td>3349.948</td>\n",
       "      <td>3429.937</td>\n",
       "      <td>93437446.4</td>\n",
       "      <td>110550392.0</td>\n",
       "      <td>139164898.4</td>\n",
       "    </tr>\n",
       "  </tbody>\n",
       "</table>\n",
       "<p>5 rows × 13 columns</p>\n",
       "</div>"
      ],
      "text/plain": [
       "               open     high    close      low       volume     ...       \\\n",
       "date                                                            ...        \n",
       "2016-12-19  3342.34  3344.86  3328.98  3325.00   81640680.0     ...        \n",
       "2016-12-20  3328.30  3329.10  3309.06  3289.27   87569592.0     ...        \n",
       "2016-12-21  3313.75  3342.48  3338.54  3313.75  108255000.0     ...        \n",
       "2016-12-22  3335.12  3340.36  3335.67  3322.72   92277248.0     ...        \n",
       "2016-12-23  3333.40  3334.89  3307.60  3300.88   97444712.0     ...        \n",
       "\n",
       "                ma10      ma20        v_ma5       v_ma10       v_ma20  \n",
       "date                                                                   \n",
       "2016-12-19  3410.735  3463.050  106497921.6  121751879.2  151401558.8  \n",
       "2016-12-20  3395.726  3455.085   99790819.2  118955928.8  147353865.6  \n",
       "2016-12-21  3382.005  3448.276   96640270.4  118346918.4  144647190.8  \n",
       "2016-12-22  3368.558  3440.622   92103587.2  115836250.4  141973738.0  \n",
       "2016-12-23  3349.948  3429.937   93437446.4  110550392.0  139164898.4  \n",
       "\n",
       "[5 rows x 13 columns]"
      ]
     },
     "execution_count": 41,
     "metadata": {},
     "output_type": "execute_result"
    }
   ],
   "source": [
    "goertek.tail()"
   ]
  },
  {
   "cell_type": "code",
   "execution_count": 42,
   "metadata": {
    "collapsed": false,
    "scrolled": true
   },
   "outputs": [
    {
     "data": {
      "text/html": [
       "<div>\n",
       "<table border=\"1\" class=\"dataframe\">\n",
       "  <thead>\n",
       "    <tr style=\"text-align: right;\">\n",
       "      <th></th>\n",
       "      <th>open</th>\n",
       "      <th>high</th>\n",
       "      <th>close</th>\n",
       "      <th>low</th>\n",
       "      <th>volume</th>\n",
       "      <th>...</th>\n",
       "      <th>ma10</th>\n",
       "      <th>ma20</th>\n",
       "      <th>v_ma5</th>\n",
       "      <th>v_ma10</th>\n",
       "      <th>v_ma20</th>\n",
       "    </tr>\n",
       "    <tr>\n",
       "      <th>date</th>\n",
       "      <th></th>\n",
       "      <th></th>\n",
       "      <th></th>\n",
       "      <th></th>\n",
       "      <th></th>\n",
       "      <th></th>\n",
       "      <th></th>\n",
       "      <th></th>\n",
       "      <th></th>\n",
       "      <th></th>\n",
       "      <th></th>\n",
       "    </tr>\n",
       "  </thead>\n",
       "  <tbody>\n",
       "    <tr>\n",
       "      <th>2016-01-04</th>\n",
       "      <td>NaN</td>\n",
       "      <td>NaN</td>\n",
       "      <td>NaN</td>\n",
       "      <td>NaN</td>\n",
       "      <td>NaN</td>\n",
       "      <td>...</td>\n",
       "      <td>NaN</td>\n",
       "      <td>NaN</td>\n",
       "      <td>NaN</td>\n",
       "      <td>NaN</td>\n",
       "      <td>NaN</td>\n",
       "    </tr>\n",
       "    <tr>\n",
       "      <th>2016-01-05</th>\n",
       "      <td>3725.856</td>\n",
       "      <td>3726.245</td>\n",
       "      <td>3469.066</td>\n",
       "      <td>3468.949</td>\n",
       "      <td>115370672.0</td>\n",
       "      <td>...</td>\n",
       "      <td>3773.143</td>\n",
       "      <td>3726.205</td>\n",
       "      <td>115749635.2</td>\n",
       "      <td>145030968.0</td>\n",
       "      <td>138741052.8</td>\n",
       "    </tr>\n",
       "    <tr>\n",
       "      <th>2016-01-06</th>\n",
       "      <td>3382.177</td>\n",
       "      <td>3518.217</td>\n",
       "      <td>3478.780</td>\n",
       "      <td>3377.280</td>\n",
       "      <td>162116992.0</td>\n",
       "      <td>...</td>\n",
       "      <td>3734.425</td>\n",
       "      <td>3715.763</td>\n",
       "      <td>117375344.0</td>\n",
       "      <td>139499139.2</td>\n",
       "      <td>141152744.8</td>\n",
       "    </tr>\n",
       "  </tbody>\n",
       "</table>\n",
       "<p>3 rows × 13 columns</p>\n",
       "</div>"
      ],
      "text/plain": [
       "                open      high     close       low       volume     ...       \\\n",
       "date                                                                ...        \n",
       "2016-01-04       NaN       NaN       NaN       NaN          NaN     ...        \n",
       "2016-01-05  3725.856  3726.245  3469.066  3468.949  115370672.0     ...        \n",
       "2016-01-06  3382.177  3518.217  3478.780  3377.280  162116992.0     ...        \n",
       "\n",
       "                ma10      ma20        v_ma5       v_ma10       v_ma20  \n",
       "date                                                                   \n",
       "2016-01-04       NaN       NaN          NaN          NaN          NaN  \n",
       "2016-01-05  3773.143  3726.205  115749635.2  145030968.0  138741052.8  \n",
       "2016-01-06  3734.425  3715.763  117375344.0  139499139.2  141152744.8  \n",
       "\n",
       "[3 rows x 13 columns]"
      ]
     },
     "execution_count": 42,
     "metadata": {},
     "output_type": "execute_result"
    }
   ],
   "source": [
    "goertek.shift(1).head(3)"
   ]
  },
  {
   "cell_type": "code",
   "execution_count": 43,
   "metadata": {
    "collapsed": false
   },
   "outputs": [
    {
     "data": {
      "text/html": [
       "<div>\n",
       "<table border=\"1\" class=\"dataframe\">\n",
       "  <thead>\n",
       "    <tr style=\"text-align: right;\">\n",
       "      <th></th>\n",
       "      <th>open</th>\n",
       "      <th>high</th>\n",
       "      <th>close</th>\n",
       "      <th>low</th>\n",
       "      <th>volume</th>\n",
       "      <th>...</th>\n",
       "      <th>ma10</th>\n",
       "      <th>ma20</th>\n",
       "      <th>v_ma5</th>\n",
       "      <th>v_ma10</th>\n",
       "      <th>v_ma20</th>\n",
       "    </tr>\n",
       "    <tr>\n",
       "      <th>date</th>\n",
       "      <th></th>\n",
       "      <th></th>\n",
       "      <th></th>\n",
       "      <th></th>\n",
       "      <th></th>\n",
       "      <th></th>\n",
       "      <th></th>\n",
       "      <th></th>\n",
       "      <th></th>\n",
       "      <th></th>\n",
       "      <th></th>\n",
       "    </tr>\n",
       "  </thead>\n",
       "  <tbody>\n",
       "    <tr>\n",
       "      <th>2016-01-05</th>\n",
       "      <td>3725.856</td>\n",
       "      <td>3726.245</td>\n",
       "      <td>3469.066</td>\n",
       "      <td>3468.949</td>\n",
       "      <td>115370672.0</td>\n",
       "      <td>...</td>\n",
       "      <td>3773.143</td>\n",
       "      <td>3726.205</td>\n",
       "      <td>115749635.2</td>\n",
       "      <td>145030968.0</td>\n",
       "      <td>138741052.8</td>\n",
       "    </tr>\n",
       "    <tr>\n",
       "      <th>2016-01-06</th>\n",
       "      <td>3382.177</td>\n",
       "      <td>3518.217</td>\n",
       "      <td>3478.780</td>\n",
       "      <td>3377.280</td>\n",
       "      <td>162116992.0</td>\n",
       "      <td>...</td>\n",
       "      <td>3734.425</td>\n",
       "      <td>3715.763</td>\n",
       "      <td>117375344.0</td>\n",
       "      <td>139499139.2</td>\n",
       "      <td>141152744.8</td>\n",
       "    </tr>\n",
       "    <tr>\n",
       "      <th>2016-01-07</th>\n",
       "      <td>3482.406</td>\n",
       "      <td>3543.739</td>\n",
       "      <td>3539.808</td>\n",
       "      <td>3468.467</td>\n",
       "      <td>145966144.0</td>\n",
       "      <td>...</td>\n",
       "      <td>3700.733</td>\n",
       "      <td>3711.603</td>\n",
       "      <td>126191462.4</td>\n",
       "      <td>136065387.2</td>\n",
       "      <td>142161998.0</td>\n",
       "    </tr>\n",
       "  </tbody>\n",
       "</table>\n",
       "<p>3 rows × 13 columns</p>\n",
       "</div>"
      ],
      "text/plain": [
       "                open      high     close       low       volume     ...       \\\n",
       "date                                                                ...        \n",
       "2016-01-05  3725.856  3726.245  3469.066  3468.949  115370672.0     ...        \n",
       "2016-01-06  3382.177  3518.217  3478.780  3377.280  162116992.0     ...        \n",
       "2016-01-07  3482.406  3543.739  3539.808  3468.467  145966144.0     ...        \n",
       "\n",
       "                ma10      ma20        v_ma5       v_ma10       v_ma20  \n",
       "date                                                                   \n",
       "2016-01-05  3773.143  3726.205  115749635.2  145030968.0  138741052.8  \n",
       "2016-01-06  3734.425  3715.763  117375344.0  139499139.2  141152744.8  \n",
       "2016-01-07  3700.733  3711.603  126191462.4  136065387.2  142161998.0  \n",
       "\n",
       "[3 rows x 13 columns]"
      ]
     },
     "execution_count": 43,
     "metadata": {},
     "output_type": "execute_result"
    }
   ],
   "source": [
    "goertek.shift(1,freq=pd.datetools.bday).head(3)"
   ]
  },
  {
   "cell_type": "code",
   "execution_count": 44,
   "metadata": {
    "collapsed": false
   },
   "outputs": [
    {
     "data": {
      "text/html": [
       "<div>\n",
       "<table border=\"1\" class=\"dataframe\">\n",
       "  <thead>\n",
       "    <tr style=\"text-align: right;\">\n",
       "      <th></th>\n",
       "      <th>open</th>\n",
       "      <th>high</th>\n",
       "      <th>close</th>\n",
       "      <th>low</th>\n",
       "      <th>volume</th>\n",
       "      <th>...</th>\n",
       "      <th>ma10</th>\n",
       "      <th>ma20</th>\n",
       "      <th>v_ma5</th>\n",
       "      <th>v_ma10</th>\n",
       "      <th>v_ma20</th>\n",
       "    </tr>\n",
       "    <tr>\n",
       "      <th>date</th>\n",
       "      <th></th>\n",
       "      <th></th>\n",
       "      <th></th>\n",
       "      <th></th>\n",
       "      <th></th>\n",
       "      <th></th>\n",
       "      <th></th>\n",
       "      <th></th>\n",
       "      <th></th>\n",
       "      <th></th>\n",
       "      <th></th>\n",
       "    </tr>\n",
       "  </thead>\n",
       "  <tbody>\n",
       "    <tr>\n",
       "      <th>2016-01-29</th>\n",
       "      <td>2855.598</td>\n",
       "      <td>2965.309</td>\n",
       "      <td>2946.090</td>\n",
       "      <td>2854.371</td>\n",
       "      <td>113304256.0</td>\n",
       "      <td>...</td>\n",
       "      <td>3052.263</td>\n",
       "      <td>3178.529</td>\n",
       "      <td>110646072.0</td>\n",
       "      <td>111380396.8</td>\n",
       "      <td>122499499.2</td>\n",
       "    </tr>\n",
       "    <tr>\n",
       "      <th>2016-02-29</th>\n",
       "      <td>2939.580</td>\n",
       "      <td>2939.875</td>\n",
       "      <td>2877.467</td>\n",
       "      <td>2821.215</td>\n",
       "      <td>129341024.0</td>\n",
       "      <td>...</td>\n",
       "      <td>3026.766</td>\n",
       "      <td>2982.232</td>\n",
       "      <td>123694110.4</td>\n",
       "      <td>121202825.6</td>\n",
       "      <td>108902741.2</td>\n",
       "    </tr>\n",
       "    <tr>\n",
       "      <th>2016-03-31</th>\n",
       "      <td>3229.200</td>\n",
       "      <td>3241.927</td>\n",
       "      <td>3218.088</td>\n",
       "      <td>3208.665</td>\n",
       "      <td>121552072.0</td>\n",
       "      <td>...</td>\n",
       "      <td>3200.245</td>\n",
       "      <td>3138.345</td>\n",
       "      <td>107497318.4</td>\n",
       "      <td>138788992.8</td>\n",
       "      <td>129922554.0</td>\n",
       "    </tr>\n",
       "    <tr>\n",
       "      <th>2016-04-29</th>\n",
       "      <td>3153.537</td>\n",
       "      <td>3171.289</td>\n",
       "      <td>3156.745</td>\n",
       "      <td>3149.397</td>\n",
       "      <td>58029776.0</td>\n",
       "      <td>...</td>\n",
       "      <td>3180.772</td>\n",
       "      <td>3210.231</td>\n",
       "      <td>62888933.6</td>\n",
       "      <td>83644518.0</td>\n",
       "      <td>103044368.2</td>\n",
       "    </tr>\n",
       "    <tr>\n",
       "      <th>2016-05-31</th>\n",
       "      <td>3068.596</td>\n",
       "      <td>3170.926</td>\n",
       "      <td>3169.559</td>\n",
       "      <td>3068.596</td>\n",
       "      <td>138863104.0</td>\n",
       "      <td>...</td>\n",
       "      <td>3078.173</td>\n",
       "      <td>3094.970</td>\n",
       "      <td>75895244.0</td>\n",
       "      <td>69714819.6</td>\n",
       "      <td>74371733.0</td>\n",
       "    </tr>\n",
       "    <tr>\n",
       "      <th>...</th>\n",
       "      <td>...</td>\n",
       "      <td>...</td>\n",
       "      <td>...</td>\n",
       "      <td>...</td>\n",
       "      <td>...</td>\n",
       "      <td>...</td>\n",
       "      <td>...</td>\n",
       "      <td>...</td>\n",
       "      <td>...</td>\n",
       "      <td>...</td>\n",
       "      <td>...</td>\n",
       "    </tr>\n",
       "    <tr>\n",
       "      <th>2016-07-29</th>\n",
       "      <td>3217.192</td>\n",
       "      <td>3225.418</td>\n",
       "      <td>3203.930</td>\n",
       "      <td>3198.683</td>\n",
       "      <td>88044840.0</td>\n",
       "      <td>...</td>\n",
       "      <td>3236.933</td>\n",
       "      <td>3235.643</td>\n",
       "      <td>102453550.4</td>\n",
       "      <td>95620234.4</td>\n",
       "      <td>112470896.4</td>\n",
       "    </tr>\n",
       "    <tr>\n",
       "      <th>2016-08-31</th>\n",
       "      <td>3310.565</td>\n",
       "      <td>3333.972</td>\n",
       "      <td>3327.793</td>\n",
       "      <td>3304.655</td>\n",
       "      <td>79570808.0</td>\n",
       "      <td>...</td>\n",
       "      <td>3330.161</td>\n",
       "      <td>3305.741</td>\n",
       "      <td>82890593.6</td>\n",
       "      <td>95886160.0</td>\n",
       "      <td>107540506.4</td>\n",
       "    </tr>\n",
       "    <tr>\n",
       "      <th>2016-09-30</th>\n",
       "      <td>3240.177</td>\n",
       "      <td>3260.940</td>\n",
       "      <td>3253.284</td>\n",
       "      <td>3239.036</td>\n",
       "      <td>44978024.0</td>\n",
       "      <td>...</td>\n",
       "      <td>3254.355</td>\n",
       "      <td>3279.082</td>\n",
       "      <td>54814162.4</td>\n",
       "      <td>57857660.8</td>\n",
       "      <td>72046803.6</td>\n",
       "    </tr>\n",
       "    <tr>\n",
       "      <th>2016-10-31</th>\n",
       "      <td>NaN</td>\n",
       "      <td>NaN</td>\n",
       "      <td>NaN</td>\n",
       "      <td>NaN</td>\n",
       "      <td>NaN</td>\n",
       "      <td>...</td>\n",
       "      <td>NaN</td>\n",
       "      <td>NaN</td>\n",
       "      <td>NaN</td>\n",
       "      <td>NaN</td>\n",
       "      <td>NaN</td>\n",
       "    </tr>\n",
       "    <tr>\n",
       "      <th>2016-11-30</th>\n",
       "      <td>3557.640</td>\n",
       "      <td>3567.070</td>\n",
       "      <td>3538.000</td>\n",
       "      <td>3527.020</td>\n",
       "      <td>178560192.0</td>\n",
       "      <td>...</td>\n",
       "      <td>3488.535</td>\n",
       "      <td>3439.146</td>\n",
       "      <td>184444368.0</td>\n",
       "      <td>163708126.4</td>\n",
       "      <td>151030986.4</td>\n",
       "    </tr>\n",
       "  </tbody>\n",
       "</table>\n",
       "<p>11 rows × 13 columns</p>\n",
       "</div>"
      ],
      "text/plain": [
       "                open      high     close       low       volume     ...       \\\n",
       "date                                                                ...        \n",
       "2016-01-29  2855.598  2965.309  2946.090  2854.371  113304256.0     ...        \n",
       "2016-02-29  2939.580  2939.875  2877.467  2821.215  129341024.0     ...        \n",
       "2016-03-31  3229.200  3241.927  3218.088  3208.665  121552072.0     ...        \n",
       "2016-04-29  3153.537  3171.289  3156.745  3149.397   58029776.0     ...        \n",
       "2016-05-31  3068.596  3170.926  3169.559  3068.596  138863104.0     ...        \n",
       "...              ...       ...       ...       ...          ...     ...        \n",
       "2016-07-29  3217.192  3225.418  3203.930  3198.683   88044840.0     ...        \n",
       "2016-08-31  3310.565  3333.972  3327.793  3304.655   79570808.0     ...        \n",
       "2016-09-30  3240.177  3260.940  3253.284  3239.036   44978024.0     ...        \n",
       "2016-10-31       NaN       NaN       NaN       NaN          NaN     ...        \n",
       "2016-11-30  3557.640  3567.070  3538.000  3527.020  178560192.0     ...        \n",
       "\n",
       "                ma10      ma20        v_ma5       v_ma10       v_ma20  \n",
       "date                                                                   \n",
       "2016-01-29  3052.263  3178.529  110646072.0  111380396.8  122499499.2  \n",
       "2016-02-29  3026.766  2982.232  123694110.4  121202825.6  108902741.2  \n",
       "2016-03-31  3200.245  3138.345  107497318.4  138788992.8  129922554.0  \n",
       "2016-04-29  3180.772  3210.231   62888933.6   83644518.0  103044368.2  \n",
       "2016-05-31  3078.173  3094.970   75895244.0   69714819.6   74371733.0  \n",
       "...              ...       ...          ...          ...          ...  \n",
       "2016-07-29  3236.933  3235.643  102453550.4   95620234.4  112470896.4  \n",
       "2016-08-31  3330.161  3305.741   82890593.6   95886160.0  107540506.4  \n",
       "2016-09-30  3254.355  3279.082   54814162.4   57857660.8   72046803.6  \n",
       "2016-10-31       NaN       NaN          NaN          NaN          NaN  \n",
       "2016-11-30  3488.535  3439.146  184444368.0  163708126.4  151030986.4  \n",
       "\n",
       "[11 rows x 13 columns]"
      ]
     },
     "execution_count": 44,
     "metadata": {},
     "output_type": "execute_result"
    }
   ],
   "source": [
    "goertek.asfreq('BM')"
   ]
  },
  {
   "cell_type": "code",
   "execution_count": 45,
   "metadata": {
    "collapsed": false
   },
   "outputs": [
    {
     "data": {
      "text/html": [
       "<div>\n",
       "<table border=\"1\" class=\"dataframe\">\n",
       "  <thead>\n",
       "    <tr style=\"text-align: right;\">\n",
       "      <th></th>\n",
       "      <th>open</th>\n",
       "      <th>high</th>\n",
       "      <th>close</th>\n",
       "      <th>low</th>\n",
       "      <th>volume</th>\n",
       "      <th>...</th>\n",
       "      <th>ma10</th>\n",
       "      <th>ma20</th>\n",
       "      <th>v_ma5</th>\n",
       "      <th>v_ma10</th>\n",
       "      <th>v_ma20</th>\n",
       "    </tr>\n",
       "    <tr>\n",
       "      <th>date</th>\n",
       "      <th></th>\n",
       "      <th></th>\n",
       "      <th></th>\n",
       "      <th></th>\n",
       "      <th></th>\n",
       "      <th></th>\n",
       "      <th></th>\n",
       "      <th></th>\n",
       "      <th></th>\n",
       "      <th></th>\n",
       "      <th></th>\n",
       "    </tr>\n",
       "  </thead>\n",
       "  <tbody>\n",
       "    <tr>\n",
       "      <th>2016-01-04 00:00:00</th>\n",
       "      <td>3725.856</td>\n",
       "      <td>3726.245</td>\n",
       "      <td>3469.066</td>\n",
       "      <td>3468.949</td>\n",
       "      <td>115370672.0</td>\n",
       "      <td>...</td>\n",
       "      <td>3773.143</td>\n",
       "      <td>3726.205</td>\n",
       "      <td>115749635.2</td>\n",
       "      <td>145030968.0</td>\n",
       "      <td>138741052.8</td>\n",
       "    </tr>\n",
       "    <tr>\n",
       "      <th>2016-01-04 01:00:00</th>\n",
       "      <td>3725.856</td>\n",
       "      <td>3726.245</td>\n",
       "      <td>3469.066</td>\n",
       "      <td>3468.949</td>\n",
       "      <td>115370672.0</td>\n",
       "      <td>...</td>\n",
       "      <td>3773.143</td>\n",
       "      <td>3726.205</td>\n",
       "      <td>115749635.2</td>\n",
       "      <td>145030968.0</td>\n",
       "      <td>138741052.8</td>\n",
       "    </tr>\n",
       "    <tr>\n",
       "      <th>2016-01-04 02:00:00</th>\n",
       "      <td>3725.856</td>\n",
       "      <td>3726.245</td>\n",
       "      <td>3469.066</td>\n",
       "      <td>3468.949</td>\n",
       "      <td>115370672.0</td>\n",
       "      <td>...</td>\n",
       "      <td>3773.143</td>\n",
       "      <td>3726.205</td>\n",
       "      <td>115749635.2</td>\n",
       "      <td>145030968.0</td>\n",
       "      <td>138741052.8</td>\n",
       "    </tr>\n",
       "    <tr>\n",
       "      <th>2016-01-04 03:00:00</th>\n",
       "      <td>3725.856</td>\n",
       "      <td>3726.245</td>\n",
       "      <td>3469.066</td>\n",
       "      <td>3468.949</td>\n",
       "      <td>115370672.0</td>\n",
       "      <td>...</td>\n",
       "      <td>3773.143</td>\n",
       "      <td>3726.205</td>\n",
       "      <td>115749635.2</td>\n",
       "      <td>145030968.0</td>\n",
       "      <td>138741052.8</td>\n",
       "    </tr>\n",
       "    <tr>\n",
       "      <th>2016-01-04 04:00:00</th>\n",
       "      <td>3725.856</td>\n",
       "      <td>3726.245</td>\n",
       "      <td>3469.066</td>\n",
       "      <td>3468.949</td>\n",
       "      <td>115370672.0</td>\n",
       "      <td>...</td>\n",
       "      <td>3773.143</td>\n",
       "      <td>3726.205</td>\n",
       "      <td>115749635.2</td>\n",
       "      <td>145030968.0</td>\n",
       "      <td>138741052.8</td>\n",
       "    </tr>\n",
       "    <tr>\n",
       "      <th>...</th>\n",
       "      <td>...</td>\n",
       "      <td>...</td>\n",
       "      <td>...</td>\n",
       "      <td>...</td>\n",
       "      <td>...</td>\n",
       "      <td>...</td>\n",
       "      <td>...</td>\n",
       "      <td>...</td>\n",
       "      <td>...</td>\n",
       "      <td>...</td>\n",
       "      <td>...</td>\n",
       "    </tr>\n",
       "    <tr>\n",
       "      <th>2016-12-22 20:00:00</th>\n",
       "      <td>3335.120</td>\n",
       "      <td>3340.360</td>\n",
       "      <td>3335.670</td>\n",
       "      <td>3322.720</td>\n",
       "      <td>92277248.0</td>\n",
       "      <td>...</td>\n",
       "      <td>3368.558</td>\n",
       "      <td>3440.622</td>\n",
       "      <td>92103587.2</td>\n",
       "      <td>115836250.4</td>\n",
       "      <td>141973738.0</td>\n",
       "    </tr>\n",
       "    <tr>\n",
       "      <th>2016-12-22 21:00:00</th>\n",
       "      <td>3335.120</td>\n",
       "      <td>3340.360</td>\n",
       "      <td>3335.670</td>\n",
       "      <td>3322.720</td>\n",
       "      <td>92277248.0</td>\n",
       "      <td>...</td>\n",
       "      <td>3368.558</td>\n",
       "      <td>3440.622</td>\n",
       "      <td>92103587.2</td>\n",
       "      <td>115836250.4</td>\n",
       "      <td>141973738.0</td>\n",
       "    </tr>\n",
       "    <tr>\n",
       "      <th>2016-12-22 22:00:00</th>\n",
       "      <td>3335.120</td>\n",
       "      <td>3340.360</td>\n",
       "      <td>3335.670</td>\n",
       "      <td>3322.720</td>\n",
       "      <td>92277248.0</td>\n",
       "      <td>...</td>\n",
       "      <td>3368.558</td>\n",
       "      <td>3440.622</td>\n",
       "      <td>92103587.2</td>\n",
       "      <td>115836250.4</td>\n",
       "      <td>141973738.0</td>\n",
       "    </tr>\n",
       "    <tr>\n",
       "      <th>2016-12-22 23:00:00</th>\n",
       "      <td>3335.120</td>\n",
       "      <td>3340.360</td>\n",
       "      <td>3335.670</td>\n",
       "      <td>3322.720</td>\n",
       "      <td>92277248.0</td>\n",
       "      <td>...</td>\n",
       "      <td>3368.558</td>\n",
       "      <td>3440.622</td>\n",
       "      <td>92103587.2</td>\n",
       "      <td>115836250.4</td>\n",
       "      <td>141973738.0</td>\n",
       "    </tr>\n",
       "    <tr>\n",
       "      <th>2016-12-23 00:00:00</th>\n",
       "      <td>3333.400</td>\n",
       "      <td>3334.890</td>\n",
       "      <td>3307.600</td>\n",
       "      <td>3300.880</td>\n",
       "      <td>97444712.0</td>\n",
       "      <td>...</td>\n",
       "      <td>3349.948</td>\n",
       "      <td>3429.937</td>\n",
       "      <td>93437446.4</td>\n",
       "      <td>110550392.0</td>\n",
       "      <td>139164898.4</td>\n",
       "    </tr>\n",
       "  </tbody>\n",
       "</table>\n",
       "<p>8497 rows × 13 columns</p>\n",
       "</div>"
      ],
      "text/plain": [
       "                         open      high     close       low       volume  \\\n",
       "date                                                                       \n",
       "2016-01-04 00:00:00  3725.856  3726.245  3469.066  3468.949  115370672.0   \n",
       "2016-01-04 01:00:00  3725.856  3726.245  3469.066  3468.949  115370672.0   \n",
       "2016-01-04 02:00:00  3725.856  3726.245  3469.066  3468.949  115370672.0   \n",
       "2016-01-04 03:00:00  3725.856  3726.245  3469.066  3468.949  115370672.0   \n",
       "2016-01-04 04:00:00  3725.856  3726.245  3469.066  3468.949  115370672.0   \n",
       "...                       ...       ...       ...       ...          ...   \n",
       "2016-12-22 20:00:00  3335.120  3340.360  3335.670  3322.720   92277248.0   \n",
       "2016-12-22 21:00:00  3335.120  3340.360  3335.670  3322.720   92277248.0   \n",
       "2016-12-22 22:00:00  3335.120  3340.360  3335.670  3322.720   92277248.0   \n",
       "2016-12-22 23:00:00  3335.120  3340.360  3335.670  3322.720   92277248.0   \n",
       "2016-12-23 00:00:00  3333.400  3334.890  3307.600  3300.880   97444712.0   \n",
       "\n",
       "                        ...           ma10      ma20        v_ma5  \\\n",
       "date                    ...                                         \n",
       "2016-01-04 00:00:00     ...       3773.143  3726.205  115749635.2   \n",
       "2016-01-04 01:00:00     ...       3773.143  3726.205  115749635.2   \n",
       "2016-01-04 02:00:00     ...       3773.143  3726.205  115749635.2   \n",
       "2016-01-04 03:00:00     ...       3773.143  3726.205  115749635.2   \n",
       "2016-01-04 04:00:00     ...       3773.143  3726.205  115749635.2   \n",
       "...                     ...            ...       ...          ...   \n",
       "2016-12-22 20:00:00     ...       3368.558  3440.622   92103587.2   \n",
       "2016-12-22 21:00:00     ...       3368.558  3440.622   92103587.2   \n",
       "2016-12-22 22:00:00     ...       3368.558  3440.622   92103587.2   \n",
       "2016-12-22 23:00:00     ...       3368.558  3440.622   92103587.2   \n",
       "2016-12-23 00:00:00     ...       3349.948  3429.937   93437446.4   \n",
       "\n",
       "                          v_ma10       v_ma20  \n",
       "date                                           \n",
       "2016-01-04 00:00:00  145030968.0  138741052.8  \n",
       "2016-01-04 01:00:00  145030968.0  138741052.8  \n",
       "2016-01-04 02:00:00  145030968.0  138741052.8  \n",
       "2016-01-04 03:00:00  145030968.0  138741052.8  \n",
       "2016-01-04 04:00:00  145030968.0  138741052.8  \n",
       "...                          ...          ...  \n",
       "2016-12-22 20:00:00  115836250.4  141973738.0  \n",
       "2016-12-22 21:00:00  115836250.4  141973738.0  \n",
       "2016-12-22 22:00:00  115836250.4  141973738.0  \n",
       "2016-12-22 23:00:00  115836250.4  141973738.0  \n",
       "2016-12-23 00:00:00  110550392.0  139164898.4  \n",
       "\n",
       "[8497 rows x 13 columns]"
      ]
     },
     "execution_count": 45,
     "metadata": {},
     "output_type": "execute_result"
    }
   ],
   "source": [
    "goertek.asfreq('H',method='ffill')"
   ]
  },
  {
   "cell_type": "code",
   "execution_count": 46,
   "metadata": {
    "collapsed": true
   },
   "outputs": [],
   "source": [
    "goertek_m=pd.read_csv('../data/gertek_2016.csv',parse_dates=True,index_col='date')"
   ]
  },
  {
   "cell_type": "code",
   "execution_count": 47,
   "metadata": {
    "collapsed": false
   },
   "outputs": [
    {
     "data": {
      "text/html": [
       "<div>\n",
       "<table border=\"1\" class=\"dataframe\">\n",
       "  <thead>\n",
       "    <tr style=\"text-align: right;\">\n",
       "      <th></th>\n",
       "      <th>open</th>\n",
       "      <th>high</th>\n",
       "      <th>close</th>\n",
       "      <th>low</th>\n",
       "      <th>volume</th>\n",
       "      <th>...</th>\n",
       "      <th>ma10</th>\n",
       "      <th>ma20</th>\n",
       "      <th>v_ma5</th>\n",
       "      <th>v_ma10</th>\n",
       "      <th>v_ma20</th>\n",
       "    </tr>\n",
       "    <tr>\n",
       "      <th>date</th>\n",
       "      <th></th>\n",
       "      <th></th>\n",
       "      <th></th>\n",
       "      <th></th>\n",
       "      <th></th>\n",
       "      <th></th>\n",
       "      <th></th>\n",
       "      <th></th>\n",
       "      <th></th>\n",
       "      <th></th>\n",
       "      <th></th>\n",
       "    </tr>\n",
       "  </thead>\n",
       "  <tbody>\n",
       "    <tr>\n",
       "      <th>2016-12-22 15:00:00</th>\n",
       "      <td>3334.41</td>\n",
       "      <td>3335.63</td>\n",
       "      <td>3335.63</td>\n",
       "      <td>3332.22</td>\n",
       "      <td>7712410.0</td>\n",
       "      <td>...</td>\n",
       "      <td>3330.84</td>\n",
       "      <td>3331.32</td>\n",
       "      <td>5323810.0</td>\n",
       "      <td>4528870.0</td>\n",
       "      <td>5701990.0</td>\n",
       "    </tr>\n",
       "    <tr>\n",
       "      <th>2016-12-22 14:45:00</th>\n",
       "      <td>3339.31</td>\n",
       "      <td>3340.04</td>\n",
       "      <td>3334.36</td>\n",
       "      <td>3334.36</td>\n",
       "      <td>5514220.0</td>\n",
       "      <td>...</td>\n",
       "      <td>3330.25</td>\n",
       "      <td>3331.27</td>\n",
       "      <td>4604820.0</td>\n",
       "      <td>4151560.0</td>\n",
       "      <td>5685350.0</td>\n",
       "    </tr>\n",
       "    <tr>\n",
       "      <th>2016-12-22 14:30:00</th>\n",
       "      <td>3334.99</td>\n",
       "      <td>3339.39</td>\n",
       "      <td>3339.31</td>\n",
       "      <td>3332.52</td>\n",
       "      <td>4879690.0</td>\n",
       "      <td>...</td>\n",
       "      <td>3329.80</td>\n",
       "      <td>3331.50</td>\n",
       "      <td>4160060.0</td>\n",
       "      <td>4118640.0</td>\n",
       "      <td>5785230.0</td>\n",
       "    </tr>\n",
       "    <tr>\n",
       "      <th>2016-12-22 14:15:00</th>\n",
       "      <td>3331.56</td>\n",
       "      <td>3336.99</td>\n",
       "      <td>3335.10</td>\n",
       "      <td>3331.56</td>\n",
       "      <td>4383980.0</td>\n",
       "      <td>...</td>\n",
       "      <td>3328.52</td>\n",
       "      <td>3331.33</td>\n",
       "      <td>3909410.0</td>\n",
       "      <td>4263560.0</td>\n",
       "      <td>5786760.0</td>\n",
       "    </tr>\n",
       "    <tr>\n",
       "      <th>2016-12-22 14:00:00</th>\n",
       "      <td>3328.97</td>\n",
       "      <td>3331.21</td>\n",
       "      <td>3331.21</td>\n",
       "      <td>3328.01</td>\n",
       "      <td>4128750.0</td>\n",
       "      <td>...</td>\n",
       "      <td>3328.40</td>\n",
       "      <td>3331.38</td>\n",
       "      <td>3858020.0</td>\n",
       "      <td>4628960.0</td>\n",
       "      <td>5906510.0</td>\n",
       "    </tr>\n",
       "  </tbody>\n",
       "</table>\n",
       "<p>5 rows × 13 columns</p>\n",
       "</div>"
      ],
      "text/plain": [
       "                        open     high    close      low     volume    ...      \\\n",
       "date                                                                  ...       \n",
       "2016-12-22 15:00:00  3334.41  3335.63  3335.63  3332.22  7712410.0    ...       \n",
       "2016-12-22 14:45:00  3339.31  3340.04  3334.36  3334.36  5514220.0    ...       \n",
       "2016-12-22 14:30:00  3334.99  3339.39  3339.31  3332.52  4879690.0    ...       \n",
       "2016-12-22 14:15:00  3331.56  3336.99  3335.10  3331.56  4383980.0    ...       \n",
       "2016-12-22 14:00:00  3328.97  3331.21  3331.21  3328.01  4128750.0    ...       \n",
       "\n",
       "                        ma10     ma20      v_ma5     v_ma10     v_ma20  \n",
       "date                                                                    \n",
       "2016-12-22 15:00:00  3330.84  3331.32  5323810.0  4528870.0  5701990.0  \n",
       "2016-12-22 14:45:00  3330.25  3331.27  4604820.0  4151560.0  5685350.0  \n",
       "2016-12-22 14:30:00  3329.80  3331.50  4160060.0  4118640.0  5785230.0  \n",
       "2016-12-22 14:15:00  3328.52  3331.33  3909410.0  4263560.0  5786760.0  \n",
       "2016-12-22 14:00:00  3328.40  3331.38  3858020.0  4628960.0  5906510.0  \n",
       "\n",
       "[5 rows x 13 columns]"
      ]
     },
     "execution_count": 47,
     "metadata": {},
     "output_type": "execute_result"
    }
   ],
   "source": [
    "goertek_m.head()"
   ]
  },
  {
   "cell_type": "code",
   "execution_count": 51,
   "metadata": {
    "collapsed": false
   },
   "outputs": [],
   "source": [
    "goertek_resample=goertek_m.resample('30Min') #pandas 0.18 http://pandas.pydata.org/pandas-docs/version/0.18.0/whatsnew.html#resample-api"
   ]
  },
  {
   "cell_type": "code",
   "execution_count": 52,
   "metadata": {
    "collapsed": false
   },
   "outputs": [
    {
     "data": {
      "text/plain": [
       "pandas.tseries.resample.DatetimeIndexResampler"
      ]
     },
     "execution_count": 52,
     "metadata": {},
     "output_type": "execute_result"
    }
   ],
   "source": [
    "type(goertek_resample)"
   ]
  },
  {
   "cell_type": "code",
   "execution_count": 50,
   "metadata": {
    "collapsed": false
   },
   "outputs": [
    {
     "data": {
      "text/html": [
       "<div>\n",
       "<table border=\"1\" class=\"dataframe\">\n",
       "  <thead>\n",
       "    <tr style=\"text-align: right;\">\n",
       "      <th></th>\n",
       "      <th>open</th>\n",
       "      <th>high</th>\n",
       "      <th>close</th>\n",
       "      <th>low</th>\n",
       "      <th>volume</th>\n",
       "      <th>...</th>\n",
       "      <th>ma10</th>\n",
       "      <th>ma20</th>\n",
       "      <th>v_ma5</th>\n",
       "      <th>v_ma10</th>\n",
       "      <th>v_ma20</th>\n",
       "    </tr>\n",
       "    <tr>\n",
       "      <th>date</th>\n",
       "      <th></th>\n",
       "      <th></th>\n",
       "      <th></th>\n",
       "      <th></th>\n",
       "      <th></th>\n",
       "      <th></th>\n",
       "      <th></th>\n",
       "      <th></th>\n",
       "      <th></th>\n",
       "      <th></th>\n",
       "      <th></th>\n",
       "    </tr>\n",
       "  </thead>\n",
       "  <tbody>\n",
       "    <tr>\n",
       "      <th>2016-10-10 10:30:00</th>\n",
       "      <td>3263.620</td>\n",
       "      <td>3272.490</td>\n",
       "      <td>3272.120</td>\n",
       "      <td>3263.620</td>\n",
       "      <td>4251170.0</td>\n",
       "      <td>...</td>\n",
       "      <td>3260.320</td>\n",
       "      <td>3257.260</td>\n",
       "      <td>6711080.0</td>\n",
       "      <td>5132490.0</td>\n",
       "      <td>3723360.0</td>\n",
       "    </tr>\n",
       "    <tr>\n",
       "      <th>2016-10-10 11:00:00</th>\n",
       "      <td>3277.510</td>\n",
       "      <td>3280.080</td>\n",
       "      <td>3279.470</td>\n",
       "      <td>3276.810</td>\n",
       "      <td>4289200.0</td>\n",
       "      <td>...</td>\n",
       "      <td>3262.740</td>\n",
       "      <td>3258.580</td>\n",
       "      <td>4822160.0</td>\n",
       "      <td>5362790.0</td>\n",
       "      <td>3780180.0</td>\n",
       "    </tr>\n",
       "    <tr>\n",
       "      <th>2016-10-10 11:30:00</th>\n",
       "      <td>3279.470</td>\n",
       "      <td>3292.100</td>\n",
       "      <td>3291.250</td>\n",
       "      <td>3279.310</td>\n",
       "      <td>5250670.0</td>\n",
       "      <td>...</td>\n",
       "      <td>3265.930</td>\n",
       "      <td>3260.440</td>\n",
       "      <td>4565530.0</td>\n",
       "      <td>5557140.0</td>\n",
       "      <td>3905820.0</td>\n",
       "    </tr>\n",
       "    <tr>\n",
       "      <th>2016-10-10 12:00:00</th>\n",
       "      <td>NaN</td>\n",
       "      <td>NaN</td>\n",
       "      <td>NaN</td>\n",
       "      <td>NaN</td>\n",
       "      <td>NaN</td>\n",
       "      <td>...</td>\n",
       "      <td>NaN</td>\n",
       "      <td>NaN</td>\n",
       "      <td>NaN</td>\n",
       "      <td>NaN</td>\n",
       "      <td>NaN</td>\n",
       "    </tr>\n",
       "    <tr>\n",
       "      <th>2016-10-10 12:30:00</th>\n",
       "      <td>NaN</td>\n",
       "      <td>NaN</td>\n",
       "      <td>NaN</td>\n",
       "      <td>NaN</td>\n",
       "      <td>NaN</td>\n",
       "      <td>...</td>\n",
       "      <td>NaN</td>\n",
       "      <td>NaN</td>\n",
       "      <td>NaN</td>\n",
       "      <td>NaN</td>\n",
       "      <td>NaN</td>\n",
       "    </tr>\n",
       "    <tr>\n",
       "      <th>...</th>\n",
       "      <td>...</td>\n",
       "      <td>...</td>\n",
       "      <td>...</td>\n",
       "      <td>...</td>\n",
       "      <td>...</td>\n",
       "      <td>...</td>\n",
       "      <td>...</td>\n",
       "      <td>...</td>\n",
       "      <td>...</td>\n",
       "      <td>...</td>\n",
       "      <td>...</td>\n",
       "    </tr>\n",
       "    <tr>\n",
       "      <th>2016-12-22 13:00:00</th>\n",
       "      <td>3327.580</td>\n",
       "      <td>3328.270</td>\n",
       "      <td>3323.200</td>\n",
       "      <td>3323.120</td>\n",
       "      <td>3626460.0</td>\n",
       "      <td>...</td>\n",
       "      <td>3330.550</td>\n",
       "      <td>3331.650</td>\n",
       "      <td>4077220.0</td>\n",
       "      <td>6539310.0</td>\n",
       "      <td>6348340.0</td>\n",
       "    </tr>\n",
       "    <tr>\n",
       "      <th>2016-12-22 13:30:00</th>\n",
       "      <td>3324.625</td>\n",
       "      <td>3328.825</td>\n",
       "      <td>3327.610</td>\n",
       "      <td>3324.315</td>\n",
       "      <td>3703935.0</td>\n",
       "      <td>...</td>\n",
       "      <td>3328.815</td>\n",
       "      <td>3331.620</td>\n",
       "      <td>3716125.0</td>\n",
       "      <td>5723880.0</td>\n",
       "      <td>6146430.0</td>\n",
       "    </tr>\n",
       "    <tr>\n",
       "      <th>2016-12-22 14:00:00</th>\n",
       "      <td>3330.265</td>\n",
       "      <td>3334.100</td>\n",
       "      <td>3333.155</td>\n",
       "      <td>3329.785</td>\n",
       "      <td>4256365.0</td>\n",
       "      <td>...</td>\n",
       "      <td>3328.460</td>\n",
       "      <td>3331.355</td>\n",
       "      <td>3883715.0</td>\n",
       "      <td>4446260.0</td>\n",
       "      <td>5846635.0</td>\n",
       "    </tr>\n",
       "    <tr>\n",
       "      <th>2016-12-22 14:30:00</th>\n",
       "      <td>3337.150</td>\n",
       "      <td>3339.715</td>\n",
       "      <td>3336.835</td>\n",
       "      <td>3333.440</td>\n",
       "      <td>5196955.0</td>\n",
       "      <td>...</td>\n",
       "      <td>3330.025</td>\n",
       "      <td>3331.385</td>\n",
       "      <td>4382440.0</td>\n",
       "      <td>4135100.0</td>\n",
       "      <td>5735290.0</td>\n",
       "    </tr>\n",
       "    <tr>\n",
       "      <th>2016-12-22 15:00:00</th>\n",
       "      <td>3334.410</td>\n",
       "      <td>3335.630</td>\n",
       "      <td>3335.630</td>\n",
       "      <td>3332.220</td>\n",
       "      <td>7712410.0</td>\n",
       "      <td>...</td>\n",
       "      <td>3330.840</td>\n",
       "      <td>3331.320</td>\n",
       "      <td>5323810.0</td>\n",
       "      <td>4528870.0</td>\n",
       "      <td>5701990.0</td>\n",
       "    </tr>\n",
       "  </tbody>\n",
       "</table>\n",
       "<p>3514 rows × 13 columns</p>\n",
       "</div>"
      ],
      "text/plain": [
       "                         open      high     close       low     volume  \\\n",
       "date                                                                     \n",
       "2016-10-10 10:30:00  3263.620  3272.490  3272.120  3263.620  4251170.0   \n",
       "2016-10-10 11:00:00  3277.510  3280.080  3279.470  3276.810  4289200.0   \n",
       "2016-10-10 11:30:00  3279.470  3292.100  3291.250  3279.310  5250670.0   \n",
       "2016-10-10 12:00:00       NaN       NaN       NaN       NaN        NaN   \n",
       "2016-10-10 12:30:00       NaN       NaN       NaN       NaN        NaN   \n",
       "...                       ...       ...       ...       ...        ...   \n",
       "2016-12-22 13:00:00  3327.580  3328.270  3323.200  3323.120  3626460.0   \n",
       "2016-12-22 13:30:00  3324.625  3328.825  3327.610  3324.315  3703935.0   \n",
       "2016-12-22 14:00:00  3330.265  3334.100  3333.155  3329.785  4256365.0   \n",
       "2016-12-22 14:30:00  3337.150  3339.715  3336.835  3333.440  5196955.0   \n",
       "2016-12-22 15:00:00  3334.410  3335.630  3335.630  3332.220  7712410.0   \n",
       "\n",
       "                       ...          ma10      ma20      v_ma5     v_ma10  \\\n",
       "date                   ...                                                 \n",
       "2016-10-10 10:30:00    ...      3260.320  3257.260  6711080.0  5132490.0   \n",
       "2016-10-10 11:00:00    ...      3262.740  3258.580  4822160.0  5362790.0   \n",
       "2016-10-10 11:30:00    ...      3265.930  3260.440  4565530.0  5557140.0   \n",
       "2016-10-10 12:00:00    ...           NaN       NaN        NaN        NaN   \n",
       "2016-10-10 12:30:00    ...           NaN       NaN        NaN        NaN   \n",
       "...                    ...           ...       ...        ...        ...   \n",
       "2016-12-22 13:00:00    ...      3330.550  3331.650  4077220.0  6539310.0   \n",
       "2016-12-22 13:30:00    ...      3328.815  3331.620  3716125.0  5723880.0   \n",
       "2016-12-22 14:00:00    ...      3328.460  3331.355  3883715.0  4446260.0   \n",
       "2016-12-22 14:30:00    ...      3330.025  3331.385  4382440.0  4135100.0   \n",
       "2016-12-22 15:00:00    ...      3330.840  3331.320  5323810.0  4528870.0   \n",
       "\n",
       "                        v_ma20  \n",
       "date                            \n",
       "2016-10-10 10:30:00  3723360.0  \n",
       "2016-10-10 11:00:00  3780180.0  \n",
       "2016-10-10 11:30:00  3905820.0  \n",
       "2016-10-10 12:00:00        NaN  \n",
       "2016-10-10 12:30:00        NaN  \n",
       "...                        ...  \n",
       "2016-12-22 13:00:00  6348340.0  \n",
       "2016-12-22 13:30:00  6146430.0  \n",
       "2016-12-22 14:00:00  5846635.0  \n",
       "2016-12-22 14:30:00  5735290.0  \n",
       "2016-12-22 15:00:00  5701990.0  \n",
       "\n",
       "[3514 rows x 13 columns]"
      ]
     },
     "execution_count": 50,
     "metadata": {},
     "output_type": "execute_result"
    }
   ],
   "source": [
    "goertek_resample.mean()"
   ]
  },
  {
   "cell_type": "markdown",
   "metadata": {},
   "source": [
    "+ B, BM: This stands for business day, business month. These are the working\n",
    "days of the month, that is, any day that is not a holiday or a weekend.\n",
    "+  D, W, M, Q, A: It stands for calendar day, week, month, quarter, year-end.\n",
    "+  H, T, S, L, U: It stands for hour, minute, second, millisecond, and\n",
    "microsecond."
   ]
  },
  {
   "cell_type": "markdown",
   "metadata": {},
   "source": [
    "### 股票数据案例"
   ]
  },
  {
   "cell_type": "code",
   "execution_count": 53,
   "metadata": {
    "collapsed": true
   },
   "outputs": [],
   "source": [
    "import tushare as ts\n",
    "from datetime import datetime"
   ]
  },
  {
   "cell_type": "code",
   "execution_count": null,
   "metadata": {
    "collapsed": true
   },
   "outputs": [],
   "source": [
    "auto_list=['000625','600104','002594','601238']\n",
    "#auto_var=['changan','sqjt','byd','gqjt']"
   ]
  },
  {
   "cell_type": "code",
   "execution_count": 3,
   "metadata": {
    "collapsed": false
   },
   "outputs": [
    {
     "name": "stdout",
     "output_type": "stream",
     "text": [
      "[Getting data:]###"
     ]
    },
    {
     "name": "stderr",
     "output_type": "stream",
     "text": [
      "C:\\Anaconda\\envs\\py35\\lib\\site-packages\\tushare\\stock\\trading.py:446: FutureWarning: sort(columns=....) is deprecated, use sort_values(by=.....)\n",
      "  df = df.sort('date', ascending=False)\n"
     ]
    }
   ],
   "source": [
    "#for stock,var in zip(auto_list,auto_var):\n",
    "#    globals()[var] = ts.get_h_data(stock,'2016-01-01','2016-12-23')\n",
    "changan=ts.get_h_data('000625','2016-01-01','2016-12-23')"
   ]
  },
  {
   "cell_type": "code",
   "execution_count": 4,
   "metadata": {
    "collapsed": false
   },
   "outputs": [
    {
     "name": "stdout",
     "output_type": "stream",
     "text": [
      "[Getting data:]###"
     ]
    },
    {
     "name": "stderr",
     "output_type": "stream",
     "text": [
      "C:\\Anaconda\\envs\\py35\\lib\\site-packages\\tushare\\stock\\trading.py:446: FutureWarning: sort(columns=....) is deprecated, use sort_values(by=.....)\n",
      "  df = df.sort('date', ascending=False)\n"
     ]
    }
   ],
   "source": [
    "sqjt=ts.get_h_data('600104','2016-01-01','2016-12-23')"
   ]
  },
  {
   "cell_type": "code",
   "execution_count": 5,
   "metadata": {
    "collapsed": false
   },
   "outputs": [
    {
     "name": "stdout",
     "output_type": "stream",
     "text": [
      "[Getting data:]###"
     ]
    },
    {
     "name": "stderr",
     "output_type": "stream",
     "text": [
      "C:\\Anaconda\\envs\\py35\\lib\\site-packages\\tushare\\stock\\trading.py:446: FutureWarning: sort(columns=....) is deprecated, use sort_values(by=.....)\n",
      "  df = df.sort('date', ascending=False)\n"
     ]
    }
   ],
   "source": [
    "byd=ts.get_h_data('002594','2016-01-01','2016-12-23')"
   ]
  },
  {
   "cell_type": "code",
   "execution_count": 6,
   "metadata": {
    "collapsed": false
   },
   "outputs": [
    {
     "name": "stdout",
     "output_type": "stream",
     "text": [
      "[Getting data:]###"
     ]
    },
    {
     "name": "stderr",
     "output_type": "stream",
     "text": [
      "C:\\Anaconda\\envs\\py35\\lib\\site-packages\\tushare\\stock\\trading.py:446: FutureWarning: sort(columns=....) is deprecated, use sort_values(by=.....)\n",
      "  df = df.sort('date', ascending=False)\n"
     ]
    }
   ],
   "source": [
    "gqjt=ts.get_h_data('601238','2016-01-01','2016-12-23')"
   ]
  },
  {
   "cell_type": "code",
   "execution_count": 54,
   "metadata": {
    "collapsed": false
   },
   "outputs": [
    {
     "data": {
      "text/html": [
       "<div>\n",
       "<table border=\"1\" class=\"dataframe\">\n",
       "  <thead>\n",
       "    <tr style=\"text-align: right;\">\n",
       "      <th></th>\n",
       "      <th>open</th>\n",
       "      <th>high</th>\n",
       "      <th>close</th>\n",
       "      <th>low</th>\n",
       "      <th>volume</th>\n",
       "      <th>amount</th>\n",
       "    </tr>\n",
       "    <tr>\n",
       "      <th>date</th>\n",
       "      <th></th>\n",
       "      <th></th>\n",
       "      <th></th>\n",
       "      <th></th>\n",
       "      <th></th>\n",
       "      <th></th>\n",
       "    </tr>\n",
       "  </thead>\n",
       "  <tbody>\n",
       "    <tr>\n",
       "      <th>2016-12-23</th>\n",
       "      <td>15.25</td>\n",
       "      <td>15.25</td>\n",
       "      <td>15.03</td>\n",
       "      <td>14.99</td>\n",
       "      <td>17339349.0</td>\n",
       "      <td>261627029.0</td>\n",
       "    </tr>\n",
       "    <tr>\n",
       "      <th>2016-12-22</th>\n",
       "      <td>15.25</td>\n",
       "      <td>15.35</td>\n",
       "      <td>15.26</td>\n",
       "      <td>15.11</td>\n",
       "      <td>21042253.0</td>\n",
       "      <td>320306792.0</td>\n",
       "    </tr>\n",
       "    <tr>\n",
       "      <th>2016-12-21</th>\n",
       "      <td>15.12</td>\n",
       "      <td>15.27</td>\n",
       "      <td>15.25</td>\n",
       "      <td>15.09</td>\n",
       "      <td>18803404.0</td>\n",
       "      <td>285494781.0</td>\n",
       "    </tr>\n",
       "    <tr>\n",
       "      <th>2016-12-20</th>\n",
       "      <td>15.19</td>\n",
       "      <td>15.22</td>\n",
       "      <td>15.06</td>\n",
       "      <td>14.98</td>\n",
       "      <td>16265938.0</td>\n",
       "      <td>245299075.0</td>\n",
       "    </tr>\n",
       "    <tr>\n",
       "      <th>2016-12-19</th>\n",
       "      <td>15.28</td>\n",
       "      <td>15.33</td>\n",
       "      <td>15.17</td>\n",
       "      <td>15.12</td>\n",
       "      <td>14068049.0</td>\n",
       "      <td>214149866.0</td>\n",
       "    </tr>\n",
       "  </tbody>\n",
       "</table>\n",
       "</div>"
      ],
      "text/plain": [
       "             open   high  close    low      volume       amount\n",
       "date                                                           \n",
       "2016-12-23  15.25  15.25  15.03  14.99  17339349.0  261627029.0\n",
       "2016-12-22  15.25  15.35  15.26  15.11  21042253.0  320306792.0\n",
       "2016-12-21  15.12  15.27  15.25  15.09  18803404.0  285494781.0\n",
       "2016-12-20  15.19  15.22  15.06  14.98  16265938.0  245299075.0\n",
       "2016-12-19  15.28  15.33  15.17  15.12  14068049.0  214149866.0"
      ]
     },
     "execution_count": 54,
     "metadata": {},
     "output_type": "execute_result"
    }
   ],
   "source": [
    "#changan=pd.read_csv('../data/changan.csv',index_col='date',parse_dates=True)\n",
    "changan.head()"
   ]
  },
  {
   "cell_type": "code",
   "execution_count": 55,
   "metadata": {
    "collapsed": false,
    "scrolled": true
   },
   "outputs": [
    {
     "data": {
      "text/html": [
       "<div>\n",
       "<table border=\"1\" class=\"dataframe\">\n",
       "  <thead>\n",
       "    <tr style=\"text-align: right;\">\n",
       "      <th></th>\n",
       "      <th>open</th>\n",
       "      <th>high</th>\n",
       "      <th>close</th>\n",
       "      <th>low</th>\n",
       "      <th>volume</th>\n",
       "      <th>amount</th>\n",
       "    </tr>\n",
       "  </thead>\n",
       "  <tbody>\n",
       "    <tr>\n",
       "      <th>count</th>\n",
       "      <td>219.000000</td>\n",
       "      <td>219.000000</td>\n",
       "      <td>219.000000</td>\n",
       "      <td>219.000000</td>\n",
       "      <td>2.190000e+02</td>\n",
       "      <td>2.190000e+02</td>\n",
       "    </tr>\n",
       "    <tr>\n",
       "      <th>mean</th>\n",
       "      <td>14.965479</td>\n",
       "      <td>15.166027</td>\n",
       "      <td>14.959863</td>\n",
       "      <td>14.776484</td>\n",
       "      <td>2.967817e+07</td>\n",
       "      <td>4.572622e+08</td>\n",
       "    </tr>\n",
       "    <tr>\n",
       "      <th>std</th>\n",
       "      <td>0.974644</td>\n",
       "      <td>0.977192</td>\n",
       "      <td>0.966045</td>\n",
       "      <td>0.980935</td>\n",
       "      <td>1.816421e+07</td>\n",
       "      <td>2.902145e+08</td>\n",
       "    </tr>\n",
       "    <tr>\n",
       "      <th>min</th>\n",
       "      <td>13.180000</td>\n",
       "      <td>13.380000</td>\n",
       "      <td>13.070000</td>\n",
       "      <td>12.790000</td>\n",
       "      <td>8.074326e+06</td>\n",
       "      <td>1.254679e+08</td>\n",
       "    </tr>\n",
       "    <tr>\n",
       "      <th>25%</th>\n",
       "      <td>13.970000</td>\n",
       "      <td>14.190000</td>\n",
       "      <td>13.960000</td>\n",
       "      <td>13.785000</td>\n",
       "      <td>1.739413e+07</td>\n",
       "      <td>2.612642e+08</td>\n",
       "    </tr>\n",
       "    <tr>\n",
       "      <th>50%</th>\n",
       "      <td>15.280000</td>\n",
       "      <td>15.500000</td>\n",
       "      <td>15.280000</td>\n",
       "      <td>15.090000</td>\n",
       "      <td>2.552496e+07</td>\n",
       "      <td>3.804228e+08</td>\n",
       "    </tr>\n",
       "    <tr>\n",
       "      <th>75%</th>\n",
       "      <td>15.715000</td>\n",
       "      <td>15.910000</td>\n",
       "      <td>15.715000</td>\n",
       "      <td>15.570000</td>\n",
       "      <td>3.458674e+07</td>\n",
       "      <td>5.210668e+08</td>\n",
       "    </tr>\n",
       "    <tr>\n",
       "      <th>max</th>\n",
       "      <td>16.710000</td>\n",
       "      <td>17.260000</td>\n",
       "      <td>16.770000</td>\n",
       "      <td>16.500000</td>\n",
       "      <td>1.360965e+08</td>\n",
       "      <td>2.020822e+09</td>\n",
       "    </tr>\n",
       "  </tbody>\n",
       "</table>\n",
       "</div>"
      ],
      "text/plain": [
       "             open        high       close         low        volume  \\\n",
       "count  219.000000  219.000000  219.000000  219.000000  2.190000e+02   \n",
       "mean    14.965479   15.166027   14.959863   14.776484  2.967817e+07   \n",
       "std      0.974644    0.977192    0.966045    0.980935  1.816421e+07   \n",
       "min     13.180000   13.380000   13.070000   12.790000  8.074326e+06   \n",
       "25%     13.970000   14.190000   13.960000   13.785000  1.739413e+07   \n",
       "50%     15.280000   15.500000   15.280000   15.090000  2.552496e+07   \n",
       "75%     15.715000   15.910000   15.715000   15.570000  3.458674e+07   \n",
       "max     16.710000   17.260000   16.770000   16.500000  1.360965e+08   \n",
       "\n",
       "             amount  \n",
       "count  2.190000e+02  \n",
       "mean   4.572622e+08  \n",
       "std    2.902145e+08  \n",
       "min    1.254679e+08  \n",
       "25%    2.612642e+08  \n",
       "50%    3.804228e+08  \n",
       "75%    5.210668e+08  \n",
       "max    2.020822e+09  "
      ]
     },
     "execution_count": 55,
     "metadata": {},
     "output_type": "execute_result"
    }
   ],
   "source": [
    "changan.describe()"
   ]
  },
  {
   "cell_type": "code",
   "execution_count": 56,
   "metadata": {
    "collapsed": false,
    "scrolled": true
   },
   "outputs": [
    {
     "name": "stdout",
     "output_type": "stream",
     "text": [
      "<class 'pandas.core.frame.DataFrame'>\n",
      "DatetimeIndex: 219 entries, 2016-12-23 to 2016-01-04\n",
      "Data columns (total 6 columns):\n",
      "open      219 non-null float64\n",
      "high      219 non-null float64\n",
      "close     219 non-null float64\n",
      "low       219 non-null float64\n",
      "volume    219 non-null float64\n",
      "amount    219 non-null float64\n",
      "dtypes: float64(6)\n",
      "memory usage: 12.0 KB\n"
     ]
    }
   ],
   "source": [
    "changan.info()"
   ]
  },
  {
   "cell_type": "code",
   "execution_count": 57,
   "metadata": {
    "collapsed": false
   },
   "outputs": [
    {
     "data": {
      "text/plain": [
       "<matplotlib.axes._subplots.AxesSubplot at 0xc942a20>"
      ]
     },
     "execution_count": 57,
     "metadata": {},
     "output_type": "execute_result"
    },
    {
     "data": {
      "image/png": "[encoded data removed]",
      "text/plain": [
       "<matplotlib.figure.Figure at 0xc8eccc0>"
      ]
     },
     "metadata": {},
     "output_type": "display_data"
    }
   ],
   "source": [
    "changan['close'].plot(legend=True,figsize=(10,4))"
   ]
  },
  {
   "cell_type": "code",
   "execution_count": 58,
   "metadata": {
    "collapsed": false
   },
   "outputs": [
    {
     "data": {
      "text/plain": [
       "<matplotlib.axes._subplots.AxesSubplot at 0xaf89438>"
      ]
     },
     "execution_count": 58,
     "metadata": {},
     "output_type": "execute_result"
    },
    {
     "data": {
      "image/png": "[encoded data removed]",
      "text/plain": [
       "<matplotlib.figure.Figure at 0xaf9c828>"
      ]
     },
     "metadata": {},
     "output_type": "display_data"
    }
   ],
   "source": [
    "changan['volume'].plot(legend=True,figsize=(10,4))"
   ]
  },
  {
   "cell_type": "code",
   "execution_count": 60,
   "metadata": {
    "collapsed": false
   },
   "outputs": [],
   "source": [
    "ma_day = [10,20,50]\n",
    "\n",
    "for ma in ma_day:\n",
    "    column_name = \"MA for %s days\" %(str(ma))\n",
    "    changan[column_name] = changan['close'].rolling(window=ma).mean()\n",
    "    #changan[column_name] = pd.rolling_mean(changan['close'],ma)"
   ]
  },
  {
   "cell_type": "code",
   "execution_count": 61,
   "metadata": {
    "collapsed": false
   },
   "outputs": [
    {
     "data": {
      "text/plain": [
       "<matplotlib.axes._subplots.AxesSubplot at 0xafcba58>"
      ]
     },
     "execution_count": 61,
     "metadata": {},
     "output_type": "execute_result"
    },
    {
     "data": {
      "image/png": "[encoded data removed]",
      "text/plain": [
       "<matplotlib.figure.Figure at 0xafc5588>"
      ]
     },
     "metadata": {},
     "output_type": "display_data"
    }
   ],
   "source": [
    "changan[['close','MA for 10 days','MA for 20 days','MA for 50 days']].plot(subplots=False,figsize=(10,4))"
   ]
  },
  {
   "cell_type": "code",
   "execution_count": 62,
   "metadata": {
    "collapsed": false
   },
   "outputs": [
    {
     "data": {
      "text/plain": [
       "<matplotlib.axes._subplots.AxesSubplot at 0xcc8aef0>"
      ]
     },
     "execution_count": 62,
     "metadata": {},
     "output_type": "execute_result"
    },
    {
     "data": {
      "image/png": "[encoded data removed]",
      "text/plain": [
       "<matplotlib.figure.Figure at 0xcfeeac8>"
      ]
     },
     "metadata": {},
     "output_type": "display_data"
    }
   ],
   "source": [
    "changan['Daily Return'] = changan['close'].pct_change()\n",
    "changan['Daily Return'].plot(figsize=(10,4),legend=True,linestyle='--',marker='o')\n"
   ]
  },
  {
   "cell_type": "code",
   "execution_count": 63,
   "metadata": {
    "collapsed": false
   },
   "outputs": [
    {
     "name": "stderr",
     "output_type": "stream",
     "text": [
      "C:\\Anaconda\\envs\\py35\\lib\\site-packages\\statsmodels\\nonparametric\\kdetools.py:20: VisibleDeprecationWarning: using a non-integer number instead of an integer will result in an error in the future\n",
      "  y = X[:m/2+1] + np.r_[0,X[m/2+1:],0]*1j\n"
     ]
    },
    {
     "data": {
      "image/png": "[encoded data removed]",
      "text/plain": [
       "<matplotlib.figure.Figure at 0xc39c2e8>"
      ]
     },
     "metadata": {},
     "output_type": "display_data"
    }
   ],
   "source": [
    "sns.distplot(changan['Daily Return'].dropna(),bins=100, color = 'purple');"
   ]
  },
  {
   "cell_type": "code",
   "execution_count": 64,
   "metadata": {
    "collapsed": false
   },
   "outputs": [
    {
     "data": {
      "text/plain": [
       "<matplotlib.axes._subplots.AxesSubplot at 0xd29e9e8>"
      ]
     },
     "execution_count": 64,
     "metadata": {},
     "output_type": "execute_result"
    },
    {
     "data": {
      "image/png": "[encoded data removed]",
      "text/plain": [
       "<matplotlib.figure.Figure at 0xd213588>"
      ]
     },
     "metadata": {},
     "output_type": "display_data"
    }
   ],
   "source": [
    "changan['Daily Return'].hist(bins=100)"
   ]
  },
  {
   "cell_type": "code",
   "execution_count": null,
   "metadata": {
    "collapsed": true
   },
   "outputs": [],
   "source": [
    "#gqjt=pd.read_csv('../data/gqjt_2016.csv',index_col='date',parse_dates=True)"
   ]
  },
  {
   "cell_type": "code",
   "execution_count": 65,
   "metadata": {
    "collapsed": false
   },
   "outputs": [],
   "source": [
    "closing_df = pd.DataFrame({'changan':changan['close'],'gqjt':gqjt['close'],'byd':byd['close']})"
   ]
  },
  {
   "cell_type": "code",
   "execution_count": 66,
   "metadata": {
    "collapsed": false
   },
   "outputs": [
    {
     "data": {
      "text/html": [
       "<div>\n",
       "<table border=\"1\" class=\"dataframe\">\n",
       "  <thead>\n",
       "    <tr style=\"text-align: right;\">\n",
       "      <th></th>\n",
       "      <th>byd</th>\n",
       "      <th>changan</th>\n",
       "      <th>gqjt</th>\n",
       "    </tr>\n",
       "    <tr>\n",
       "      <th>date</th>\n",
       "      <th></th>\n",
       "      <th></th>\n",
       "      <th></th>\n",
       "    </tr>\n",
       "  </thead>\n",
       "  <tbody>\n",
       "    <tr>\n",
       "      <th>2016-01-04</th>\n",
       "      <td>58.33</td>\n",
       "      <td>14.70</td>\n",
       "      <td>20.17</td>\n",
       "    </tr>\n",
       "    <tr>\n",
       "      <th>2016-01-05</th>\n",
       "      <td>58.92</td>\n",
       "      <td>14.87</td>\n",
       "      <td>20.95</td>\n",
       "    </tr>\n",
       "    <tr>\n",
       "      <th>2016-01-06</th>\n",
       "      <td>59.98</td>\n",
       "      <td>15.43</td>\n",
       "      <td>22.03</td>\n",
       "    </tr>\n",
       "    <tr>\n",
       "      <th>2016-01-07</th>\n",
       "      <td>55.01</td>\n",
       "      <td>14.21</td>\n",
       "      <td>20.25</td>\n",
       "    </tr>\n",
       "    <tr>\n",
       "      <th>2016-01-08</th>\n",
       "      <td>59.00</td>\n",
       "      <td>14.94</td>\n",
       "      <td>21.85</td>\n",
       "    </tr>\n",
       "  </tbody>\n",
       "</table>\n",
       "</div>"
      ],
      "text/plain": [
       "              byd  changan   gqjt\n",
       "date                             \n",
       "2016-01-04  58.33    14.70  20.17\n",
       "2016-01-05  58.92    14.87  20.95\n",
       "2016-01-06  59.98    15.43  22.03\n",
       "2016-01-07  55.01    14.21  20.25\n",
       "2016-01-08  59.00    14.94  21.85"
      ]
     },
     "execution_count": 66,
     "metadata": {},
     "output_type": "execute_result"
    }
   ],
   "source": [
    "closing_df.head()"
   ]
  },
  {
   "cell_type": "code",
   "execution_count": 67,
   "metadata": {
    "collapsed": true
   },
   "outputs": [],
   "source": [
    "auto_rets = closing_df.pct_change()"
   ]
  },
  {
   "cell_type": "code",
   "execution_count": 68,
   "metadata": {
    "collapsed": false
   },
   "outputs": [
    {
     "data": {
      "text/html": [
       "<div>\n",
       "<table border=\"1\" class=\"dataframe\">\n",
       "  <thead>\n",
       "    <tr style=\"text-align: right;\">\n",
       "      <th></th>\n",
       "      <th>byd</th>\n",
       "      <th>changan</th>\n",
       "      <th>gqjt</th>\n",
       "    </tr>\n",
       "    <tr>\n",
       "      <th>date</th>\n",
       "      <th></th>\n",
       "      <th></th>\n",
       "      <th></th>\n",
       "    </tr>\n",
       "  </thead>\n",
       "  <tbody>\n",
       "    <tr>\n",
       "      <th>2016-01-04</th>\n",
       "      <td>NaN</td>\n",
       "      <td>NaN</td>\n",
       "      <td>NaN</td>\n",
       "    </tr>\n",
       "    <tr>\n",
       "      <th>2016-01-05</th>\n",
       "      <td>0.010115</td>\n",
       "      <td>0.011565</td>\n",
       "      <td>0.038671</td>\n",
       "    </tr>\n",
       "    <tr>\n",
       "      <th>2016-01-06</th>\n",
       "      <td>0.017990</td>\n",
       "      <td>0.037660</td>\n",
       "      <td>0.051551</td>\n",
       "    </tr>\n",
       "    <tr>\n",
       "      <th>2016-01-07</th>\n",
       "      <td>-0.082861</td>\n",
       "      <td>-0.079067</td>\n",
       "      <td>-0.080799</td>\n",
       "    </tr>\n",
       "    <tr>\n",
       "      <th>2016-01-08</th>\n",
       "      <td>0.072532</td>\n",
       "      <td>0.051372</td>\n",
       "      <td>0.079012</td>\n",
       "    </tr>\n",
       "  </tbody>\n",
       "</table>\n",
       "</div>"
      ],
      "text/plain": [
       "                 byd   changan      gqjt\n",
       "date                                    \n",
       "2016-01-04       NaN       NaN       NaN\n",
       "2016-01-05  0.010115  0.011565  0.038671\n",
       "2016-01-06  0.017990  0.037660  0.051551\n",
       "2016-01-07 -0.082861 -0.079067 -0.080799\n",
       "2016-01-08  0.072532  0.051372  0.079012"
      ]
     },
     "execution_count": 68,
     "metadata": {},
     "output_type": "execute_result"
    }
   ],
   "source": [
    "auto_rets.head()"
   ]
  },
  {
   "cell_type": "code",
   "execution_count": 69,
   "metadata": {
    "collapsed": false
   },
   "outputs": [
    {
     "data": {
      "text/plain": [
       "<seaborn.axisgrid.JointGrid at 0xe60eba8>"
      ]
     },
     "execution_count": 69,
     "metadata": {},
     "output_type": "execute_result"
    },
    {
     "data": {
      "image/png": "[encoded data removed]",
      "text/plain": [
       "<matplotlib.figure.Figure at 0xe60ea58>"
      ]
     },
     "metadata": {},
     "output_type": "display_data"
    }
   ],
   "source": [
    "sns.jointplot('changan','changan',auto_rets,\n",
    "              kind='scatter',color = 'seagreen')"
   ]
  },
  {
   "cell_type": "code",
   "execution_count": 71,
   "metadata": {
    "collapsed": false
   },
   "outputs": [
    {
     "data": {
      "text/plain": [
       "<seaborn.axisgrid.JointGrid at 0xe510f28>"
      ]
     },
     "execution_count": 71,
     "metadata": {},
     "output_type": "execute_result"
    },
    {
     "data": {
      "image/png": "[encoded data removed]",
      "text/plain": [
       "<matplotlib.figure.Figure at 0xe510be0>"
      ]
     },
     "metadata": {},
     "output_type": "display_data"
    }
   ],
   "source": [
    "sns.jointplot('changan','byd',auto_rets,kind='scatter')"
   ]
  },
  {
   "cell_type": "code",
   "execution_count": 72,
   "metadata": {
    "collapsed": false
   },
   "outputs": [
    {
     "data": {
      "text/plain": [
       "<seaborn.axisgrid.PairGrid at 0xe510e80>"
      ]
     },
     "execution_count": 72,
     "metadata": {},
     "output_type": "execute_result"
    },
    {
     "data": {
      "image/png": "[encoded data removed]",
      "text/plain": [
       "<matplotlib.figure.Figure at 0xe540208>"
      ]
     },
     "metadata": {},
     "output_type": "display_data"
    }
   ],
   "source": [
    "sns.pairplot(auto_rets.dropna())"
   ]
  },
  {
   "cell_type": "code",
   "execution_count": 80,
   "metadata": {
    "collapsed": false
   },
   "outputs": [
    {
     "ename": "AttributeError",
     "evalue": "module 'seaborn' has no attribute 'corrplot'",
     "output_type": "error",
     "traceback": [
      "\u001b[0;31m---------------------------------------------------------------------------\u001b[0m",
      "\u001b[0;31mAttributeError\u001b[0m                            Traceback (most recent call last)",
      "\u001b[0;32m<ipython-input-80-d87278520219>\u001b[0m in \u001b[0;36m<module>\u001b[0;34m()\u001b[0m\n\u001b[0;32m----> 1\u001b[0;31m \u001b[0msns\u001b[0m\u001b[1;33m.\u001b[0m\u001b[0mcorrplot\u001b[0m\u001b[1;33m(\u001b[0m\u001b[0mclosing_df\u001b[0m\u001b[1;33m,\u001b[0m\u001b[0mannot\u001b[0m\u001b[1;33m=\u001b[0m\u001b[1;32mTrue\u001b[0m\u001b[1;33m)\u001b[0m\u001b[1;33m\u001b[0m\u001b[0m\n\u001b[0m",
      "\u001b[0;31mAttributeError\u001b[0m: module 'seaborn' has no attribute 'corrplot'"
     ]
    }
   ],
   "source": [
    "sns.corrplot(closing_df,annot=True)"
   ]
  },
  {
   "cell_type": "code",
   "execution_count": 87,
   "metadata": {
    "collapsed": false
   },
   "outputs": [
    {
     "data": {
      "text/html": [
       "<div>\n",
       "<table border=\"1\" class=\"dataframe\">\n",
       "  <thead>\n",
       "    <tr style=\"text-align: right;\">\n",
       "      <th></th>\n",
       "      <th>byd</th>\n",
       "      <th>changan</th>\n",
       "      <th>gqjt</th>\n",
       "    </tr>\n",
       "  </thead>\n",
       "  <tbody>\n",
       "    <tr>\n",
       "      <th>byd</th>\n",
       "      <td>1.000000</td>\n",
       "      <td>-0.008177</td>\n",
       "      <td>0.307989</td>\n",
       "    </tr>\n",
       "    <tr>\n",
       "      <th>changan</th>\n",
       "      <td>-0.008177</td>\n",
       "      <td>1.000000</td>\n",
       "      <td>0.503492</td>\n",
       "    </tr>\n",
       "    <tr>\n",
       "      <th>gqjt</th>\n",
       "      <td>0.307989</td>\n",
       "      <td>0.503492</td>\n",
       "      <td>1.000000</td>\n",
       "    </tr>\n",
       "  </tbody>\n",
       "</table>\n",
       "</div>"
      ],
      "text/plain": [
       "              byd   changan      gqjt\n",
       "byd      1.000000 -0.008177  0.307989\n",
       "changan -0.008177  1.000000  0.503492\n",
       "gqjt     0.307989  0.503492  1.000000"
      ]
     },
     "execution_count": 87,
     "metadata": {},
     "output_type": "execute_result"
    }
   ],
   "source": [
    "corr=closing_df.corr()\n",
    "corr"
   ]
  },
  {
   "cell_type": "code",
   "execution_count": 86,
   "metadata": {
    "collapsed": false
   },
   "outputs": [
    {
     "data": {
      "text/plain": [
       "<matplotlib.axes._subplots.AxesSubplot at 0x134d4cc0>"
      ]
     },
     "execution_count": 86,
     "metadata": {},
     "output_type": "execute_result"
    },
    {
     "data": {
      "image/png": "[encoded data removed]",
      "text/plain": [
       "<matplotlib.figure.Figure at 0x134db358>"
      ]
     },
     "metadata": {},
     "output_type": "display_data"
    }
   ],
   "source": [
    "sns.heatmap(corr,annot=True)"
   ]
  },
  {
   "cell_type": "code",
   "execution_count": 81,
   "metadata": {
    "collapsed": true
   },
   "outputs": [],
   "source": [
    "sns.heatmap?"
   ]
  },
  {
   "cell_type": "code",
   "execution_count": null,
   "metadata": {
    "collapsed": true
   },
   "outputs": [],
   "source": []
  }
 ],
 "metadata": {
  "anaconda-cloud": {},
  "kernelspec": {
   "display_name": "Python [default]",
   "language": "python",
   "name": "python3"
  },
  "language_info": {
   "codemirror_mode": {
    "name": "ipython",
    "version": 3
   },
   "file_extension": ".py",
   "mimetype": "text/x-python",
   "name": "python",
   "nbconvert_exporter": "python",
   "pygments_lexer": "ipython3",
   "version": "3.5.2"
  }
 },
 "nbformat": 4,
 "nbformat_minor": 0
}
